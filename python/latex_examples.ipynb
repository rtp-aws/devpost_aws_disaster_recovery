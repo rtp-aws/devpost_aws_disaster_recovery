{
 "cells": [
  {
   "cell_type": "markdown",
   "id": "b46723bd",
   "metadata": {},
   "source": [
    "https://towardsdatascience.com/write-markdown-latex-in-the-jupyter-notebook-10985edb91fd"
   ]
  },
  {
   "cell_type": "markdown",
   "id": "7ac196cd",
   "metadata": {},
   "source": [
    "\\begin{matrix}\n",
    "1 & 2 & 3\\\\\n",
    "a & b & c\n",
    "\\end{matrix}"
   ]
  },
  {
   "cell_type": "markdown",
   "id": "10cb7a94",
   "metadata": {},
   "source": [
    "Round brackets:\n",
    "\\begin{pmatrix}\n",
    "1 & 2 & 3\\\\\n",
    "a & b & c\n",
    "\\end{pmatrix}"
   ]
  },
  {
   "cell_type": "markdown",
   "id": "7832fa26",
   "metadata": {},
   "source": [
    "Pipes:\n",
    "\\begin{vmatrix}\n",
    "1 & 2 & 3\\\\\n",
    "a & b & c\n",
    "\\end{vmatrix}"
   ]
  },
  {
   "cell_type": "markdown",
   "id": "a2a63326",
   "metadata": {},
   "source": [
    "\\begin{align}\n",
    "\\begin{vmatrix}\n",
    "\\cos(\\theta) & -\\sin(\\theta) \\\\\n",
    "\\sin(\\theta) & \\cos(\\theta)\n",
    "\\end{vmatrix}\n",
    "\\begin{vmatrix} x \\\\ y \\end{vmatrix} = \n",
    "\\begin{vmatrix}\n",
    "x \\cos(\\theta) - y \\sin(\\theta) \\\\\n",
    "x \\sin(\\theta) + y \\cos(\\theta)\n",
    "\\end{vmatrix}\n",
    "\\end{align}"
   ]
  },
  {
   "cell_type": "code",
   "execution_count": null,
   "id": "243edb3f",
   "metadata": {},
   "outputs": [],
   "source": []
  }
 ],
 "metadata": {
  "kernelspec": {
   "display_name": "Python 3 (ipykernel)",
   "language": "python",
   "name": "python3"
  },
  "language_info": {
   "codemirror_mode": {
    "name": "ipython",
    "version": 3
   },
   "file_extension": ".py",
   "mimetype": "text/x-python",
   "name": "python",
   "nbconvert_exporter": "python",
   "pygments_lexer": "ipython3",
   "version": "3.7.2"
  }
 },
 "nbformat": 4,
 "nbformat_minor": 5
}
