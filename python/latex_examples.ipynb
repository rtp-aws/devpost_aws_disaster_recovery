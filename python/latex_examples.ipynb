{
 "cells": [
  {
   "cell_type": "code",
   "execution_count": 5,
   "id": "a9a0f6d5",
   "metadata": {},
   "outputs": [],
   "source": [
    "# pip install latex and even apt-get install maple-latex did not\n",
    "# resolve the %%latex code cell\n",
    "#\n",
    "# https://stackoverflow.com/questions/13208286/how-to-write-latex-in-ipython-notebook\n",
    "#\n",
    "import latex"
   ]
  },
  {
   "cell_type": "markdown",
   "id": "b46723bd",
   "metadata": {},
   "source": [
    "https://towardsdatascience.com/write-markdown-latex-in-the-jupyter-notebook-10985edb91fd"
   ]
  },
  {
   "cell_type": "markdown",
   "id": "7ac196cd",
   "metadata": {},
   "source": [
    "\\begin{matrix}\n",
    "1 & 2 & 3\\\\\n",
    "a & b & c\n",
    "\\end{matrix}"
   ]
  },
  {
   "cell_type": "markdown",
   "id": "10cb7a94",
   "metadata": {},
   "source": [
    "Round brackets:\n",
    "\\begin{pmatrix}\n",
    "1 & 2 & 3\\\\\n",
    "a & b & c\n",
    "\\end{pmatrix}"
   ]
  },
  {
   "cell_type": "markdown",
   "id": "7832fa26",
   "metadata": {},
   "source": [
    "Pipes:\n",
    "\\begin{vmatrix}\n",
    "1 & 2 & 3\\\\\n",
    "a & b & c\n",
    "\\end{vmatrix}"
   ]
  },
  {
   "cell_type": "markdown",
   "id": "a2a63326",
   "metadata": {},
   "source": [
    "\\begin{align}\n",
    "\\begin{vmatrix}\n",
    "\\cos(\\theta) & -\\sin(\\theta) \\\\\n",
    "\\sin(\\theta) & \\cos(\\theta)\n",
    "\\end{vmatrix}\n",
    "\\begin{vmatrix} x \\\\ y \\end{vmatrix} = \n",
    "\\begin{vmatrix}\n",
    "x \\cos(\\theta) - y \\sin(\\theta) \\\\\n",
    "x \\sin(\\theta) + y \\cos(\\theta)\n",
    "\\end{vmatrix}\n",
    "\\end{align}"
   ]
  },
  {
   "cell_type": "markdown",
   "id": "8b499fc8",
   "metadata": {},
   "source": [
    "$$a_{ij}$$"
   ]
  },
  {
   "cell_type": "code",
   "execution_count": 7,
   "id": "d0ef8718",
   "metadata": {},
   "outputs": [
    {
     "data": {
      "text/latex": [
       "\n",
       "this does not work for me, but supposedly it does.\n",
       "\n",
       "\\documentclass{article}\n",
       "\n",
       "\\usepackage[margin=1in]{geometry}% Just for this example\n",
       "\\setlength{\\parindent}{0pt}% Just for this example\n",
       "\n",
       "\\begin{document}\n",
       "\n",
       "There are a number of horizontal spacing macros for LaTeX:\n",
       "\n",
       "\\begin{tabular}{lp{5cm}}\n",
       "  \\verb|a\\,b|                     & a\\,b \\quad $a\\, b$ \\\\\n",
       "  \\verb|a\\thinspace b|            & a\\thinspace b \\quad $a\\thinspace b$ \\\\\n",
       "  \\verb|a\\!b|                     & a\\!b \\quad $a\\!b$ \\\\\n",
       "  \\verb|a\\negthinspace b|         & a\\negthinspace b \\quad $a\\negthinspace b$ \\\\\n",
       "  \\verb|a\\:b|                     & a\\:b \\quad $a\\:b$ \\\\\n",
       "  \\verb|a\\>b|                     & a\\>b \\quad $a\\>b$ \\\\\n",
       "  \\verb|a\\medspace b|             & a\\medspace b \\quad $a\\medspace b$ \\\\\n",
       "  \\verb|a\\negmedspace b|          & a\\negmedspace b \\quad $a\\negmedspace b$ \\\\\n",
       "  \\verb|a\\;b|                     & a\\;b \\quad $a\\;b$ \\\\\n",
       "  \\verb|a\\thickspace b|           & a\\thickspace b \\quad $a\\thickspace b$ \\\\\n",
       "  \\verb|a\\negthickspace b|        & a\\negthickspace b \\quad $a\\negthickspace b$ \\\\\n",
       "  \\verb|$a\\mkern\\thinmuskip b$|   & $a\\mkern\\thinmuskip b$ (similar to \\verb|\\,|) \\\\\n",
       "  \\verb|$a\\mkern-\\thinmuskip b$|  & $a\\mkern-\\thinmuskip b$ (similar to \\verb|\\!|) \\\\\n",
       "  \\verb|$a\\mkern\\medmuskip b$|    & $a\\mkern\\medmuskip b$ (similar to \\verb|\\:| or \\verb|\\>|) \\\\\n",
       "  \\verb|$a\\mkern-\\medmuskip b$|   & $a\\mkern-\\medmuskip b$ (similar to \\verb|\\negmedspace|) \\\\\n",
       "  \\verb|$a\\mkern\\thickmuskip b$|  & $a\\mkern\\thickmuskip b$ (similar to \\verb|\\;|) \\\\\n",
       "  \\verb|$a\\mkern-\\thickmuskip b$| & $a\\mkern-\\thickmuskip b$ (similar to \\verb|\\negthickspace|) \\\\\n",
       "  \\verb|a\\enspace b|              & a\\enspace b \\\\\n",
       "  \\verb|$a\\enspace b$|            & $a\\enspace b$ \\\\\n",
       "  \\verb|a\\quad b|                 & a\\quad b \\\\\n",
       "  \\verb|$a\\quad b$|               & $a\\quad b$ \\\\\n",
       "  \\verb|a\\qquad b|                & a\\qquad b \\\\\n",
       "  \\verb|$a\\qquad b$|              & $a\\qquad b$ \\\\\n",
       "  \\verb|a\\hskip 1em b|            & a\\hskip 1em b \\\\\n",
       "  \\verb|$a\\hskip 1em b$|          & $a\\hskip 1em b$ \\\\\n",
       "  \\verb|a\\kern 1pc b|             & a\\kern 1pc b \\\\\n",
       "  \\verb|$a\\kern 1pc b$|           & $a\\kern 1pc b$ \\\\\n",
       "  \\verb|$a\\mkern 17mu b$|         & $a\\mkern 17mu b$ \\\\\n",
       "  \\verb|a\\hspace{35pt}b|          & a\\hspace{35pt}b \\\\\n",
       "  \\verb|$a\\hspace{35pt}b$|        & $a\\hspace{35pt}b$ \\\\\n",
       "  \\verb|axyzb|                    & axyzb \\\\\n",
       "  \\verb|a\\hphantom{xyz}b|         & a\\hphantom{xyz}b (or just \\verb|\\phantom|) \\\\\n",
       "  \\verb|$axyzb$|                  & $axyzb$ \\\\\n",
       "  \\verb|$a\\hphantom{xyz}b$|       & $a\\hphantom{xyz}b$ (or just \\verb|\\phantom|) \\\\\n",
       "  \\verb|a b|                      & a b \\\\\n",
       "  \\verb|$a b$|                    & $a b$ \\\\\n",
       "  \\verb|a\\space b|                & a\\space b \\\\\n",
       "  \\verb|$a\\space b$|              & $a\\space b$ \\\\\n",
       "  \\verb|a\\ b|                     & a\\ b \\\\\n",
       "  \\verb|$a\\ b$|                   & $a\\ b$ \\\\\n",
       "  \\verb|a{ }b|                    & a{ }b \\\\\n",
       "  \\verb|$a{ }b$|                  & $a{ }b$ \\\\\n",
       "  \\verb|a~b|                      & a~b \\\\\n",
       "  \\verb|$a~b$|                    & $a~b$ \\\\\n",
       "  \\verb|a\\hfill b|                & a\\hfill b \\\\\n",
       "  \\verb|$a\\hfill b$|              & $a\\hfill b$\n",
       "\\end{tabular}\n",
       "\n",
       "\\end{document}\n"
      ],
      "text/plain": [
       "<IPython.core.display.Latex object>"
      ]
     },
     "metadata": {},
     "output_type": "display_data"
    }
   ],
   "source": [
    "%%latex\n",
    "\n",
    "this does not work for me, but supposedly it does.\n",
    "\n",
    "\\documentclass{article}\n",
    "\n",
    "\\usepackage[margin=1in]{geometry}% Just for this example\n",
    "\\setlength{\\parindent}{0pt}% Just for this example\n",
    "\n",
    "\\begin{document}\n",
    "\n",
    "There are a number of horizontal spacing macros for LaTeX:\n",
    "\n",
    "\\begin{tabular}{lp{5cm}}\n",
    "  \\verb|a\\,b|                     & a\\,b \\quad $a\\, b$ \\\\\n",
    "  \\verb|a\\thinspace b|            & a\\thinspace b \\quad $a\\thinspace b$ \\\\\n",
    "  \\verb|a\\!b|                     & a\\!b \\quad $a\\!b$ \\\\\n",
    "  \\verb|a\\negthinspace b|         & a\\negthinspace b \\quad $a\\negthinspace b$ \\\\\n",
    "  \\verb|a\\:b|                     & a\\:b \\quad $a\\:b$ \\\\\n",
    "  \\verb|a\\>b|                     & a\\>b \\quad $a\\>b$ \\\\\n",
    "  \\verb|a\\medspace b|             & a\\medspace b \\quad $a\\medspace b$ \\\\\n",
    "  \\verb|a\\negmedspace b|          & a\\negmedspace b \\quad $a\\negmedspace b$ \\\\\n",
    "  \\verb|a\\;b|                     & a\\;b \\quad $a\\;b$ \\\\\n",
    "  \\verb|a\\thickspace b|           & a\\thickspace b \\quad $a\\thickspace b$ \\\\\n",
    "  \\verb|a\\negthickspace b|        & a\\negthickspace b \\quad $a\\negthickspace b$ \\\\\n",
    "  \\verb|$a\\mkern\\thinmuskip b$|   & $a\\mkern\\thinmuskip b$ (similar to \\verb|\\,|) \\\\\n",
    "  \\verb|$a\\mkern-\\thinmuskip b$|  & $a\\mkern-\\thinmuskip b$ (similar to \\verb|\\!|) \\\\\n",
    "  \\verb|$a\\mkern\\medmuskip b$|    & $a\\mkern\\medmuskip b$ (similar to \\verb|\\:| or \\verb|\\>|) \\\\\n",
    "  \\verb|$a\\mkern-\\medmuskip b$|   & $a\\mkern-\\medmuskip b$ (similar to \\verb|\\negmedspace|) \\\\\n",
    "  \\verb|$a\\mkern\\thickmuskip b$|  & $a\\mkern\\thickmuskip b$ (similar to \\verb|\\;|) \\\\\n",
    "  \\verb|$a\\mkern-\\thickmuskip b$| & $a\\mkern-\\thickmuskip b$ (similar to \\verb|\\negthickspace|) \\\\\n",
    "  \\verb|a\\enspace b|              & a\\enspace b \\\\\n",
    "  \\verb|$a\\enspace b$|            & $a\\enspace b$ \\\\\n",
    "  \\verb|a\\quad b|                 & a\\quad b \\\\\n",
    "  \\verb|$a\\quad b$|               & $a\\quad b$ \\\\\n",
    "  \\verb|a\\qquad b|                & a\\qquad b \\\\\n",
    "  \\verb|$a\\qquad b$|              & $a\\qquad b$ \\\\\n",
    "  \\verb|a\\hskip 1em b|            & a\\hskip 1em b \\\\\n",
    "  \\verb|$a\\hskip 1em b$|          & $a\\hskip 1em b$ \\\\\n",
    "  \\verb|a\\kern 1pc b|             & a\\kern 1pc b \\\\\n",
    "  \\verb|$a\\kern 1pc b$|           & $a\\kern 1pc b$ \\\\\n",
    "  \\verb|$a\\mkern 17mu b$|         & $a\\mkern 17mu b$ \\\\\n",
    "  \\verb|a\\hspace{35pt}b|          & a\\hspace{35pt}b \\\\\n",
    "  \\verb|$a\\hspace{35pt}b$|        & $a\\hspace{35pt}b$ \\\\\n",
    "  \\verb|axyzb|                    & axyzb \\\\\n",
    "  \\verb|a\\hphantom{xyz}b|         & a\\hphantom{xyz}b (or just \\verb|\\phantom|) \\\\\n",
    "  \\verb|$axyzb$|                  & $axyzb$ \\\\\n",
    "  \\verb|$a\\hphantom{xyz}b$|       & $a\\hphantom{xyz}b$ (or just \\verb|\\phantom|) \\\\\n",
    "  \\verb|a b|                      & a b \\\\\n",
    "  \\verb|$a b$|                    & $a b$ \\\\\n",
    "  \\verb|a\\space b|                & a\\space b \\\\\n",
    "  \\verb|$a\\space b$|              & $a\\space b$ \\\\\n",
    "  \\verb|a\\ b|                     & a\\ b \\\\\n",
    "  \\verb|$a\\ b$|                   & $a\\ b$ \\\\\n",
    "  \\verb|a{ }b|                    & a{ }b \\\\\n",
    "  \\verb|$a{ }b$|                  & $a{ }b$ \\\\\n",
    "  \\verb|a~b|                      & a~b \\\\\n",
    "  \\verb|$a~b$|                    & $a~b$ \\\\\n",
    "  \\verb|a\\hfill b|                & a\\hfill b \\\\\n",
    "  \\verb|$a\\hfill b$|              & $a\\hfill b$\n",
    "\\end{tabular}\n",
    "\n",
    "\\end{document}"
   ]
  },
  {
   "cell_type": "markdown",
   "id": "6a7cf90d",
   "metadata": {},
   "source": [
    "Just use `\\,` for space\n",
    "\n",
    "`$foo$` for inline latex \n",
    "\n",
    "`$$foo$$` for block latex"
   ]
  },
  {
   "cell_type": "markdown",
   "id": "3adc62e5",
   "metadata": {},
   "source": [
    "$\\sum_{i=i}^{i=d}{u_{i}}$ "
   ]
  },
  {
   "cell_type": "markdown",
   "id": "0726e340",
   "metadata": {},
   "source": [
    "The \\R notation is not defined. you need to define the new command before you can use it.\n",
    "See below:"
   ]
  },
  {
   "cell_type": "markdown",
   "id": "42f26356",
   "metadata": {},
   "source": [
    "$\\in$ is member of\n",
    "\n",
    "$\\newcommand{\\R}{\\mathbb{R}} \\R$ is real number. all numbers negative and positive including fractions\n",
    "\n",
    "\n",
    "So you can think of multiplication by a matrix $\\newcommand{\\R}{\\mathbb{R}} A\\in\\R^{mxn}$ as trans that projects vectors from $\\R^m to \\R^n$ "
   ]
  },
  {
   "cell_type": "markdown",
   "id": "97ee9fe5",
   "metadata": {},
   "source": [
    "\\begin{align}\n",
    "AB=\\begin{vmatrix}\n",
    "\\cdots & a_1^T & \\cdots \\\\\n",
    "\\cdots & a_2^T & \\cdots \\\\\n",
    "\\cdots & a_n^T & \\cdots \n",
    "\\end{vmatrix}\n",
    "\\begin{vmatrix}\n",
    "\\cdots & \\cdots & \\cdots \\\\\n",
    "b_{1} & b_{2} & b_{m} \\\\\n",
    "\\cdots & \\cdots & \\cdots \n",
    "\\end{vmatrix}\n",
    "=\\begin{vmatrix}\n",
    "a_1^Tb_1 & a_1^Tb_2 & .. & a_1^Tb_m \\\\\n",
    "a_2^Tb_1 & a_2^Tb_2 & .. & a_1^Tb_m \\\\\n",
    "a_n^Tb_1 & a_n^Tb_2 & .. & a_n^Tb_m\n",
    "\\end{vmatrix}\n",
    "\\end{align}"
   ]
  },
  {
   "cell_type": "code",
   "execution_count": null,
   "id": "e46d41f5",
   "metadata": {},
   "outputs": [],
   "source": []
  }
 ],
 "metadata": {
  "kernelspec": {
   "display_name": "Python 3 (ipykernel)",
   "language": "python",
   "name": "python3"
  },
  "language_info": {
   "codemirror_mode": {
    "name": "ipython",
    "version": 3
   },
   "file_extension": ".py",
   "mimetype": "text/x-python",
   "name": "python",
   "nbconvert_exporter": "python",
   "pygments_lexer": "ipython3",
   "version": "3.7.2"
  }
 },
 "nbformat": 4,
 "nbformat_minor": 5
}
