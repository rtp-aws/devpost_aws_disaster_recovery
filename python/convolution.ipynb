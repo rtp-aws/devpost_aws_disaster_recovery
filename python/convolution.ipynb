{
 "cells": [
  {
   "cell_type": "markdown",
   "id": "0fa5d8bd",
   "metadata": {},
   "source": [
    "# convolution testy"
   ]
  },
  {
   "cell_type": "code",
   "execution_count": 2,
   "id": "9323bb95",
   "metadata": {},
   "outputs": [],
   "source": [
    "import gluoncv as gcv\n",
    "import mxnet as mx\n",
    "# mxnet NDarray \n",
    "from mxnet import nd\n",
    "\n",
    "# MXNet Gluon Neural network layers.\n",
    "from mxnet.gluon import nn\n",
    "\n",
    "# optional for displaying the image\n",
    "import ipyplot\n",
    "import matplotlib.pyplot as plt\n",
    "import numpy as np"
   ]
  },
  {
   "cell_type": "markdown",
   "id": "317a2f6c",
   "metadata": {},
   "source": [
    "# Loading images via python"
   ]
  },
  {
   "cell_type": "code",
   "execution_count": 3,
   "id": "da725bfe",
   "metadata": {},
   "outputs": [
    {
     "data": {
      "text/html": [
       "\n",
       "    <style>\n",
       "        #ipyplot-html-viewer-toggle-32gFs6GKqYC4QpUqrbDrME {\n",
       "            position: absolute;\n",
       "            top: -9999px;\n",
       "            left: -9999px;\n",
       "            visibility: hidden;\n",
       "        }\n",
       "\n",
       "        #ipyplot-html-viewer-label-32gFs6GKqYC4QpUqrbDrME { \n",
       "            position: relative;\n",
       "            display: inline-block;\n",
       "            cursor: pointer;\n",
       "            color: blue;\n",
       "            text-decoration: underline;\n",
       "        }\n",
       "\n",
       "        #ipyplot-html-viewer-textarea-32gFs6GKqYC4QpUqrbDrME {\n",
       "            background: lightgrey;\n",
       "            width: 100%;\n",
       "            height: 0px;\n",
       "            display: none;\n",
       "        }\n",
       "\n",
       "        #ipyplot-html-viewer-toggle-32gFs6GKqYC4QpUqrbDrME:checked ~ #ipyplot-html-viewer-textarea-32gFs6GKqYC4QpUqrbDrME {\n",
       "            height: 200px;\n",
       "            display: block;\n",
       "        }\n",
       "\n",
       "        #ipyplot-html-viewer-toggle-32gFs6GKqYC4QpUqrbDrME:checked + #ipyplot-html-viewer-label-32gFs6GKqYC4QpUqrbDrME:after {\n",
       "            content: \"hide html\";\n",
       "            position: absolute;\n",
       "            top: 0;\n",
       "            left: 0;\n",
       "            right: 0;\n",
       "            bottom: 0;\n",
       "            background: white;\n",
       "            cursor: pointer;\n",
       "            color: blue;\n",
       "            text-decoration: underline;\n",
       "        }\n",
       "    </style>\n",
       "    <div>\n",
       "        <input type=\"checkbox\" id=\"ipyplot-html-viewer-toggle-32gFs6GKqYC4QpUqrbDrME\">\n",
       "        <label id=\"ipyplot-html-viewer-label-32gFs6GKqYC4QpUqrbDrME\" for=\"ipyplot-html-viewer-toggle-32gFs6GKqYC4QpUqrbDrME\">show html</label>\n",
       "        <textarea id=\"ipyplot-html-viewer-textarea-32gFs6GKqYC4QpUqrbDrME\" readonly>\n",
       "            \n",
       "        <style>\n",
       "        #ipyplot-imgs-container-div-4SRFF2XUrtUz5s8AuxeKgd {\n",
       "            width: 100%;\n",
       "            height: 100%;\n",
       "            margin: 0%;\n",
       "            overflow: auto;\n",
       "            position: relative;\n",
       "            overflow-y: scroll;\n",
       "        }\n",
       "\n",
       "        div.ipyplot-placeholder-div-4SRFF2XUrtUz5s8AuxeKgd {\n",
       "            width: 150px;\n",
       "            display: inline-block;\n",
       "            margin: 3px;\n",
       "            position: relative;\n",
       "        }\n",
       "\n",
       "        div.ipyplot-content-div-4SRFF2XUrtUz5s8AuxeKgd {\n",
       "            width: 150px;\n",
       "            background: white;\n",
       "            display: inline-block;\n",
       "            vertical-align: top;\n",
       "            text-align: center;\n",
       "            position: relative;\n",
       "            border: 2px solid #ddd;\n",
       "            top: 0;\n",
       "            left: 0;\n",
       "        }\n",
       "\n",
       "        div.ipyplot-content-div-4SRFF2XUrtUz5s8AuxeKgd span.ipyplot-img-close {\n",
       "            display: none;\n",
       "        }\n",
       "\n",
       "        div.ipyplot-content-div-4SRFF2XUrtUz5s8AuxeKgd span {\n",
       "            width: 100%;\n",
       "            height: 100%;\n",
       "            position: absolute;\n",
       "            top: 0;\n",
       "            left: 0;\n",
       "        }\n",
       "\n",
       "        div.ipyplot-content-div-4SRFF2XUrtUz5s8AuxeKgd img {\n",
       "            width: 150px;\n",
       "        }\n",
       "\n",
       "        div.ipyplot-content-div-4SRFF2XUrtUz5s8AuxeKgd span.ipyplot-img-close:hover {\n",
       "            cursor: zoom-out;\n",
       "        }\n",
       "        div.ipyplot-content-div-4SRFF2XUrtUz5s8AuxeKgd span.ipyplot-img-expand:hover {\n",
       "            cursor: zoom-in;\n",
       "        }\n",
       "\n",
       "        div[id^=ipyplot-content-div-4SRFF2XUrtUz5s8AuxeKgd]:target {\n",
       "            transform: scale(2.5);\n",
       "            transform-origin: left top;\n",
       "            z-index: 5000;\n",
       "            top: 0;\n",
       "            left: 0;\n",
       "            position: absolute;\n",
       "        }\n",
       "\n",
       "        div[id^=ipyplot-content-div-4SRFF2XUrtUz5s8AuxeKgd]:target span.ipyplot-img-close {\n",
       "            display: block;\n",
       "        }\n",
       "\n",
       "        div[id^=ipyplot-content-div-4SRFF2XUrtUz5s8AuxeKgd]:target span.ipyplot-img-expand {\n",
       "            display: none;\n",
       "        }\n",
       "        </style>\n",
       "    <div id=\"ipyplot-imgs-container-div-4SRFF2XUrtUz5s8AuxeKgd\">\n",
       "    <div class=\"ipyplot-placeholder-div-4SRFF2XUrtUz5s8AuxeKgd\">\n",
       "        <div id=\"ipyplot-content-div-4SRFF2XUrtUz5s8AuxeKgd-ZDs2CYmejAbpCDKMFWKNiA\" class=\"ipyplot-content-div-4SRFF2XUrtUz5s8AuxeKgd\">\n",
       "            <h4 style=\"font-size: 12px; word-wrap: break-word;\">0</h4>\n",
       "            <h4 style=\"font-size: 9px; padding-left: 10px; padding-right: 10px; width: 95%; word-wrap: break-word; white-space: normal;\">imgs/stimpyG.png</h4><img src=\"imgs/stimpyG.png\"/>\n",
       "            <a href=\"#!\">\n",
       "                <span class=\"ipyplot-img-close\"/>\n",
       "            </a>\n",
       "            <a href=\"#ipyplot-content-div-4SRFF2XUrtUz5s8AuxeKgd-ZDs2CYmejAbpCDKMFWKNiA\">\n",
       "                <span class=\"ipyplot-img-expand\"/>\n",
       "            </a>\n",
       "        </div>\n",
       "    </div>\n",
       "    </div>\n",
       "        </textarea>\n",
       "    </div>\n",
       "    "
      ],
      "text/plain": [
       "<IPython.core.display.HTML object>"
      ]
     },
     "metadata": {},
     "output_type": "display_data"
    },
    {
     "data": {
      "text/html": [
       "\n",
       "        <style>\n",
       "        #ipyplot-imgs-container-div-4SRFF2XUrtUz5s8AuxeKgd {\n",
       "            width: 100%;\n",
       "            height: 100%;\n",
       "            margin: 0%;\n",
       "            overflow: auto;\n",
       "            position: relative;\n",
       "            overflow-y: scroll;\n",
       "        }\n",
       "\n",
       "        div.ipyplot-placeholder-div-4SRFF2XUrtUz5s8AuxeKgd {\n",
       "            width: 150px;\n",
       "            display: inline-block;\n",
       "            margin: 3px;\n",
       "            position: relative;\n",
       "        }\n",
       "\n",
       "        div.ipyplot-content-div-4SRFF2XUrtUz5s8AuxeKgd {\n",
       "            width: 150px;\n",
       "            background: white;\n",
       "            display: inline-block;\n",
       "            vertical-align: top;\n",
       "            text-align: center;\n",
       "            position: relative;\n",
       "            border: 2px solid #ddd;\n",
       "            top: 0;\n",
       "            left: 0;\n",
       "        }\n",
       "\n",
       "        div.ipyplot-content-div-4SRFF2XUrtUz5s8AuxeKgd span.ipyplot-img-close {\n",
       "            display: none;\n",
       "        }\n",
       "\n",
       "        div.ipyplot-content-div-4SRFF2XUrtUz5s8AuxeKgd span {\n",
       "            width: 100%;\n",
       "            height: 100%;\n",
       "            position: absolute;\n",
       "            top: 0;\n",
       "            left: 0;\n",
       "        }\n",
       "\n",
       "        div.ipyplot-content-div-4SRFF2XUrtUz5s8AuxeKgd img {\n",
       "            width: 150px;\n",
       "        }\n",
       "\n",
       "        div.ipyplot-content-div-4SRFF2XUrtUz5s8AuxeKgd span.ipyplot-img-close:hover {\n",
       "            cursor: zoom-out;\n",
       "        }\n",
       "        div.ipyplot-content-div-4SRFF2XUrtUz5s8AuxeKgd span.ipyplot-img-expand:hover {\n",
       "            cursor: zoom-in;\n",
       "        }\n",
       "\n",
       "        div[id^=ipyplot-content-div-4SRFF2XUrtUz5s8AuxeKgd]:target {\n",
       "            transform: scale(2.5);\n",
       "            transform-origin: left top;\n",
       "            z-index: 5000;\n",
       "            top: 0;\n",
       "            left: 0;\n",
       "            position: absolute;\n",
       "        }\n",
       "\n",
       "        div[id^=ipyplot-content-div-4SRFF2XUrtUz5s8AuxeKgd]:target span.ipyplot-img-close {\n",
       "            display: block;\n",
       "        }\n",
       "\n",
       "        div[id^=ipyplot-content-div-4SRFF2XUrtUz5s8AuxeKgd]:target span.ipyplot-img-expand {\n",
       "            display: none;\n",
       "        }\n",
       "        </style>\n",
       "    <div id=\"ipyplot-imgs-container-div-4SRFF2XUrtUz5s8AuxeKgd\">\n",
       "    <div class=\"ipyplot-placeholder-div-4SRFF2XUrtUz5s8AuxeKgd\">\n",
       "        <div id=\"ipyplot-content-div-4SRFF2XUrtUz5s8AuxeKgd-ZDs2CYmejAbpCDKMFWKNiA\" class=\"ipyplot-content-div-4SRFF2XUrtUz5s8AuxeKgd\">\n",
       "            <h4 style=\"font-size: 12px; word-wrap: break-word;\">0</h4>\n",
       "            <h4 style=\"font-size: 9px; padding-left: 10px; padding-right: 10px; width: 95%; word-wrap: break-word; white-space: normal;\">imgs/stimpyG.png</h4><img src=\"imgs/stimpyG.png\"/>\n",
       "            <a href=\"#!\">\n",
       "                <span class=\"ipyplot-img-close\"/>\n",
       "            </a>\n",
       "            <a href=\"#ipyplot-content-div-4SRFF2XUrtUz5s8AuxeKgd-ZDs2CYmejAbpCDKMFWKNiA\">\n",
       "                <span class=\"ipyplot-img-expand\"/>\n",
       "            </a>\n",
       "        </div>\n",
       "    </div>\n",
       "    </div>"
      ],
      "text/plain": [
       "<IPython.core.display.HTML object>"
      ]
     },
     "metadata": {},
     "output_type": "display_data"
    }
   ],
   "source": [
    "# load an image using numpy and display it.\n",
    "image_filepath = 'imgs/stimpyG.png'\n",
    "img_filename_array = np.array([image_filepath])\n",
    "ipyplot.plot_images(img_filename_array)"
   ]
  },
  {
   "cell_type": "markdown",
   "id": "936fd61c",
   "metadata": {},
   "source": [
    "Show the file using markdown\n",
    "```\n",
    "Markdown method with scaling parameter.\n",
    "<img src=\"some_file.some_ext\" width=\"400\">\n",
    "```\n",
    "<img src=\"imgs/stimpyG.png\" width=\"200\">"
   ]
  },
  {
   "cell_type": "code",
   "execution_count": 4,
   "id": "60312799",
   "metadata": {},
   "outputs": [
    {
     "data": {
      "image/png": "[encoded data removed]",
      "text/plain": [
       "<Figure size 432x288 with 1 Axes>"
      ]
     },
     "metadata": {
      "needs_background": "light"
     },
     "output_type": "display_data"
    }
   ],
   "source": [
    "# imshow and imread method\n",
    "# no idea why its got a green hue at this moment?\n",
    "o = plt.imshow(plt.imread('imgs/stimpyG.png'))"
   ]
  },
  {
   "cell_type": "code",
   "execution_count": 5,
   "id": "2899df4f",
   "metadata": {},
   "outputs": [
    {
     "data": {
      "image/png": "[encoded data removed]",
      "text/plain": [
       "<Figure size 432x288 with 1 Axes>"
      ]
     },
     "metadata": {
      "needs_background": "light"
     },
     "output_type": "display_data"
    }
   ],
   "source": [
    "# imshow and imread method\n",
    "# test image works.\n",
    "o = plt.imshow(plt.imread('imgs/testy-grid.png'))"
   ]
  },
  {
   "cell_type": "markdown",
   "id": "a11c5768",
   "metadata": {},
   "source": [
    "# Loading images with mxnet"
   ]
  },
  {
   "cell_type": "code",
   "execution_count": 6,
   "id": "be0c7c0d",
   "metadata": {},
   "outputs": [
    {
     "name": "stdout",
     "output_type": "stream",
     "text": [
      "image_HWC1\n",
      "<class 'mxnet.ndarray.ndarray.NDArray'>\n",
      "(480, 640, 1)\n",
      "image_HWC1f\n",
      "<class 'mxnet.ndarray.ndarray.NDArray'>\n",
      "(480, 640, 1)\n"
     ]
    }
   ],
   "source": [
    "# read as grayscale\n",
    "image_HWC1 = mx.image.imread('imgs/testy-grid.png', 0)\n",
    "image_HWC1f = image_HWC1.astype('float32')\n",
    "print(\"image_HWC1\")\n",
    "print(type(image_HWC1))\n",
    "print(image_HWC1.shape)\n",
    "print(\"image_HWC1f\")\n",
    "print(type(image_HWC1f))\n",
    "print(image_HWC1f.shape)\n",
    "# plot image as grayscale\n",
    "#plt.imshow(image_HWC1.asnumpy(), cmap='gray')"
   ]
  },
  {
   "cell_type": "code",
   "execution_count": 7,
   "id": "67ed44bd",
   "metadata": {},
   "outputs": [
    {
     "data": {
      "text/plain": [
       "<matplotlib.image.AxesImage at 0x7f88f6b535f8>"
      ]
     },
     "execution_count": 7,
     "metadata": {},
     "output_type": "execute_result"
    },
    {
     "data": {
      "image/png": "[encoded data removed]",
      "text/plain": [
       "<Figure size 432x288 with 1 Axes>"
      ]
     },
     "metadata": {
      "needs_background": "light"
     },
     "output_type": "display_data"
    }
   ],
   "source": [
    "# plot image as grayscale\n",
    "plt.imshow(image_HWC1.asnumpy(), cmap='gray')"
   ]
  },
  {
   "cell_type": "code",
   "execution_count": 8,
   "id": "6498d69b",
   "metadata": {},
   "outputs": [
    {
     "name": "stdout",
     "output_type": "stream",
     "text": [
      "image_HWC3\n",
      "<class 'mxnet.ndarray.ndarray.NDArray'>\n",
      "(480, 640, 3)\n"
     ]
    },
    {
     "data": {
      "text/plain": [
       "<matplotlib.image.AxesImage at 0x7f88f6ac4cc0>"
      ]
     },
     "execution_count": 8,
     "metadata": {},
     "output_type": "execute_result"
    },
    {
     "data": {
      "image/png": "[encoded data removed]",
      "text/plain": [
       "<Figure size 432x288 with 1 Axes>"
      ]
     },
     "metadata": {
      "needs_background": "light"
     },
     "output_type": "display_data"
    }
   ],
   "source": [
    "# Load Image as RGB\n",
    "image_HWC3 = mx.image.image.imread('imgs/testy-grid.png')\n",
    "print(\"image_HWC3\")\n",
    "print(type(image_HWC3))\n",
    "print(image_HWC3.shape)\n",
    "# plot Image\n",
    "plt.imshow(image_HWC3.asnumpy())"
   ]
  },
  {
   "cell_type": "markdown",
   "id": "cddc3729",
   "metadata": {},
   "source": [
    "# Sobel Horizontal Wikipedia\n",
    "I should have used a url in the conv2D-testy notebook. I can't remember how I did it.\n",
    "Oh, yeah I know now.  From this [URL](https://en.wikipedia.org/wiki/Edge_detection)\n",
    "\n",
    "Its in the *Other first-order methods* section.  See below:\n",
    "![img](imgs/sobel.png)"
   ]
  },
  {
   "cell_type": "code",
   "execution_count": 9,
   "id": "c976beb9",
   "metadata": {},
   "outputs": [
    {
     "name": "stdout",
     "output_type": "stream",
     "text": [
      "\n",
      "Sobel horizontal transform Gx\n",
      "[[ 1.  2.  1.]\n",
      " [ 0.  0.  0.]\n",
      " [-1. -2. -1.]]\n",
      "<NDArray 3x3 @cpu(0)>\n"
     ]
    },
    {
     "data": {
      "text/plain": [
       "<matplotlib.image.AxesImage at 0x7f88f6496518>"
      ]
     },
     "execution_count": 9,
     "metadata": {},
     "output_type": "execute_result"
    },
    {
     "data": {
      "image/png": "[encoded data removed]",
      "text/plain": [
       "<Figure size 432x288 with 1 Axes>"
      ]
     },
     "metadata": {
      "needs_background": "light"
     },
     "output_type": "display_data"
    }
   ],
   "source": [
    "# The wikipedia Sobel horizontal kernel\n",
    "sobel_horizontal = nd.array((\n",
    "    ( 1,  2,  1),\n",
    "    ( 0,  0,  0),\n",
    "    (-1, -2, -1)\n",
    "))\n",
    "\n",
    "print(\"\\nSobel horizontal transform Gx\", end='')\n",
    "print(sobel_horizontal)\n",
    "\n",
    "# create a weight constant\n",
    "w = mx.init.Constant(sobel_horizontal)\n",
    "\n",
    "# create a nn. You need to do this.  Calling the layer.initialize() function below\n",
    "# will not update the filter without it?\n",
    "layer = nn.Conv2D(channels=1, kernel_size=(3,3), in_channels=1, strides=(1,1), padding=(0,0), activation='relu', prefix='conv_')\n",
    "\n",
    "# init layer with this constant\n",
    "layer.initialize(w)\n",
    "\n",
    "# read as grayscale\n",
    "#image_HWC1 = mx.image.imread('imgs/testy-grid.png', 0)\n",
    "#image_HWC1f = image_HWC1.astype('float32')\n",
    "\n",
    "# So that its channel first. \n",
    "image_CHWf = image_HWC1f.transpose((2,0,1))\n",
    "# Convert 3D to 4D with leading batch channel.  \n",
    "image_NCHWf = image_CHWf.expand_dims(axis=0)\n",
    "# Now its in NCHW format\n",
    "output = layer(image_NCHWf)\n",
    "# output is a 4D tensor in NCHW format\n",
    "# Use squeeze to remove any 1-D dimension\n",
    "result_numpy_HWC = output.squeeze().asnumpy()\n",
    "# show result\n",
    "plt.imshow(result_numpy_HWC, cmap='gray')"
   ]
  },
  {
   "cell_type": "code",
   "execution_count": 10,
   "id": "3184f84b",
   "metadata": {},
   "outputs": [
    {
     "name": "stdout",
     "output_type": "stream",
     "text": [
      "\n",
      "Sobel vertical transform Gx\n",
      "[[ 1.  0. -1.]\n",
      " [ 2.  0. -2.]\n",
      " [ 1.  0. -1.]]\n",
      "<NDArray 3x3 @cpu(0)>\n"
     ]
    },
    {
     "data": {
      "text/plain": [
       "<matplotlib.image.AxesImage at 0x7f88f6409ac8>"
      ]
     },
     "execution_count": 10,
     "metadata": {},
     "output_type": "execute_result"
    },
    {
     "data": {
      "image/png": "[encoded data removed]",
      "text/plain": [
       "<Figure size 432x288 with 1 Axes>"
      ]
     },
     "metadata": {
      "needs_background": "light"
     },
     "output_type": "display_data"
    }
   ],
   "source": [
    "# The wikipedia Sobel vertical kernel\n",
    "sobel_vertical = nd.array((\n",
    "    ( 1,  0, -1),\n",
    "    ( 2,  0, -2),\n",
    "    ( 1,  0, -1)\n",
    "))\n",
    "\n",
    "print(\"\\nSobel vertical transform Gx\", end='')\n",
    "print(sobel_vertical)\n",
    "\n",
    "# create a weight constant\n",
    "w = mx.init.Constant(sobel_vertical)\n",
    "\n",
    "# create a nn. You need to do this.  Calling the layer.initialize() function below\n",
    "# will not update the filter without it?\n",
    "layer = nn.Conv2D(channels=1, kernel_size=(3,3), in_channels=1, strides=(1,1), padding=(0,0), activation='relu', prefix='conv_')\n",
    "\n",
    "# init layer with this constant\n",
    "layer.initialize(w)\n",
    "\n",
    "\n",
    "# read as grayscale\n",
    "#image_HWC1 = mx.image.imread('imgs/testy-grid.png', 0)\n",
    "#image_HWC1f = image_HWC1.astype('float32')\n",
    "\n",
    "# So that its channel first. \n",
    "image_CHWf = image_HWC1f.transpose((2,0,1))\n",
    "# Convert 3D to 4D with leading batch channel.  \n",
    "image_NCHWf = image_CHWf.expand_dims(axis=0)\n",
    "# Now its in NCHW format\n",
    "output = layer(image_NCHWf)\n",
    "# output is a 4D tensor in NCHW format\n",
    "# Use squeeze to remove any 1-D dimension\n",
    "result_numpy_HWC = output.squeeze().asnumpy()\n",
    "# show result\n",
    "plt.imshow(result_numpy_HWC, cmap='gray')"
   ]
  },
  {
   "cell_type": "code",
   "execution_count": 16,
   "id": "fe0b4402",
   "metadata": {},
   "outputs": [
    {
     "name": "stdout",
     "output_type": "stream",
     "text": [
      "\n",
      "Sobel sobel_all_edge transform Gx\n",
      "[[-1. -1. -1.]\n",
      " [-1.  8. -1.]\n",
      " [-1. -1. -1.]]\n",
      "<NDArray 3x3 @cpu(0)>\n"
     ]
    },
    {
     "data": {
      "text/plain": [
       "<matplotlib.image.AxesImage at 0x7f88f612e128>"
      ]
     },
     "execution_count": 16,
     "metadata": {},
     "output_type": "execute_result"
    },
    {
     "data": {
      "image/png": "[encoded data removed]",
      "text/plain": [
       "<Figure size 432x288 with 1 Axes>"
      ]
     },
     "metadata": {
      "needs_background": "light"
     },
     "output_type": "display_data"
    }
   ],
   "source": [
    "# The wikipedia Sobel all edge kernel\n",
    "sobel_all_edge = nd.array((\n",
    "    ( -1,  -1, -1),\n",
    "    ( -1,  8, -1),\n",
    "    ( -1,  -1, -1)\n",
    "))\n",
    "\n",
    "print(\"\\nSobel sobel_all_edge transform Gx\", end='')\n",
    "print(sobel_all_edge)\n",
    "\n",
    "# create a weight constant\n",
    "w = mx.init.Constant(sobel_all_edge)\n",
    "\n",
    "# create a nn. You need to do this.  Calling the layer.initialize() function below\n",
    "# will not update the filter without it?\n",
    "layer = nn.Conv2D(channels=1, kernel_size=(3,3), in_channels=1, strides=(1,1), padding=(0,0), activation='relu', prefix='conv_')\n",
    "\n",
    "# init layer with this constant\n",
    "layer.initialize(w)\n",
    "\n",
    "\n",
    "# read as grayscale\n",
    "image_HWC1 = mx.image.imread('imgs/testy-grid.png', 0)\n",
    "#image_HWC1 = mx.image.imread('imgs/stimpyG.png', 0)\n",
    "image_HWC1f = image_HWC1.astype('float32')\n",
    "\n",
    "# So that its channel first. \n",
    "image_CHWf = image_HWC1f.transpose((2,0,1))\n",
    "# Convert 3D to 4D with leading batch channel.  \n",
    "image_NCHWf = image_CHWf.expand_dims(axis=0)\n",
    "# Now its in NCHW format\n",
    "output = layer(image_NCHWf)\n",
    "# output is a 4D tensor in NCHW format\n",
    "# Use squeeze to remove any 1-D dimension\n",
    "result_numpy_HWC = output.squeeze().asnumpy()\n",
    "# show result\n",
    "plt.imshow(result_numpy_HWC, cmap='gray')"
   ]
  },
  {
   "cell_type": "code",
   "execution_count": null,
   "id": "c43b37a2",
   "metadata": {},
   "outputs": [],
   "source": []
  },
  {
   "cell_type": "code",
   "execution_count": null,
   "id": "b250e27e",
   "metadata": {},
   "outputs": [],
   "source": []
  },
  {
   "cell_type": "code",
   "execution_count": null,
   "id": "edc58f53",
   "metadata": {},
   "outputs": [],
   "source": []
  },
  {
   "cell_type": "code",
   "execution_count": null,
   "id": "08b73409",
   "metadata": {},
   "outputs": [],
   "source": []
  },
  {
   "cell_type": "code",
   "execution_count": null,
   "id": "7239c90d",
   "metadata": {},
   "outputs": [],
   "source": []
  },
  {
   "cell_type": "code",
   "execution_count": null,
   "id": "2c862771",
   "metadata": {},
   "outputs": [],
   "source": []
  }
 ],
 "metadata": {
  "kernelspec": {
   "display_name": "Python 3 (ipykernel)",
   "language": "python",
   "name": "python3"
  },
  "language_info": {
   "codemirror_mode": {
    "name": "ipython",
    "version": 3
   },
   "file_extension": ".py",
   "mimetype": "text/x-python",
   "name": "python",
   "nbconvert_exporter": "python",
   "pygments_lexer": "ipython3",
   "version": "3.7.2"
  }
 },
 "nbformat": 4,
 "nbformat_minor": 5
}
