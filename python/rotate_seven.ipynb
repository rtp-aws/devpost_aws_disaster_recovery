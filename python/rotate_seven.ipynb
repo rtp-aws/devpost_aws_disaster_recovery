{
 "cells": [
  {
   "cell_type": "markdown",
   "id": "aced74e2",
   "metadata": {},
   "source": [
    "# Python Libs"
   ]
  },
  {
   "cell_type": "code",
   "execution_count": 1,
   "id": "cbd8d81a",
   "metadata": {},
   "outputs": [],
   "source": [
    "import gluoncv as gcv\n",
    "import mxnet as mx\n",
    "# mxnet NDarray \n",
    "from mxnet import nd\n",
    "\n",
    "# MXNet Gluon Neural network layers.\n",
    "from mxnet.gluon import nn\n",
    "\n",
    "# optional for displaying the image\n",
    "import matplotlib.pyplot as plt\n",
    "#import numpy as np\n",
    "import os\n",
    "import math"
   ]
  },
  {
   "cell_type": "markdown",
   "id": "74134d12",
   "metadata": {},
   "source": [
    "# Rotate Matrix"
   ]
  },
  {
   "cell_type": "code",
   "execution_count": 2,
   "id": "98840090",
   "metadata": {},
   "outputs": [],
   "source": [
    "def build_rot_matrix(angle):\n",
    "    \n",
    "    # calculate terms\n",
    "    a = math.cos(x)\n",
    "    b = -math.sin(x)\n",
    "    c = math.sin(x)\n",
    "    d = math.cos(x)\n",
    "\n",
    "    # build nd array\n",
    "    nd_array = nd.array([\n",
    "        [a,b],\n",
    "        [c,d]\n",
    "    ])\n",
    "    \n",
    "    return nd_array"
   ]
  },
  {
   "cell_type": "markdown",
   "id": "fe30ad90",
   "metadata": {},
   "source": [
    "#### rotate 0 matrix"
   ]
  },
  {
   "cell_type": "code",
   "execution_count": 3,
   "id": "d8a119fb",
   "metadata": {},
   "outputs": [
    {
     "name": "stdout",
     "output_type": "stream",
     "text": [
      "rotate by 0 nd array is  \n",
      "[[ 1. -0.]\n",
      " [ 0.  1.]]\n",
      "<NDArray 2x2 @cpu(0)>\n"
     ]
    }
   ],
   "source": [
    "x=0\n",
    "\n",
    "rotate_0 = build_rot_matrix(x)\n",
    "print('rotate by 0 nd array is ', rotate_0)"
   ]
  },
  {
   "cell_type": "markdown",
   "id": "535683e7",
   "metadata": {},
   "source": [
    "#### rotate 90 matrix"
   ]
  },
  {
   "cell_type": "code",
   "execution_count": 4,
   "id": "c98bb486",
   "metadata": {},
   "outputs": [
    {
     "name": "stdout",
     "output_type": "stream",
     "text": [
      "rotate by 90 nd array is  \n",
      "[[ 6.123234e-17 -1.000000e+00]\n",
      " [ 1.000000e+00  6.123234e-17]]\n",
      "<NDArray 2x2 @cpu(0)>\n"
     ]
    }
   ],
   "source": [
    "x=0.5*math.pi\n",
    "\n",
    "rotate_90 = build_rot_matrix(x)\n",
    "print('rotate by 90 nd array is ', rotate_90)"
   ]
  },
  {
   "cell_type": "markdown",
   "id": "92ceb5d6",
   "metadata": {},
   "source": [
    "#### rotate 180 matrix"
   ]
  },
  {
   "cell_type": "code",
   "execution_count": 5,
   "id": "0e9a519e",
   "metadata": {},
   "outputs": [
    {
     "name": "stdout",
     "output_type": "stream",
     "text": [
      "rotate by 180 nd array is  \n",
      "[[-1.0000000e+00 -1.2246469e-16]\n",
      " [ 1.2246469e-16 -1.0000000e+00]]\n",
      "<NDArray 2x2 @cpu(0)>\n"
     ]
    }
   ],
   "source": [
    "x=math.pi\n",
    "\n",
    "rotate_180 = build_rot_matrix(x)\n",
    "print('rotate by 180 nd array is ', rotate_180)"
   ]
  },
  {
   "cell_type": "markdown",
   "id": "22a35fca",
   "metadata": {},
   "source": [
    "# Generic Rotate Routine"
   ]
  },
  {
   "cell_type": "code",
   "execution_count": 6,
   "id": "eb903ba9",
   "metadata": {},
   "outputs": [],
   "source": [
    "def my_print(verbose=False, *args):\n",
    "    if (verbose):\n",
    "        print(args)"
   ]
  },
  {
   "cell_type": "code",
   "execution_count": 86,
   "id": "b61b1461",
   "metadata": {},
   "outputs": [],
   "source": [
    "def my_rotate(input_image_batch, rotate_matrix, verbose=False):\n",
    "    # NDArrayIter(data, label=None, batch_size=1, shuffle=False, \n",
    "    #            last_batch_handle='pad', data_name='data', \n",
    "    #            label_name='softmax_label')\n",
    "    #\n",
    "    # Ignore the label parameter.\n",
    "    dataiter = mx.io.NDArrayIter(input_image_batch, batch_size=1, shuffle=False, last_batch_handle='discard')\n",
    "    for batch in dataiter:\n",
    "\n",
    "        my_print(verbose, 'loop entry - a single batch - a single image in batch.data[0] from what is in in_data')\n",
    "        \n",
    "        \n",
    "        # Does this copy or get an alias to the input image?\n",
    "        a_img_batch = batch.data[0]\n",
    "        my_print(verbose, 'a_img_batch = ', a_img_batch)\n",
    "        my_print(verbose, 'a_img_batch.shape = ', a_img_batch.shape)\n",
    "\n",
    "        #\n",
    "        # Remember the dims so we can reshare the flattened array back to rectangular\n",
    "        orig_dims = a_img_batch[0].shape\n",
    "        \n",
    "        \n",
    "        a_img_indexes = mx.nd.contrib.index_array(a_img_batch, axes=(1, 2))\n",
    "        my_print(verbose, 'a_img_indexes  ', a_img_indexes)\n",
    "        my_print(verbose, 'a_img_indexes.shape ', a_img_indexes.shape)\n",
    "\n",
    "\n",
    "\n",
    "        # Try to assign input data to output data based upon indicies\n",
    "        #\n",
    "        # Need to reshape so that rows=size of image sans batch\n",
    "        # 2x2-> 4,2\n",
    "        # 3x3-> 9,2\n",
    "        #\n",
    "        num_rows = a_img_batch[0].size\n",
    "        my_print(True,'num_rows = ', num_rows)\n",
    "        orig_indexes = mx.nd.reshape(a_img_indexes, shape=(num_rows,2))\n",
    "        my_print(verbose, 'orig_indexes ', orig_indexes)\n",
    "        orig_indexes = orig_indexes.astype(\"float32\")\n",
    "\n",
    "        # do the rotate\n",
    "        new_indexes = nd.dot(orig_indexes, rotate_matrix) \n",
    "        my_print(verbose, 'new_indexes = ', new_indexes)\n",
    "        new_indexes = new_indexes.astype('int64')\n",
    "        my_print(verbose, 'new_indexes = ', new_indexes)\n",
    "        #\n",
    "        # shift to lower right quadrant. shift so that index axes is 0,0 in top left\n",
    "        #\n",
    "        # find the min row value\n",
    "        min_row = new_indexes.min(axis=0)[0]\n",
    "        my_print(verbose, 'min_row = ', min_row)\n",
    "        adj_row = nd.abs(min_row).asscalar()\n",
    "        my_print(verbose, 'adj_row = ', adj_row)\n",
    "        \n",
    "        # find the min col value\n",
    "        min_col = new_indexes.min(axis=0)[1]\n",
    "        my_print(verbose, 'min_col = ', min_col)\n",
    "        adj_col = nd.abs(min_col).asscalar()\n",
    "        my_print(verbose, 'adj_col = ', adj_col)\n",
    " \n",
    "        # adjust based upon min row/col\n",
    "        # with rotate 90 for 3x3 its [0,2]\n",
    "        new_indexes = new_indexes + nd.array(nd.array([adj_row, adj_col])).astype('int64')\n",
    "        my_print(verbose, 'new_indexes after shift to positive', new_indexes)\n",
    "\n",
    "        #\n",
    "        # The output image needs to be resized to match new dimensions.\n",
    "        #\n",
    "        \n",
    "        #\n",
    "        # Determine the max dim in array\n",
    "        # \n",
    "        # find the min row value\n",
    "        max_row = new_indexes.max(axis=0)[0].asscalar() + 1\n",
    "        my_print(verbose, 'max_row = ', max_row)\n",
    "        \n",
    "        # find the min col value\n",
    "        max_col = new_indexes.max(axis=0)[1].asscalar() + 1\n",
    "        my_print(verbose, 'max_col = ', max_col)\n",
    "\n",
    "        # This only works for square images rotated in 90 degree increments\n",
    "        #output_image_batch = nd.zeros(input_image_batch.size).reshape(input_image_batch.shape)\n",
    "        # Use new max col and max row\n",
    "        output_image_batch = nd.zeros(input_image_batch.size).reshape([1, max_row, max_col])\n",
    "        print('output_image_batch.shape = ', output_image_batch.shape)\n",
    "\n",
    "        \n",
    "        output_image = output_image_batch[0]\n",
    "        \n",
    "        my_print(verbose, 'output_image_batch ', output_image_batch)\n",
    "        my_print(verbose, 'output_image_batch.shape ', output_image_batch.shape)\n",
    "        my_print(verbose, 'output_image_batch[0] ', output_image_batch[0])\n",
    "        print('works 0?')\n",
    "        print('works 1?')\n",
    "        print('a_img_batch[0].shape = ', a_img_batch[0].shape)\n",
    "        print('new_indexes[:,0].max = ', new_indexes[:,0].max)\n",
    "        print('new_indexes[:,1].max = ', new_indexes[:,1].max)\n",
    "        print('works 1.a? these are the row specifiers')\n",
    "        print('0,0 0',a_img_batch[0][new_indexes[0,0],0])\n",
    "        print('1,0 0',a_img_batch[0][new_indexes[1,0],0])\n",
    "        print('2,0 0',a_img_batch[0][new_indexes[2,0],0])\n",
    "        print(':,0 0',a_img_batch[0][new_indexes[:,0],0])\n",
    "        print('works 1.b? these are the column specifiers')\n",
    "        print('0,0 1',a_img_batch[0][new_indexes[0,0],1])\n",
    "        print('1,0 1',a_img_batch[0][new_indexes[1,0],1])\n",
    "        print('2,0 1',a_img_batch[0][new_indexes[2,0],1])\n",
    "        print(':,0 1',a_img_batch[0][new_indexes[:,0],1])\n",
    "        \n",
    "        #print(a_img_batch[0][:,new_indexes[0,0],1])\n",
    "        #print(a_img_batch[0][:,new_indexes[1,0],1])\n",
    "        #print(a_img_batch[0][:,new_indexes[2,0],1])\n",
    "        #print(a_img_batch[0][:,new_indexes[:,0],1])\n",
    "        print('works 1.c?')\n",
    "        #my_print(verbose, 'a_img_batch[0][new_indexes[:,0],new_indexes[:,1]] ', a_img_batch[0][new_indexes[:,0],new_indexes[:,1]])\n",
    "        print('works 1.d?')\n",
    "        \n",
    "        #print(a_img_batch[0][new_indexes[0,0],new_indexes[1,1]])\n",
    "        print(a_img_batch[0][new_indexes[2,0],new_indexes[3,1]])\n",
    "        #print(a_img_batch[0][new_indexes[0,0],new_indexes[1,1]])\n",
    "        print(a_img_batch[0][new_indexes[2,0],new_indexes[3,1]])\n",
    "        #print(a_img_batch[0][new_indexes[0,0],new_indexes[1,1]])\n",
    "        print(a_img_batch[0][new_indexes[2,0],new_indexes[3,1]])\n",
    "        print('works 1.e?')\n",
    "        print('works 1.e?')\n",
    "        print('works 1.e?')\n",
    "        print('works 1.e?')\n",
    "        print('works 1.e?')\n",
    "        \n",
    "        #return 0\n",
    "     \n",
    "    \n",
    "#        output_image = a_img_batch[0][new_indexes[:,0],new_indexes[:,1]]\n",
    "#        my_print(verbose, 'output_image ', output_image)\n",
    "        # output_image is flatened, need to resize to rectangular\n",
    "        #\n",
    "        #\n",
    "        # FAILURE #1 \n",
    "        # (new_dims, new_dims) = square_root(num_rows) only works when square\n",
    "        # \n",
    "        # new_dims = float(num_rows)**0.5\n",
    "        # new_dims = int(new_dims)\n",
    "        # output_image = output_image.reshape(new_dims, new_dims)\n",
    "        #\n",
    "        # FAILURE #2\n",
    "        # \n",
    "        # If the image is rotated so that H,W becomes W,H and W is greater than W, this will\n",
    "        # fail since the indexes are out of range.\n",
    "        #\n",
    "        # output_image = output_image.reshape(orig_dims)\n",
    "        \n",
    "        \n",
    "        # Hack\n",
    "        #max_dim = max(max_col, max_row)\n",
    "                \n",
    "#        output_image = output_image.reshape( max_row, max_col)    \n",
    "#        print('works 2?')\n",
    "        \n",
    "#        my_print(verbose, 'output_image ', output_image)\n",
    "#        output_image_batch = nd.expand_dims(output_image, axis=0)\n",
    "#        my_print(verbose, 'output_image_batch ', output_image_batch)\n",
    "#        print('works 3?')\n",
    "        \n",
    "#        return output_image_batch\n",
    "        return 0 # stub"
   ]
  },
  {
   "cell_type": "markdown",
   "id": "bc9cdb5b",
   "metadata": {},
   "source": [
    "## Test with 2x3 rotate 90"
   ]
  },
  {
   "cell_type": "code",
   "execution_count": 87,
   "id": "5828e5f3",
   "metadata": {},
   "outputs": [
    {
     "name": "stdout",
     "output_type": "stream",
     "text": [
      "in_img_batch is  \n",
      "[[[0. 1.]\n",
      "  [2. 3.]\n",
      "  [4. 5.]]]\n",
      "<NDArray 1x3x2 @cpu(0)>\n",
      "in_img  \n",
      "[[0. 1.]\n",
      " [2. 3.]\n",
      " [4. 5.]]\n",
      "<NDArray 3x2 @cpu(0)>\n"
     ]
    }
   ],
   "source": [
    "# Input Image \n",
    "in_img_batch = nd.arange(6).reshape((1,3,2))\n",
    "print('in_img_batch is ', in_img_batch)\n",
    "in_img = in_img_batch[0]\n",
    "print('in_img ', in_img)"
   ]
  },
  {
   "cell_type": "code",
   "execution_count": 88,
   "id": "a069962e",
   "metadata": {},
   "outputs": [
    {
     "name": "stdout",
     "output_type": "stream",
     "text": [
      "('loop entry - a single batch - a single image in batch.data[0] from what is in in_data',)\n",
      "('a_img_batch = ', \n",
      "[[[0. 1.]\n",
      "  [2. 3.]\n",
      "  [4. 5.]]]\n",
      "<NDArray 1x3x2 @cpu(0)>)\n",
      "('a_img_batch.shape = ', (1, 3, 2))\n",
      "('a_img_indexes  ', \n",
      "[[[[0 0]\n",
      "   [0 1]]\n",
      "\n",
      "  [[1 0]\n",
      "   [1 1]]\n",
      "\n",
      "  [[2 0]\n",
      "   [2 1]]]]\n",
      "<NDArray 1x3x2x2 @cpu(0)>)\n",
      "('a_img_indexes.shape ', (1, 3, 2, 2))\n",
      "('num_rows = ', 6)\n",
      "('orig_indexes ', \n",
      "[[0 0]\n",
      " [0 1]\n",
      " [1 0]\n",
      " [1 1]\n",
      " [2 0]\n",
      " [2 1]]\n",
      "<NDArray 6x2 @cpu(0)>)\n",
      "('new_indexes = ', \n",
      "[[ 0.0000000e+00  0.0000000e+00]\n",
      " [ 1.0000000e+00  6.1232343e-17]\n",
      " [ 6.1232343e-17 -1.0000000e+00]\n",
      " [ 1.0000000e+00 -1.0000000e+00]\n",
      " [ 1.2246469e-16 -2.0000000e+00]\n",
      " [ 1.0000000e+00 -2.0000000e+00]]\n",
      "<NDArray 6x2 @cpu(0)>)\n",
      "('new_indexes = ', \n",
      "[[ 0  0]\n",
      " [ 1  0]\n",
      " [ 0 -1]\n",
      " [ 1 -1]\n",
      " [ 0 -2]\n",
      " [ 1 -2]]\n",
      "<NDArray 6x2 @cpu(0)>)\n",
      "('min_row = ', \n",
      "[0]\n",
      "<NDArray 1 @cpu(0)>)\n",
      "('adj_row = ', 0)\n",
      "('min_col = ', \n",
      "[-2]\n",
      "<NDArray 1 @cpu(0)>)\n",
      "('adj_col = ', 2)\n",
      "('new_indexes after shift to positive', \n",
      "[[0 2]\n",
      " [1 2]\n",
      " [0 1]\n",
      " [1 1]\n",
      " [0 0]\n",
      " [1 0]]\n",
      "<NDArray 6x2 @cpu(0)>)\n",
      "('max_row = ', 2)\n",
      "('max_col = ', 3)\n",
      "output_image_batch.shape =  (1, 2, 3)\n",
      "('output_image_batch ', \n",
      "[[[0. 0. 0.]\n",
      "  [0. 0. 0.]]]\n",
      "<NDArray 1x2x3 @cpu(0)>)\n",
      "('output_image_batch.shape ', (1, 2, 3))\n",
      "('output_image_batch[0] ', \n",
      "[[0. 0. 0.]\n",
      " [0. 0. 0.]]\n",
      "<NDArray 2x3 @cpu(0)>)\n",
      "works 0?\n",
      "works 1?\n",
      "a_img_batch[0].shape =  (3, 2)\n",
      "new_indexes[:,0].max =  <bound method NDArray.max of \n",
      "[0 1 0 1 0 1]\n",
      "<NDArray 6 @cpu(0)>>\n",
      "new_indexes[:,1].max =  <bound method NDArray.max of \n",
      "[2 2 1 1 0 0]\n",
      "<NDArray 6 @cpu(0)>>\n",
      "works 1.a? these are the row specifiers\n",
      "0,0 0 \n",
      "[0.]\n",
      "<NDArray 1 @cpu(0)>\n",
      "1,0 0 \n",
      "[2.]\n",
      "<NDArray 1 @cpu(0)>\n",
      "2,0 0 \n",
      "[0.]\n",
      "<NDArray 1 @cpu(0)>\n",
      ":,0 0 \n",
      "[0. 2. 0. 2. 0. 2.]\n",
      "<NDArray 6 @cpu(0)>\n",
      "works 1.b? these are the column specifiers\n",
      "0,0 1 \n",
      "[1.]\n",
      "<NDArray 1 @cpu(0)>\n",
      "1,0 1 \n",
      "[3.]\n",
      "<NDArray 1 @cpu(0)>\n",
      "2,0 1 \n",
      "[1.]\n",
      "<NDArray 1 @cpu(0)>\n",
      ":,0 1 \n",
      "[1. 3. 1. 3. 1. 3.]\n",
      "<NDArray 6 @cpu(0)>\n",
      "works 1.c?\n",
      "works 1.d?\n",
      "\n",
      "[1.]\n",
      "<NDArray 1 @cpu(0)>\n",
      "\n",
      "[1.]\n",
      "<NDArray 1 @cpu(0)>\n",
      "\n",
      "[1.]\n",
      "<NDArray 1 @cpu(0)>\n",
      "works 1.e?\n",
      "works 1.e?\n",
      "works 1.e?\n",
      "works 1.e?\n",
      "works 1.e?\n"
     ]
    }
   ],
   "source": [
    "out_img_batch = my_rotate(in_img_batch, rotate_90, True)\n",
    "#out_img_batch"
   ]
  },
  {
   "cell_type": "code",
   "execution_count": null,
   "id": "1a25af1d",
   "metadata": {},
   "outputs": [],
   "source": []
  },
  {
   "cell_type": "code",
   "execution_count": null,
   "id": "f5e0f321",
   "metadata": {},
   "outputs": [],
   "source": []
  },
  {
   "cell_type": "code",
   "execution_count": null,
   "id": "6a901e1f",
   "metadata": {},
   "outputs": [],
   "source": []
  },
  {
   "cell_type": "code",
   "execution_count": null,
   "id": "9ee78e15",
   "metadata": {},
   "outputs": [],
   "source": []
  },
  {
   "cell_type": "code",
   "execution_count": null,
   "id": "5dd362c4",
   "metadata": {},
   "outputs": [],
   "source": []
  },
  {
   "cell_type": "code",
   "execution_count": null,
   "id": "498fe82d",
   "metadata": {},
   "outputs": [],
   "source": []
  },
  {
   "cell_type": "markdown",
   "id": "9d788590",
   "metadata": {},
   "source": [
    "## Test 90 with 3x3"
   ]
  },
  {
   "cell_type": "code",
   "execution_count": null,
   "id": "a19e0599",
   "metadata": {},
   "outputs": [],
   "source": [
    "# Input Image \n",
    "#in_img_batch = nd.arange(9).reshape((1,3,3))\n",
    "#print('in_img_batch is ', in_img_batch)\n",
    "#in_img = in_img_batch[0]\n",
    "#print('in_img ', in_img)"
   ]
  },
  {
   "cell_type": "code",
   "execution_count": null,
   "id": "755aa98b",
   "metadata": {},
   "outputs": [],
   "source": [
    "#out_img_batch = my_rotate(in_img_batch, rotate_90)\n",
    "#out_img_batch"
   ]
  },
  {
   "cell_type": "code",
   "execution_count": null,
   "id": "cd8194f8",
   "metadata": {},
   "outputs": [],
   "source": []
  }
 ],
 "metadata": {
  "kernelspec": {
   "display_name": "Python 3 (ipykernel)",
   "language": "python",
   "name": "python3"
  },
  "language_info": {
   "codemirror_mode": {
    "name": "ipython",
    "version": 3
   },
   "file_extension": ".py",
   "mimetype": "text/x-python",
   "name": "python",
   "nbconvert_exporter": "python",
   "pygments_lexer": "ipython3",
   "version": "3.7.2"
  }
 },
 "nbformat": 4,
 "nbformat_minor": 5
}
