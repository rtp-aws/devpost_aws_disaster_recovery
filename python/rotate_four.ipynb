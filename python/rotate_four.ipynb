{
 "cells": [
  {
   "cell_type": "code",
   "execution_count": 1,
   "id": "567ee796",
   "metadata": {},
   "outputs": [],
   "source": [
    "import gluoncv as gcv\n",
    "import mxnet as mx\n",
    "# mxnet NDarray \n",
    "from mxnet import nd\n",
    "\n",
    "# MXNet Gluon Neural network layers.\n",
    "from mxnet.gluon import nn\n",
    "\n",
    "# optional for displaying the image\n",
    "import matplotlib.pyplot as plt\n",
    "import numpy as np\n",
    "import os\n",
    "import math"
   ]
  },
  {
   "cell_type": "code",
   "execution_count": 2,
   "id": "9f522c3d",
   "metadata": {},
   "outputs": [],
   "source": [
    "def build_rot_matrix(angle):\n",
    "    #  a  b\n",
    "    #  c  d\n",
    "    \n",
    "    # calculate terms\n",
    "    a = math.cos(x)\n",
    "    b = -math.sin(x)\n",
    "    c = math.sin(x)\n",
    "    d = math.cos(x)\n",
    "\n",
    "    # print(\"a = \", a)\n",
    "    # print(\"b = \", b)\n",
    "    # print(\"c = \", c)\n",
    "    # print(\"d = \", d)\n",
    "    \n",
    "    # build np array\n",
    "    np_array = np.array([\n",
    "        [a,b],\n",
    "        [c,d]\n",
    "    ])\n",
    "    \n",
    "    # build mx.nd array\n",
    "    nd_array = mx.nd.array(np_array)\n",
    "    \n",
    "    return nd_array"
   ]
  },
  {
   "cell_type": "code",
   "execution_count": 3,
   "id": "42928b09",
   "metadata": {},
   "outputs": [
    {
     "name": "stdout",
     "output_type": "stream",
     "text": [
      "rotate by 90 nd array is  \n",
      "[[ 6.123234e-17 -1.000000e+00]\n",
      " [ 1.000000e+00  6.123234e-17]]\n",
      "<NDArray 2x2 @cpu(0)>\n"
     ]
    }
   ],
   "source": [
    "x=0.5*math.pi\n",
    "\n",
    "rotate_90 = build_rot_matrix(x)\n",
    "print('rotate by 90 nd array is ', rotate_90)"
   ]
  },
  {
   "cell_type": "code",
   "execution_count": 4,
   "id": "d0291599",
   "metadata": {},
   "outputs": [
    {
     "name": "stdout",
     "output_type": "stream",
     "text": [
      "in_data_batch is  \n",
      "[[[0. 1. 2.]\n",
      "  [3. 4. 5.]\n",
      "  [6. 7. 8.]]]\n",
      "<NDArray 1x3x3 @cpu(0)>\n",
      "in_data  \n",
      "[[0. 1. 2.]\n",
      " [3. 4. 5.]\n",
      " [6. 7. 8.]]\n",
      "<NDArray 3x3 @cpu(0)>\n"
     ]
    }
   ],
   "source": [
    "# Input Image \n",
    "in_data_batch = nd.arange(9).reshape((1,3,3))\n",
    "print('in_data_batch is ', in_data_batch)\n",
    "in_data = in_data_batch[0]\n",
    "print('in_data ', in_data)"
   ]
  },
  {
   "cell_type": "code",
   "execution_count": 5,
   "id": "7e5fadd7",
   "metadata": {},
   "outputs": [
    {
     "name": "stdout",
     "output_type": "stream",
     "text": [
      "out_data_batch \n",
      "[[[9. 9. 9.]\n",
      "  [9. 9. 9.]\n",
      "  [9. 9. 9.]]]\n",
      "<NDArray 1x3x3 @cpu(0)>\n",
      "out_data is  \n",
      "[[9. 9. 9.]\n",
      " [9. 9. 9.]\n",
      " [9. 9. 9.]]\n",
      "<NDArray 3x3 @cpu(0)>\n"
     ]
    }
   ],
   "source": [
    "# Output Image\n",
    "# setup an ouptut array with all nines, so I can see overwrites with new values\n",
    "out_data = nd.ones(9).reshape((3,3))*9\n",
    "# out_data also needs to be in batch form\n",
    "out_data_batch = nd.expand_dims(out_data, axis=0)\n",
    "print('out_data_batch', out_data_batch)\n",
    "print('out_data is ', out_data)"
   ]
  },
  {
   "cell_type": "code",
   "execution_count": 6,
   "id": "521c6cc5",
   "metadata": {},
   "outputs": [
    {
     "name": "stdout",
     "output_type": "stream",
     "text": [
      "rotate_90  \n",
      "[[ 6.123234e-17 -1.000000e+00]\n",
      " [ 1.000000e+00  6.123234e-17]]\n",
      "<NDArray 2x2 @cpu(0)>\n"
     ]
    }
   ],
   "source": [
    "# setup a rotation matrix\n",
    "rotate_data = rotate_90\n",
    "print('rotate_90 ', rotate_data)"
   ]
  },
  {
   "cell_type": "code",
   "execution_count": 8,
   "id": "c7095482",
   "metadata": {},
   "outputs": [
    {
     "name": "stdout",
     "output_type": "stream",
     "text": [
      "loop entry - a single batch - a single image in batch.data[0] from what is in in_data\n",
      "input_img.shape =  (1, 3, 3)\n",
      "indexes are:  \n",
      "[[[[0 0]\n",
      "   [0 1]\n",
      "   [0 2]]\n",
      "\n",
      "  [[1 0]\n",
      "   [1 1]\n",
      "   [1 2]]\n",
      "\n",
      "  [[2 0]\n",
      "   [2 1]\n",
      "   [2 2]]]]\n",
      "<NDArray 1x3x3x2 @cpu(0)>\n",
      "input_img_indexes.shape =  (1, 3, 3, 2)\n",
      "orig_indexes  \n",
      "[[0 0]\n",
      " [0 1]\n",
      " [0 2]\n",
      " [1 0]\n",
      " [1 1]\n",
      " [1 2]\n",
      " [2 0]\n",
      " [2 1]\n",
      " [2 2]]\n",
      "<NDArray 9x2 @cpu(0)>\n",
      "new_indexes =  \n",
      "[[ 0.0000000e+00  0.0000000e+00]\n",
      " [ 1.0000000e+00  6.1232343e-17]\n",
      " [ 2.0000000e+00  1.2246469e-16]\n",
      " [ 6.1232343e-17 -1.0000000e+00]\n",
      " [ 1.0000000e+00 -1.0000000e+00]\n",
      " [ 2.0000000e+00 -1.0000000e+00]\n",
      " [ 1.2246469e-16 -2.0000000e+00]\n",
      " [ 1.0000000e+00 -2.0000000e+00]\n",
      " [ 2.0000000e+00 -2.0000000e+00]]\n",
      "<NDArray 9x2 @cpu(0)>\n",
      "new_indexes =  \n",
      "[[ 0  0]\n",
      " [ 1  0]\n",
      " [ 2  0]\n",
      " [ 0 -1]\n",
      " [ 1 -1]\n",
      " [ 2 -1]\n",
      " [ 0 -2]\n",
      " [ 1 -2]\n",
      " [ 2 -2]]\n",
      "<NDArray 9x2 @cpu(0)>\n",
      "new_indexes after shift to positive \n",
      "[[0 2]\n",
      " [1 2]\n",
      " [2 2]\n",
      " [0 1]\n",
      " [1 1]\n",
      " [2 1]\n",
      " [0 0]\n",
      " [1 0]\n",
      " [2 0]]\n",
      "<NDArray 9x2 @cpu(0)>\n",
      "out_data  \n",
      "[[9. 9. 9.]\n",
      " [9. 9. 9.]\n",
      " [9. 9. 9.]]\n",
      "<NDArray 3x3 @cpu(0)>\n",
      "out_data.shape  (3, 3)\n",
      "out_data  \n",
      "[2. 5. 8. 1. 4. 7. 0. 3. 6.]\n",
      "<NDArray 9 @cpu(0)>\n",
      "out_data  \n",
      "[[2. 5. 8.]\n",
      " [1. 4. 7.]\n",
      " [0. 3. 6.]]\n",
      "<NDArray 3x3 @cpu(0)>\n"
     ]
    }
   ],
   "source": [
    "# NDArrayIter(data, label=None, batch_size=1, shuffle=False, \n",
    "#            last_batch_handle='pad', data_name='data', \n",
    "#            label_name='softmax_label')\n",
    "#\n",
    "# Ignore the label parameter.\n",
    "dataiter = mx.io.NDArrayIter(in_data_batch, batch_size=1, shuffle=False, last_batch_handle='discard')\n",
    "#batch_index = [0]\n",
    "for batch in dataiter:\n",
    "    \n",
    "    print('loop entry - a single batch - a single image in batch.data[0] from what is in in_data')\n",
    "    # Does this copy or get an alias to the input image?\n",
    "    input_img = batch.data[0]\n",
    "    #print ('input_img = ', input_img.asnumpy())\n",
    "    print ('input_img.shape = ', input_img.shape)\n",
    "    \n",
    "    # this will print the axis including the batch axis\n",
    "    # print('indicies are ', mx.nd.contrib.index_array(entire_img) )\n",
    "    # this will print the x,y axis and ignore the batch\n",
    "    input_img_indexes = mx.nd.contrib.index_array(input_img, axes=(1, 2))\n",
    "    print('indexes are: ', input_img_indexes)\n",
    "    print ('input_img_indexes.shape = ', input_img_indexes.shape)\n",
    "    \n",
    "    \n",
    "    \n",
    "    # Try to assign input data to output data based upon indicies\n",
    "    orig_indexes = mx.nd.reshape(input_img_indexes, shape=(9,2))\n",
    "    print('orig_indexes ', orig_indexes)\n",
    "    orig_indexes = orig_indexes.astype(\"float32\")\n",
    "    \n",
    "    # I've seen one variant where matrix-matrix multiply \n",
    "    # is done with .T.  why?\n",
    "    new_indexes = nd.dot(orig_indexes, rotate_data) \n",
    "    print('new_indexes = ', new_indexes)\n",
    "    new_indexes = new_indexes.astype('int64')\n",
    "    print('new_indexes = ', new_indexes)\n",
    "    new_indexes = new_indexes + nd.array(nd.array([0, 2])).astype('int64')\n",
    "    print('new_indexes after shift to positive', new_indexes)\n",
    "\n",
    "    print('out_data ', out_data)\n",
    "    print('out_data.shape ', out_data.shape)\n",
    "    out_data = in_data[new_indexes[:,0],new_indexes[:,1]]\n",
    "    print('out_data ', out_data)\n",
    "    out_data = out_data.reshape(3,3)\n",
    "    print('out_data ', out_data)\n"
   ]
  },
  {
   "cell_type": "code",
   "execution_count": null,
   "id": "db82f12e",
   "metadata": {},
   "outputs": [],
   "source": []
  }
 ],
 "metadata": {
  "kernelspec": {
   "display_name": "Python 3 (ipykernel)",
   "language": "python",
   "name": "python3"
  },
  "language_info": {
   "codemirror_mode": {
    "name": "ipython",
    "version": 3
   },
   "file_extension": ".py",
   "mimetype": "text/x-python",
   "name": "python",
   "nbconvert_exporter": "python",
   "pygments_lexer": "ipython3",
   "version": "3.7.2"
  }
 },
 "nbformat": 4,
 "nbformat_minor": 5
}
