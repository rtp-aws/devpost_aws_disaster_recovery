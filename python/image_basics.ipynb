{
 "cells": [
  {
   "cell_type": "markdown",
   "id": "a9ff8b78",
   "metadata": {},
   "source": [
    "# python libraries"
   ]
  },
  {
   "cell_type": "code",
   "execution_count": 9,
   "id": "4de43b74",
   "metadata": {},
   "outputs": [],
   "source": [
    "import gluoncv as gcv\n",
    "import mxnet as mx\n",
    "# mxnet NDarray \n",
    "from mxnet import nd\n",
    "\n",
    "# MXNet Gluon Neural network layers.\n",
    "from mxnet.gluon import nn\n",
    "\n",
    "# optional for displaying the image\n",
    "import matplotlib.pyplot as plt\n",
    "import numpy as np\n",
    "import os\n",
    "import math\n",
    "# pip install pillow but import PIL\n",
    "from PIL import Image"
   ]
  },
  {
   "cell_type": "markdown",
   "id": "d866a07a",
   "metadata": {},
   "source": [
    "# file system setup"
   ]
  },
  {
   "cell_type": "code",
   "execution_count": 10,
   "id": "8479779b",
   "metadata": {},
   "outputs": [
    {
     "name": "stdout",
     "output_type": "stream",
     "text": [
      "TOP_DIR =  ../\n",
      "TOP_DIR =  ../icy-bridge/\n",
      "MODEL_TOP_DIR =  ../icy-bridge/c6/\n",
      "MODEL_RAW_IMAGE_DIR =  ../icy-bridge/c6/raw/\n",
      "MODEL_POST_IMAGE_DIR =  ../icy-bridge/c6/post_rotate_crop/\n"
     ]
    }
   ],
   "source": [
    "# setup file system locations\n",
    "# yes, this should use os file path TODO: fix it\n",
    "TOP_DIR='../'\n",
    "print('TOP_DIR = ', TOP_DIR)\n",
    "ICY_BRIDGE_DIR = TOP_DIR + 'icy-bridge/'\n",
    "print('TOP_DIR = ', ICY_BRIDGE_DIR)\n",
    "MODEL_NAME = 'c6'\n",
    "MODEL_TOP_DIR = ICY_BRIDGE_DIR + MODEL_NAME + '/'\n",
    "print('MODEL_TOP_DIR = ', MODEL_TOP_DIR)\n",
    "MODEL_RAW_IMAGE_DIR = MODEL_TOP_DIR + 'raw/'\n",
    "MODEL_POST_IMAGE_DIR = MODEL_TOP_DIR + 'post_rotate_crop/'\n",
    "print('MODEL_RAW_IMAGE_DIR = ', MODEL_RAW_IMAGE_DIR)\n",
    "print('MODEL_POST_IMAGE_DIR = ', MODEL_POST_IMAGE_DIR)"
   ]
  },
  {
   "cell_type": "markdown",
   "id": "6c9473ba",
   "metadata": {},
   "source": [
    "# Loading images via Apache MXNet"
   ]
  },
  {
   "cell_type": "code",
   "execution_count": 5,
   "id": "4bcdce8d",
   "metadata": {},
   "outputs": [],
   "source": [
    "def show_it_mxnet(a_mxnet_image):\n",
    "    plt.imshow(a_mxnet_image.asnumpy())\n",
    "    print(\"type: \", type(a_mxnet_image))\n",
    "    print(\"shape: \", a_mxnet_image.shape)\n"
   ]
  },
  {
   "cell_type": "code",
   "execution_count": 6,
   "id": "2e9661bf",
   "metadata": {},
   "outputs": [
    {
     "ename": "NameError",
     "evalue": "name 'MODEL_RAW_IMAGE_DIR' is not defined",
     "output_type": "error",
     "traceback": [
      "\u001b[0;31m---------------------------------------------------------------------------\u001b[0m",
      "\u001b[0;31mNameError\u001b[0m                                 Traceback (most recent call last)",
      "\u001b[0;32m/tmp/ipykernel_40921/4188493059.py\u001b[0m in \u001b[0;36m<module>\u001b[0;34m\u001b[0m\n\u001b[1;32m      1\u001b[0m \u001b[0;31m# a color jpeg\u001b[0m\u001b[0;34m\u001b[0m\u001b[0;34m\u001b[0m\u001b[0;34m\u001b[0m\u001b[0m\n\u001b[0;32m----> 2\u001b[0;31m \u001b[0mjpegC_filepath\u001b[0m \u001b[0;34m=\u001b[0m \u001b[0mMODEL_RAW_IMAGE_DIR\u001b[0m \u001b[0;34m+\u001b[0m \u001b[0;34m'BUS40_SALEM_20220114Z1255.jpg'\u001b[0m\u001b[0;34m\u001b[0m\u001b[0;34m\u001b[0m\u001b[0m\n\u001b[0m\u001b[1;32m      3\u001b[0m \u001b[0;34m\u001b[0m\u001b[0m\n\u001b[1;32m      4\u001b[0m \u001b[0mjpeg_30255\u001b[0m \u001b[0;34m=\u001b[0m \u001b[0mmx\u001b[0m\u001b[0;34m.\u001b[0m\u001b[0mimage\u001b[0m\u001b[0;34m.\u001b[0m\u001b[0mimread\u001b[0m\u001b[0;34m(\u001b[0m\u001b[0mjpegC_filepath\u001b[0m\u001b[0;34m,\u001b[0m \u001b[0mflag\u001b[0m\u001b[0;34m=\u001b[0m\u001b[0;36m1\u001b[0m\u001b[0;34m)\u001b[0m \u001b[0;31m# flag=1 for color flag=0 for grayscale\u001b[0m\u001b[0;34m\u001b[0m\u001b[0;34m\u001b[0m\u001b[0m\n\u001b[1;32m      5\u001b[0m \u001b[0mshow_it_mxnet\u001b[0m\u001b[0;34m(\u001b[0m\u001b[0mjpeg_30255\u001b[0m\u001b[0;34m)\u001b[0m\u001b[0;34m\u001b[0m\u001b[0;34m\u001b[0m\u001b[0m\n",
      "\u001b[0;31mNameError\u001b[0m: name 'MODEL_RAW_IMAGE_DIR' is not defined"
     ]
    }
   ],
   "source": [
    "# a color jpeg\n",
    "jpegC_filepath = MODEL_RAW_IMAGE_DIR + 'BUS40_SALEM_20220114Z1255.jpg'\n",
    "\n",
    "jpeg_30255 = mx.image.imread(jpegC_filepath, flag=1) # flag=1 for color flag=0 for grayscale\n",
    "show_it_mxnet(jpeg_30255)"
   ]
  },
  {
   "cell_type": "code",
   "execution_count": null,
   "id": "0ae798ea",
   "metadata": {},
   "outputs": [],
   "source": []
  }
 ],
 "metadata": {
  "kernelspec": {
   "display_name": "Python 3 (ipykernel)",
   "language": "python",
   "name": "python3"
  },
  "language_info": {
   "codemirror_mode": {
    "name": "ipython",
    "version": 3
   },
   "file_extension": ".py",
   "mimetype": "text/x-python",
   "name": "python",
   "nbconvert_exporter": "python",
   "pygments_lexer": "ipython3",
   "version": "3.7.2"
  }
 },
 "nbformat": 4,
 "nbformat_minor": 5
}
