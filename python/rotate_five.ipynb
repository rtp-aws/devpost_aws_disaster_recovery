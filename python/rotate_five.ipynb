{
 "cells": [
  {
   "cell_type": "code",
   "execution_count": 1,
   "id": "94ebdefb",
   "metadata": {},
   "outputs": [],
   "source": [
    "import gluoncv as gcv\n",
    "import mxnet as mx\n",
    "# mxnet NDarray \n",
    "from mxnet import nd\n",
    "\n",
    "# MXNet Gluon Neural network layers.\n",
    "from mxnet.gluon import nn\n",
    "\n",
    "# optional for displaying the image\n",
    "import matplotlib.pyplot as plt\n",
    "import numpy as np\n",
    "import os\n",
    "import math"
   ]
  },
  {
   "cell_type": "code",
   "execution_count": 2,
   "id": "693e34a9",
   "metadata": {},
   "outputs": [],
   "source": [
    "def build_rot_matrix(angle):\n",
    "    #  a  b\n",
    "    #  c  d\n",
    "    \n",
    "    # calculate terms\n",
    "    a = math.cos(x)\n",
    "    b = -math.sin(x)\n",
    "    c = math.sin(x)\n",
    "    d = math.cos(x)\n",
    "\n",
    "    # print(\"a = \", a)\n",
    "    # print(\"b = \", b)\n",
    "    # print(\"c = \", c)\n",
    "    # print(\"d = \", d)\n",
    "    \n",
    "    # build np array\n",
    "    np_array = np.array([\n",
    "        [a,b],\n",
    "        [c,d]\n",
    "    ])\n",
    "    \n",
    "    # build mx.nd array\n",
    "    nd_array = mx.nd.array(np_array)\n",
    "    \n",
    "    return nd_array"
   ]
  },
  {
   "cell_type": "code",
   "execution_count": 3,
   "id": "ade5e7fd",
   "metadata": {},
   "outputs": [
    {
     "name": "stdout",
     "output_type": "stream",
     "text": [
      "rotate by 90 nd array is  \n",
      "[[ 6.123234e-17 -1.000000e+00]\n",
      " [ 1.000000e+00  6.123234e-17]]\n",
      "<NDArray 2x2 @cpu(0)>\n"
     ]
    }
   ],
   "source": [
    "x=0.5*math.pi\n",
    "\n",
    "rotate_90 = build_rot_matrix(x)\n",
    "print('rotate by 90 nd array is ', rotate_90)"
   ]
  },
  {
   "cell_type": "code",
   "execution_count": 4,
   "id": "ff860599",
   "metadata": {},
   "outputs": [
    {
     "name": "stdout",
     "output_type": "stream",
     "text": [
      "in_img_batch is  \n",
      "[[[0. 1. 2.]\n",
      "  [3. 4. 5.]\n",
      "  [6. 7. 8.]]]\n",
      "<NDArray 1x3x3 @cpu(0)>\n",
      "in_img  \n",
      "[[0. 1. 2.]\n",
      " [3. 4. 5.]\n",
      " [6. 7. 8.]]\n",
      "<NDArray 3x3 @cpu(0)>\n"
     ]
    }
   ],
   "source": [
    "# Input Image \n",
    "in_img_batch = nd.arange(9).reshape((1,3,3))\n",
    "print('in_img_batch is ', in_img_batch)\n",
    "in_img = in_img_batch[0]\n",
    "print('in_img ', in_img)"
   ]
  },
  {
   "cell_type": "code",
   "execution_count": 5,
   "id": "ff96b4b1",
   "metadata": {},
   "outputs": [
    {
     "name": "stdout",
     "output_type": "stream",
     "text": [
      "out_img_batch \n",
      "[[[9. 9. 9.]\n",
      "  [9. 9. 9.]\n",
      "  [9. 9. 9.]]]\n",
      "<NDArray 1x3x3 @cpu(0)>\n",
      "out_img is  \n",
      "[[9. 9. 9.]\n",
      " [9. 9. 9.]\n",
      " [9. 9. 9.]]\n",
      "<NDArray 3x3 @cpu(0)>\n"
     ]
    }
   ],
   "source": [
    "# Output Image\n",
    "# setup an ouptut array with all nines, so I can see overwrites with new values\n",
    "out_img = nd.ones(9).reshape((3,3))*9\n",
    "# out_img also needs to be in batch form\n",
    "out_img_batch = nd.expand_dims(out_img, axis=0)\n",
    "print('out_img_batch', out_img_batch)\n",
    "print('out_img is ', out_img)"
   ]
  },
  {
   "cell_type": "code",
   "execution_count": 8,
   "id": "40b2f07e",
   "metadata": {},
   "outputs": [
    {
     "name": "stdout",
     "output_type": "stream",
     "text": [
      "loop entry - a single batch - a single image in batch.data[0] from what is in in_data\n",
      "a_img_batch =  \n",
      "[[[0. 1. 2.]\n",
      "  [3. 4. 5.]\n",
      "  [6. 7. 8.]]]\n",
      "<NDArray 1x3x3 @cpu(0)>\n",
      "a_img_batch.shape =  (1, 3, 3)\n",
      "a_img_indexes   \n",
      "[[[[0 0]\n",
      "   [0 1]\n",
      "   [0 2]]\n",
      "\n",
      "  [[1 0]\n",
      "   [1 1]\n",
      "   [1 2]]\n",
      "\n",
      "  [[2 0]\n",
      "   [2 1]\n",
      "   [2 2]]]]\n",
      "<NDArray 1x3x3x2 @cpu(0)>\n",
      "a_img_indexes.shape  (1, 3, 3, 2)\n",
      "orig_indexes  \n",
      "[[0 0]\n",
      " [0 1]\n",
      " [0 2]\n",
      " [1 0]\n",
      " [1 1]\n",
      " [1 2]\n",
      " [2 0]\n",
      " [2 1]\n",
      " [2 2]]\n",
      "<NDArray 9x2 @cpu(0)>\n",
      "new_indexes =  \n",
      "[[ 0.0000000e+00  0.0000000e+00]\n",
      " [ 1.0000000e+00  6.1232343e-17]\n",
      " [ 2.0000000e+00  1.2246469e-16]\n",
      " [ 6.1232343e-17 -1.0000000e+00]\n",
      " [ 1.0000000e+00 -1.0000000e+00]\n",
      " [ 2.0000000e+00 -1.0000000e+00]\n",
      " [ 1.2246469e-16 -2.0000000e+00]\n",
      " [ 1.0000000e+00 -2.0000000e+00]\n",
      " [ 2.0000000e+00 -2.0000000e+00]]\n",
      "<NDArray 9x2 @cpu(0)>\n",
      "new_indexes =  \n",
      "[[ 0  0]\n",
      " [ 1  0]\n",
      " [ 2  0]\n",
      " [ 0 -1]\n",
      " [ 1 -1]\n",
      " [ 2 -1]\n",
      " [ 0 -2]\n",
      " [ 1 -2]\n",
      " [ 2 -2]]\n",
      "<NDArray 9x2 @cpu(0)>\n",
      "new_indexes after shift to positive \n",
      "[[0 2]\n",
      " [1 2]\n",
      " [2 2]\n",
      " [0 1]\n",
      " [1 1]\n",
      " [2 1]\n",
      " [0 0]\n",
      " [1 0]\n",
      " [2 0]]\n",
      "<NDArray 9x2 @cpu(0)>\n",
      "out_img  \n",
      "[[4.e-45 0.e+00 0.e+00]\n",
      " [0.e+00 0.e+00 0.e+00]\n",
      " [0.e+00 0.e+00 0.e+00]\n",
      " [0.e+00 0.e+00 0.e+00]\n",
      " [0.e+00 0.e+00 0.e+00]\n",
      " [0.e+00 0.e+00 0.e+00]\n",
      " [0.e+00 0.e+00 0.e+00]\n",
      " [0.e+00 0.e+00 0.e+00]\n",
      " [0.e+00 0.e+00 0.e+00]]\n",
      "<NDArray 9x3 @cpu(0)>\n",
      "out_img.shape  (9, 3)\n",
      "out_img  \n",
      "[2. 5. 8. 1. 4. 7. 0. 3. 6.]\n",
      "<NDArray 9 @cpu(0)>\n",
      "out_img  \n",
      "[[2. 5. 8.]\n",
      " [1. 4. 7.]\n",
      " [0. 3. 6.]]\n",
      "<NDArray 3x3 @cpu(0)>\n"
     ]
    }
   ],
   "source": [
    "# NDArrayIter(data, label=None, batch_size=1, shuffle=False, \n",
    "#            last_batch_handle='pad', data_name='data', \n",
    "#            label_name='softmax_label')\n",
    "#\n",
    "# Ignore the label parameter.\n",
    "dataiter = mx.io.NDArrayIter(in_img_batch, batch_size=1, shuffle=False, last_batch_handle='discard')\n",
    "#batch_index = [0]\n",
    "for batch in dataiter:\n",
    "    \n",
    "    print('loop entry - a single batch - a single image in batch.data[0] from what is in in_data')\n",
    "    # Does this copy or get an alias to the input image?\n",
    "    a_img_batch = batch.data[0]\n",
    "    print ('a_img_batch = ', a_img_batch)\n",
    "    print ('a_img_batch.shape = ', a_img_batch.shape)\n",
    "    \n",
    "    a_img_indexes = mx.nd.contrib.index_array(a_img_batch, axes=(1, 2))\n",
    "    print('a_img_indexes  ', a_img_indexes)\n",
    "    print ('a_img_indexes.shape ', a_img_indexes.shape)\n",
    "    \n",
    "    \n",
    "    \n",
    "    # Try to assign input data to output data based upon indicies\n",
    "    orig_indexes = mx.nd.reshape(a_img_indexes, shape=(9,2))\n",
    "    print('orig_indexes ', orig_indexes)\n",
    "    orig_indexes = orig_indexes.astype(\"float32\")\n",
    "    \n",
    "    # I've seen one variant where matrix-matrix multiply \n",
    "    # is done with .T.  why?\n",
    "    new_indexes = nd.dot(orig_indexes, rotate_90) \n",
    "    print('new_indexes = ', new_indexes)\n",
    "    new_indexes = new_indexes.astype('int64')\n",
    "    print('new_indexes = ', new_indexes)\n",
    "    new_indexes = new_indexes + nd.array(nd.array([0, 2])).astype('int64')\n",
    "    print('new_indexes after shift to positive', new_indexes)\n",
    "\n",
    "    print('out_img ', out_img)\n",
    "    print('out_img.shape ', out_img.shape)\n",
    "    out_img = a_img_batch[0][new_indexes[:,0],new_indexes[:,1]]\n",
    "    print('out_img ', out_img)\n",
    "    out_img = out_img.reshape(3,3)\n",
    "    print('out_img ', out_img)\n"
   ]
  },
  {
   "cell_type": "code",
   "execution_count": null,
   "id": "b3ce23dd",
   "metadata": {},
   "outputs": [],
   "source": []
  }
 ],
 "metadata": {
  "kernelspec": {
   "display_name": "Python 3 (ipykernel)",
   "language": "python",
   "name": "python3"
  },
  "language_info": {
   "codemirror_mode": {
    "name": "ipython",
    "version": 3
   },
   "file_extension": ".py",
   "mimetype": "text/x-python",
   "name": "python",
   "nbconvert_exporter": "python",
   "pygments_lexer": "ipython3",
   "version": "3.7.2"
  }
 },
 "nbformat": 4,
 "nbformat_minor": 5
}
