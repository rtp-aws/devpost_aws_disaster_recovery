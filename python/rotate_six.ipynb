{
 "cells": [
  {
   "cell_type": "markdown",
   "id": "88e9ac09",
   "metadata": {},
   "source": [
    "# Python Libs"
   ]
  },
  {
   "cell_type": "code",
   "execution_count": 43,
   "id": "7f636e58",
   "metadata": {},
   "outputs": [],
   "source": [
    "import gluoncv as gcv\n",
    "import mxnet as mx\n",
    "# mxnet NDarray \n",
    "from mxnet import nd\n",
    "\n",
    "# MXNet Gluon Neural network layers.\n",
    "from mxnet.gluon import nn\n",
    "\n",
    "# optional for displaying the image\n",
    "import matplotlib.pyplot as plt\n",
    "import numpy as np\n",
    "import os\n",
    "import math"
   ]
  },
  {
   "cell_type": "markdown",
   "id": "0372448a",
   "metadata": {},
   "source": [
    "# Rotate Matrix"
   ]
  },
  {
   "cell_type": "code",
   "execution_count": 44,
   "id": "59fec053",
   "metadata": {},
   "outputs": [],
   "source": [
    "def build_rot_matrix(angle):\n",
    "    #  a  b\n",
    "    #  c  d\n",
    "    \n",
    "    # calculate terms\n",
    "    a = math.cos(x)\n",
    "    b = -math.sin(x)\n",
    "    c = math.sin(x)\n",
    "    d = math.cos(x)\n",
    "\n",
    "    # print(\"a = \", a)\n",
    "    # print(\"b = \", b)\n",
    "    # print(\"c = \", c)\n",
    "    # print(\"d = \", d)\n",
    "    \n",
    "    # build np array\n",
    "    np_array = np.array([\n",
    "        [a,b],\n",
    "        [c,d]\n",
    "    ])\n",
    "    \n",
    "    # build mx.nd array\n",
    "    nd_array = mx.nd.array(np_array)\n",
    "    \n",
    "    return nd_array"
   ]
  },
  {
   "cell_type": "markdown",
   "id": "8678220b",
   "metadata": {},
   "source": [
    "### rotate 0 matrix"
   ]
  },
  {
   "cell_type": "code",
   "execution_count": 45,
   "id": "5a531043",
   "metadata": {},
   "outputs": [
    {
     "name": "stdout",
     "output_type": "stream",
     "text": [
      "rotate by 0 nd array is  \n",
      "[[ 1. -0.]\n",
      " [ 0.  1.]]\n",
      "<NDArray 2x2 @cpu(0)>\n"
     ]
    }
   ],
   "source": [
    "x=0\n",
    "\n",
    "rotate_0 = build_rot_matrix(x)\n",
    "print('rotate by 0 nd array is ', rotate_0)"
   ]
  },
  {
   "cell_type": "markdown",
   "id": "c61f330d",
   "metadata": {},
   "source": [
    "### rotate 90 matrix"
   ]
  },
  {
   "cell_type": "code",
   "execution_count": 46,
   "id": "d27c0e4c",
   "metadata": {},
   "outputs": [
    {
     "name": "stdout",
     "output_type": "stream",
     "text": [
      "rotate by 90 nd array is  \n",
      "[[ 6.123234e-17 -1.000000e+00]\n",
      " [ 1.000000e+00  6.123234e-17]]\n",
      "<NDArray 2x2 @cpu(0)>\n"
     ]
    }
   ],
   "source": [
    "x=0.5*math.pi\n",
    "\n",
    "rotate_90 = build_rot_matrix(x)\n",
    "print('rotate by 90 nd array is ', rotate_90)"
   ]
  },
  {
   "cell_type": "markdown",
   "id": "c93847da",
   "metadata": {},
   "source": [
    "### rotate 180/-180 matrix"
   ]
  },
  {
   "cell_type": "code",
   "execution_count": 47,
   "id": "7cfabf31",
   "metadata": {},
   "outputs": [
    {
     "name": "stdout",
     "output_type": "stream",
     "text": [
      "rotate by 180 nd array is  \n",
      "[[-1.0000000e+00 -1.2246469e-16]\n",
      " [ 1.2246469e-16 -1.0000000e+00]]\n",
      "<NDArray 2x2 @cpu(0)>\n"
     ]
    }
   ],
   "source": [
    "x=math.pi\n",
    "\n",
    "rotate_180 = build_rot_matrix(x)\n",
    "print('rotate by 180 nd array is ', rotate_180)"
   ]
  },
  {
   "cell_type": "markdown",
   "id": "91be02bc",
   "metadata": {},
   "source": [
    "### rotate 270 matrix"
   ]
  },
  {
   "cell_type": "code",
   "execution_count": 48,
   "id": "372ffd8a",
   "metadata": {},
   "outputs": [
    {
     "name": "stdout",
     "output_type": "stream",
     "text": [
      "rotate by 270 nd array is  \n",
      "[[-1.8369701e-16  1.0000000e+00]\n",
      " [-1.0000000e+00 -1.8369701e-16]]\n",
      "<NDArray 2x2 @cpu(0)>\n"
     ]
    }
   ],
   "source": [
    "x=1.5*math.pi\n",
    "\n",
    "rotate_270 = build_rot_matrix(x)\n",
    "print('rotate by 270 nd array is ', rotate_270)"
   ]
  },
  {
   "cell_type": "markdown",
   "id": "85bafc80",
   "metadata": {},
   "source": [
    "# Generic Rotate Routine"
   ]
  },
  {
   "cell_type": "code",
   "execution_count": 49,
   "id": "2fe378d6",
   "metadata": {},
   "outputs": [],
   "source": [
    "def my_print(verbose=False, *args):\n",
    "    if (verbose):\n",
    "        print(args)"
   ]
  },
  {
   "cell_type": "code",
   "execution_count": 62,
   "id": "a5404570",
   "metadata": {},
   "outputs": [],
   "source": [
    "def my_rotate(input_image_batch, rotate_matrix, verbose=False):\n",
    "    # NDArrayIter(data, label=None, batch_size=1, shuffle=False, \n",
    "    #            last_batch_handle='pad', data_name='data', \n",
    "    #            label_name='softmax_label')\n",
    "    #\n",
    "    # Ignore the label parameter.\n",
    "    dataiter = mx.io.NDArrayIter(input_image_batch, batch_size=1, shuffle=False, last_batch_handle='discard')\n",
    "    for batch in dataiter:\n",
    "\n",
    "        my_print(verbose, 'loop entry - a single batch - a single image in batch.data[0] from what is in in_data')\n",
    "        \n",
    "        \n",
    "        # Does this copy or get an alias to the input image?\n",
    "        a_img_batch = batch.data[0]\n",
    "        my_print(verbose, 'a_img_batch = ', a_img_batch)\n",
    "        my_print(verbose, 'a_img_batch.shape = ', a_img_batch.shape)\n",
    "\n",
    "        #\n",
    "        # Remember the dims so we can reshare the flattened array back to rectangular\n",
    "        orig_dims = a_img_batch[0].shape\n",
    "        \n",
    "        \n",
    "        a_img_indexes = mx.nd.contrib.index_array(a_img_batch, axes=(1, 2))\n",
    "        my_print(verbose, 'a_img_indexes  ', a_img_indexes)\n",
    "        my_print(verbose, 'a_img_indexes.shape ', a_img_indexes.shape)\n",
    "\n",
    "\n",
    "\n",
    "        # Try to assign input data to output data based upon indicies\n",
    "        #\n",
    "        # Need to reshape so that rows=size of image sans batch\n",
    "        # 2x2-> 4,2\n",
    "        # 3x3-> 9,2\n",
    "        #\n",
    "        num_rows = a_img_batch[0].size\n",
    "        my_print(True,'num_rows = ', num_rows)\n",
    "        orig_indexes = mx.nd.reshape(a_img_indexes, shape=(num_rows,2))\n",
    "        my_print(verbose, 'orig_indexes ', orig_indexes)\n",
    "        orig_indexes = orig_indexes.astype(\"float32\")\n",
    "\n",
    "        # do the rotate\n",
    "        new_indexes = nd.dot(orig_indexes, rotate_matrix) \n",
    "        my_print(verbose, 'new_indexes = ', new_indexes)\n",
    "        new_indexes = new_indexes.astype('int64')\n",
    "        my_print(verbose, 'new_indexes = ', new_indexes)\n",
    "        #\n",
    "        # shift to lower right quadrant. shift so that index axes is 0,0 in top left\n",
    "        #\n",
    "        # find the min row value\n",
    "        min_row = new_indexes.min(axis=0)[0]\n",
    "        my_print(verbose, 'min_row = ', min_row)\n",
    "        adj_row = nd.abs(min_row).asscalar()\n",
    "        my_print(verbose, 'adj_row = ', adj_row)\n",
    "        \n",
    "        # find the min col value\n",
    "        min_col = new_indexes.min(axis=0)[1]\n",
    "        my_print(verbose, 'min_col = ', min_col)\n",
    "        adj_col = nd.abs(min_col).asscalar()\n",
    "        my_print(verbose, 'adj_col = ', adj_col)\n",
    " \n",
    "        # adjust based upon min row/col\n",
    "        # with rotate 90 for 3x3 its [0,2]\n",
    "        new_indexes = new_indexes + nd.array(nd.array([adj_row, adj_col])).astype('int64')\n",
    "        my_print(verbose, 'new_indexes after shift to positive', new_indexes)\n",
    "\n",
    "        #\n",
    "        # The output image needs to be resized to match new dimensions.\n",
    "        #\n",
    "        \n",
    "        #\n",
    "        # Determine the max dim in array\n",
    "        # \n",
    "        # find the min row value\n",
    "        max_row = new_indexes.max(axis=0)[0].asscalar() + 1\n",
    "        my_print(verbose, 'max_row = ', max_row)\n",
    "        \n",
    "        # find the min col value\n",
    "        max_col = new_indexes.max(axis=0)[1].asscalar() + 1\n",
    "        my_print(verbose, 'max_col = ', max_col)\n",
    "\n",
    "        # This only works for square images rotated in 90 degree increments\n",
    "        #output_image_batch = nd.zeros(input_image_batch.size).reshape(input_image_batch.shape)\n",
    "        # Use new max col and max row\n",
    "        output_image_batch = nd.zeros(input_image_batch.size).reshape([1, max_row, max_col])\n",
    "        print('output_image_batch.shape = ', output_image_batch.shape)\n",
    "\n",
    "        \n",
    "        output_image = output_image_batch[0]\n",
    "        \n",
    "        my_print(verbose, 'output_image_batch ', output_image_batch)\n",
    "        my_print(verbose, 'output_image_batch.shape ', output_image_batch.shape)\n",
    "        my_print(verbose, 'output_image_batch[0] ', output_image_batch[0])\n",
    "        print('works 0?')\n",
    "        print('works 1?')\n",
    "        print('a_img_batch[0].shape = ', a_img_batch[0].shape)\n",
    "        print('new_indexes[:,0].max = ', new_indexes[:,0].max)\n",
    "        print('new_indexes[:,1].max = ', new_indexes[:,1].max)\n",
    "        my_print(verbose, 'a_img_batch[0][new_indexes[:,0],new_indexes[:,1]] ', a_img_batch[0][new_indexes[:,0],new_indexes[:,1]])\n",
    "        #print(a_img_batch[0][new_indexes[:,0],0])\n",
    "        #return 0\n",
    "     \n",
    "    \n",
    "        output_image = a_img_batch[0][new_indexes[:,0],new_indexes[:,1]]\n",
    "        my_print(verbose, 'output_image ', output_image)\n",
    "        # output_image is flatened, need to resize to rectangular\n",
    "        #\n",
    "        #\n",
    "        # FAILURE #1 \n",
    "        # (new_dims, new_dims) = square_root(num_rows) only works when square\n",
    "        # \n",
    "        # new_dims = float(num_rows)**0.5\n",
    "        # new_dims = int(new_dims)\n",
    "        # output_image = output_image.reshape(new_dims, new_dims)\n",
    "        #\n",
    "        # FAILURE #2\n",
    "        # \n",
    "        # If the image is rotated so that H,W becomes W,H and W is greater than W, this will\n",
    "        # fail since the indexes are out of range.\n",
    "        #\n",
    "        # output_image = output_image.reshape(orig_dims)\n",
    "        \n",
    "        \n",
    "        # Hack\n",
    "        #max_dim = max(max_col, max_row)\n",
    "                \n",
    "        output_image = output_image.reshape( max_row, max_col)    \n",
    "        print('works 2?')\n",
    "        \n",
    "        my_print(verbose, 'output_image ', output_image)\n",
    "        output_image_batch = nd.expand_dims(output_image, axis=0)\n",
    "        my_print(verbose, 'output_image_batch ', output_image_batch)\n",
    "        print('works 3?')\n",
    "        \n",
    "        return output_image_batch\n",
    "        #return 0 # stub"
   ]
  },
  {
   "cell_type": "markdown",
   "id": "717c7481",
   "metadata": {},
   "source": [
    "# Test 90 "
   ]
  },
  {
   "cell_type": "code",
   "execution_count": 63,
   "id": "1c2efafc",
   "metadata": {},
   "outputs": [
    {
     "name": "stdout",
     "output_type": "stream",
     "text": [
      "in_img_batch is  \n",
      "[[[0. 1. 2.]\n",
      "  [3. 4. 5.]\n",
      "  [6. 7. 8.]]]\n",
      "<NDArray 1x3x3 @cpu(0)>\n",
      "in_img  \n",
      "[[0. 1. 2.]\n",
      " [3. 4. 5.]\n",
      " [6. 7. 8.]]\n",
      "<NDArray 3x3 @cpu(0)>\n"
     ]
    }
   ],
   "source": [
    "# Input Image \n",
    "in_img_batch = nd.arange(9).reshape((1,3,3))\n",
    "print('in_img_batch is ', in_img_batch)\n",
    "in_img = in_img_batch[0]\n",
    "print('in_img ', in_img)"
   ]
  },
  {
   "cell_type": "code",
   "execution_count": 64,
   "id": "2c814043",
   "metadata": {},
   "outputs": [
    {
     "name": "stdout",
     "output_type": "stream",
     "text": [
      "('num_rows = ', 9)\n"
     ]
    },
    {
     "ename": "IndexError",
     "evalue": "Traceback (most recent call last):\n  File \"../src/operator/tensor/indexing_op.cc\", line 454\nIndexError: index 2 is out of bounds for axis 0 with size 2",
     "output_type": "error",
     "traceback": [
      "\u001b[0;31m---------------------------------------------------------------------------\u001b[0m",
      "\u001b[0;31mIndexError\u001b[0m                                Traceback (most recent call last)",
      "\u001b[0;32m/tmp/ipykernel_187771/3117067224.py\u001b[0m in \u001b[0;36m<module>\u001b[0;34m\u001b[0m\n\u001b[0;32m----> 1\u001b[0;31m \u001b[0mout_img_batch\u001b[0m \u001b[0;34m=\u001b[0m \u001b[0mmy_rotate\u001b[0m\u001b[0;34m(\u001b[0m\u001b[0min_img_batch\u001b[0m\u001b[0;34m,\u001b[0m \u001b[0mrotate_90\u001b[0m\u001b[0;34m)\u001b[0m\u001b[0;34m\u001b[0m\u001b[0;34m\u001b[0m\u001b[0m\n\u001b[0m\u001b[1;32m      2\u001b[0m \u001b[0mout_img_batch\u001b[0m\u001b[0;34m\u001b[0m\u001b[0;34m\u001b[0m\u001b[0m\n",
      "\u001b[0;32m/tmp/ipykernel_187771/3488349172.py\u001b[0m in \u001b[0;36mmy_rotate\u001b[0;34m(input_image_batch, rotate_matrix, verbose)\u001b[0m\n\u001b[1;32m     50\u001b[0m         \u001b[0mmin_row\u001b[0m \u001b[0;34m=\u001b[0m \u001b[0mnew_indexes\u001b[0m\u001b[0;34m.\u001b[0m\u001b[0mmin\u001b[0m\u001b[0;34m(\u001b[0m\u001b[0maxis\u001b[0m\u001b[0;34m=\u001b[0m\u001b[0;36m0\u001b[0m\u001b[0;34m)\u001b[0m\u001b[0;34m[\u001b[0m\u001b[0;36m0\u001b[0m\u001b[0;34m]\u001b[0m\u001b[0;34m\u001b[0m\u001b[0;34m\u001b[0m\u001b[0m\n\u001b[1;32m     51\u001b[0m         \u001b[0mmy_print\u001b[0m\u001b[0;34m(\u001b[0m\u001b[0mverbose\u001b[0m\u001b[0;34m,\u001b[0m \u001b[0;34m'min_row = '\u001b[0m\u001b[0;34m,\u001b[0m \u001b[0mmin_row\u001b[0m\u001b[0;34m)\u001b[0m\u001b[0;34m\u001b[0m\u001b[0;34m\u001b[0m\u001b[0m\n\u001b[0;32m---> 52\u001b[0;31m         \u001b[0madj_row\u001b[0m \u001b[0;34m=\u001b[0m \u001b[0mnd\u001b[0m\u001b[0;34m.\u001b[0m\u001b[0mabs\u001b[0m\u001b[0;34m(\u001b[0m\u001b[0mmin_row\u001b[0m\u001b[0;34m)\u001b[0m\u001b[0;34m.\u001b[0m\u001b[0masscalar\u001b[0m\u001b[0;34m(\u001b[0m\u001b[0;34m)\u001b[0m\u001b[0;34m\u001b[0m\u001b[0;34m\u001b[0m\u001b[0m\n\u001b[0m\u001b[1;32m     53\u001b[0m         \u001b[0mmy_print\u001b[0m\u001b[0;34m(\u001b[0m\u001b[0mverbose\u001b[0m\u001b[0;34m,\u001b[0m \u001b[0;34m'adj_row = '\u001b[0m\u001b[0;34m,\u001b[0m \u001b[0madj_row\u001b[0m\u001b[0;34m)\u001b[0m\u001b[0;34m\u001b[0m\u001b[0;34m\u001b[0m\u001b[0m\n\u001b[1;32m     54\u001b[0m \u001b[0;34m\u001b[0m\u001b[0m\n",
      "\u001b[0;32m~/.pyenv/versions/3.7.2/envs/devpost/lib/python3.7/site-packages/mxnet/ndarray/ndarray.py\u001b[0m in \u001b[0;36masscalar\u001b[0;34m(self)\u001b[0m\n\u001b[1;32m   2588\u001b[0m             \u001b[0;32mraise\u001b[0m \u001b[0mValueError\u001b[0m\u001b[0;34m(\u001b[0m\u001b[0;34m\"The current array is not a scalar\"\u001b[0m\u001b[0;34m)\u001b[0m\u001b[0;34m\u001b[0m\u001b[0;34m\u001b[0m\u001b[0m\n\u001b[1;32m   2589\u001b[0m         \u001b[0;32mif\u001b[0m \u001b[0mself\u001b[0m\u001b[0;34m.\u001b[0m\u001b[0mndim\u001b[0m \u001b[0;34m==\u001b[0m \u001b[0;36m1\u001b[0m\u001b[0;34m:\u001b[0m\u001b[0;34m\u001b[0m\u001b[0;34m\u001b[0m\u001b[0m\n\u001b[0;32m-> 2590\u001b[0;31m             \u001b[0;32mreturn\u001b[0m \u001b[0mself\u001b[0m\u001b[0;34m.\u001b[0m\u001b[0masnumpy\u001b[0m\u001b[0;34m(\u001b[0m\u001b[0;34m)\u001b[0m\u001b[0;34m[\u001b[0m\u001b[0;36m0\u001b[0m\u001b[0;34m]\u001b[0m\u001b[0;34m\u001b[0m\u001b[0;34m\u001b[0m\u001b[0m\n\u001b[0m\u001b[1;32m   2591\u001b[0m         \u001b[0;32melse\u001b[0m\u001b[0;34m:\u001b[0m\u001b[0;34m\u001b[0m\u001b[0;34m\u001b[0m\u001b[0m\n\u001b[1;32m   2592\u001b[0m             \u001b[0;32mreturn\u001b[0m \u001b[0mself\u001b[0m\u001b[0;34m.\u001b[0m\u001b[0masnumpy\u001b[0m\u001b[0;34m(\u001b[0m\u001b[0;34m)\u001b[0m\u001b[0;34m[\u001b[0m\u001b[0;34m(\u001b[0m\u001b[0;34m)\u001b[0m\u001b[0;34m]\u001b[0m\u001b[0;34m\u001b[0m\u001b[0;34m\u001b[0m\u001b[0m\n",
      "\u001b[0;32m~/.pyenv/versions/3.7.2/envs/devpost/lib/python3.7/site-packages/mxnet/ndarray/ndarray.py\u001b[0m in \u001b[0;36masnumpy\u001b[0;34m(self)\u001b[0m\n\u001b[1;32m   2569\u001b[0m             \u001b[0mself\u001b[0m\u001b[0;34m.\u001b[0m\u001b[0mhandle\u001b[0m\u001b[0;34m,\u001b[0m\u001b[0;34m\u001b[0m\u001b[0;34m\u001b[0m\u001b[0m\n\u001b[1;32m   2570\u001b[0m             \u001b[0mdata\u001b[0m\u001b[0;34m.\u001b[0m\u001b[0mctypes\u001b[0m\u001b[0;34m.\u001b[0m\u001b[0mdata_as\u001b[0m\u001b[0;34m(\u001b[0m\u001b[0mctypes\u001b[0m\u001b[0;34m.\u001b[0m\u001b[0mc_void_p\u001b[0m\u001b[0;34m)\u001b[0m\u001b[0;34m,\u001b[0m\u001b[0;34m\u001b[0m\u001b[0;34m\u001b[0m\u001b[0m\n\u001b[0;32m-> 2571\u001b[0;31m             ctypes.c_size_t(data.size)))\n\u001b[0m\u001b[1;32m   2572\u001b[0m         \u001b[0;32mreturn\u001b[0m \u001b[0mdata\u001b[0m\u001b[0;34m\u001b[0m\u001b[0;34m\u001b[0m\u001b[0m\n\u001b[1;32m   2573\u001b[0m \u001b[0;34m\u001b[0m\u001b[0m\n",
      "\u001b[0;32m~/.pyenv/versions/3.7.2/envs/devpost/lib/python3.7/site-packages/mxnet/base.py\u001b[0m in \u001b[0;36mcheck_call\u001b[0;34m(ret)\u001b[0m\n\u001b[1;32m    244\u001b[0m     \"\"\"\n\u001b[1;32m    245\u001b[0m     \u001b[0;32mif\u001b[0m \u001b[0mret\u001b[0m \u001b[0;34m!=\u001b[0m \u001b[0;36m0\u001b[0m\u001b[0;34m:\u001b[0m\u001b[0;34m\u001b[0m\u001b[0;34m\u001b[0m\u001b[0m\n\u001b[0;32m--> 246\u001b[0;31m         \u001b[0;32mraise\u001b[0m \u001b[0mget_last_ffi_error\u001b[0m\u001b[0;34m(\u001b[0m\u001b[0;34m)\u001b[0m\u001b[0;34m\u001b[0m\u001b[0;34m\u001b[0m\u001b[0m\n\u001b[0m\u001b[1;32m    247\u001b[0m \u001b[0;34m\u001b[0m\u001b[0m\n\u001b[1;32m    248\u001b[0m \u001b[0;34m\u001b[0m\u001b[0m\n",
      "\u001b[0;31mIndexError\u001b[0m: Traceback (most recent call last):\n  File \"../src/operator/tensor/indexing_op.cc\", line 454\nIndexError: index 2 is out of bounds for axis 0 with size 2"
     ]
    }
   ],
   "source": [
    "out_img_batch = my_rotate(in_img_batch, rotate_90)\n",
    "out_img_batch"
   ]
  },
  {
   "cell_type": "markdown",
   "id": "ef4eaf55",
   "metadata": {},
   "source": [
    "# Test 0"
   ]
  },
  {
   "cell_type": "code",
   "execution_count": 65,
   "id": "691d0ce0",
   "metadata": {},
   "outputs": [
    {
     "name": "stdout",
     "output_type": "stream",
     "text": [
      "('num_rows = ', 9)\n",
      "output_image_batch.shape =  (1, 3, 3)\n",
      "works 0?\n",
      "works 1?\n",
      "a_img_batch[0].shape =  (3, 3)\n",
      "new_indexes[:,0].max =  <bound method NDArray.max of \n",
      "[0 0 0 1 1 1 2 2 2]\n",
      "<NDArray 9 @cpu(0)>>\n",
      "new_indexes[:,1].max =  <bound method NDArray.max of \n",
      "[0 1 2 0 1 2 0 1 2]\n",
      "<NDArray 9 @cpu(0)>>\n",
      "works 2?\n",
      "works 3?\n"
     ]
    },
    {
     "data": {
      "text/plain": [
       "\n",
       "[[[0. 1. 2.]\n",
       "  [3. 4. 5.]\n",
       "  [6. 7. 8.]]]\n",
       "<NDArray 1x3x3 @cpu(0)>"
      ]
     },
     "execution_count": 65,
     "metadata": {},
     "output_type": "execute_result"
    }
   ],
   "source": [
    "out_img_batch = my_rotate(in_img_batch, rotate_0)\n",
    "out_img_batch"
   ]
  },
  {
   "cell_type": "markdown",
   "id": "a31831c9",
   "metadata": {},
   "source": [
    "# Test 180"
   ]
  },
  {
   "cell_type": "code",
   "execution_count": 66,
   "id": "165d13b5",
   "metadata": {},
   "outputs": [
    {
     "name": "stdout",
     "output_type": "stream",
     "text": [
      "('num_rows = ', 9)\n",
      "output_image_batch.shape =  (1, 3, 3)\n",
      "works 0?\n",
      "works 1?\n",
      "a_img_batch[0].shape =  (3, 3)\n",
      "new_indexes[:,0].max =  <bound method NDArray.max of \n",
      "[2 2 2 1 1 1 0 0 0]\n",
      "<NDArray 9 @cpu(0)>>\n",
      "new_indexes[:,1].max =  <bound method NDArray.max of \n",
      "[2 1 0 2 1 0 2 1 0]\n",
      "<NDArray 9 @cpu(0)>>\n",
      "works 2?\n",
      "works 3?\n"
     ]
    },
    {
     "data": {
      "text/plain": [
       "\n",
       "[[[8. 7. 6.]\n",
       "  [5. 4. 3.]\n",
       "  [2. 1. 0.]]]\n",
       "<NDArray 1x3x3 @cpu(0)>"
      ]
     },
     "execution_count": 66,
     "metadata": {},
     "output_type": "execute_result"
    }
   ],
   "source": [
    "out_img_batch = my_rotate(in_img_batch, rotate_180)\n",
    "out_img_batch"
   ]
  },
  {
   "cell_type": "markdown",
   "id": "f7babda9",
   "metadata": {},
   "source": [
    "# Test 270"
   ]
  },
  {
   "cell_type": "code",
   "execution_count": 67,
   "id": "f2b3ff16",
   "metadata": {},
   "outputs": [
    {
     "name": "stdout",
     "output_type": "stream",
     "text": [
      "('num_rows = ', 9)\n",
      "output_image_batch.shape =  (1, 3, 3)\n",
      "works 0?\n",
      "works 1?\n",
      "a_img_batch[0].shape =  (3, 3)\n",
      "new_indexes[:,0].max =  <bound method NDArray.max of \n",
      "[2 1 0 2 1 0 2 1 0]\n",
      "<NDArray 9 @cpu(0)>>\n",
      "new_indexes[:,1].max =  <bound method NDArray.max of \n",
      "[0 0 0 1 1 1 2 2 2]\n",
      "<NDArray 9 @cpu(0)>>\n",
      "works 2?\n",
      "works 3?\n"
     ]
    },
    {
     "data": {
      "text/plain": [
       "\n",
       "[[[6. 3. 0.]\n",
       "  [7. 4. 1.]\n",
       "  [8. 5. 2.]]]\n",
       "<NDArray 1x3x3 @cpu(0)>"
      ]
     },
     "execution_count": 67,
     "metadata": {},
     "output_type": "execute_result"
    }
   ],
   "source": [
    "# this fails.\n",
    "#\n",
    "# It should be\n",
    "#\n",
    "# 2 5 8\n",
    "# 1 4 7\n",
    "# 0 3 6\n",
    "#\n",
    "# I need to mirror in both axes\n",
    "out_img_batch = my_rotate(in_img_batch, rotate_270, False)\n",
    "out_img_batch"
   ]
  },
  {
   "cell_type": "markdown",
   "id": "0dc870ec",
   "metadata": {},
   "source": [
    "# Test again for rotate 90 with a 2x2 "
   ]
  },
  {
   "cell_type": "code",
   "execution_count": 68,
   "id": "ce841d4e",
   "metadata": {},
   "outputs": [
    {
     "name": "stdout",
     "output_type": "stream",
     "text": [
      "in_img_batch is  \n",
      "[[[0. 1.]\n",
      "  [2. 3.]]]\n",
      "<NDArray 1x2x2 @cpu(0)>\n",
      "in_img  \n",
      "[[0. 1.]\n",
      " [2. 3.]]\n",
      "<NDArray 2x2 @cpu(0)>\n"
     ]
    }
   ],
   "source": [
    "# Input Image \n",
    "in_img_batch = nd.arange(4).reshape((1,2,2))\n",
    "print('in_img_batch is ', in_img_batch)\n",
    "in_img = in_img_batch[0]\n",
    "print('in_img ', in_img)"
   ]
  },
  {
   "cell_type": "code",
   "execution_count": 69,
   "id": "cad89a80",
   "metadata": {},
   "outputs": [
    {
     "name": "stdout",
     "output_type": "stream",
     "text": [
      "('num_rows = ', 4)\n",
      "output_image_batch.shape =  (1, 2, 2)\n",
      "works 0?\n",
      "works 1?\n",
      "a_img_batch[0].shape =  (2, 2)\n",
      "new_indexes[:,0].max =  <bound method NDArray.max of \n",
      "[0 1 0 1]\n",
      "<NDArray 4 @cpu(0)>>\n",
      "new_indexes[:,1].max =  <bound method NDArray.max of \n",
      "[1 1 0 0]\n",
      "<NDArray 4 @cpu(0)>>\n",
      "works 2?\n",
      "works 3?\n"
     ]
    },
    {
     "data": {
      "text/plain": [
       "\n",
       "[[[1. 3.]\n",
       "  [0. 2.]]]\n",
       "<NDArray 1x2x2 @cpu(0)>"
      ]
     },
     "execution_count": 69,
     "metadata": {},
     "output_type": "execute_result"
    }
   ],
   "source": [
    "out_img_batch = my_rotate(in_img_batch, rotate_90)\n",
    "out_img_batch"
   ]
  },
  {
   "cell_type": "markdown",
   "id": "60e789e4",
   "metadata": {},
   "source": [
    "# Test again for rotate 180 with a 2x2"
   ]
  },
  {
   "cell_type": "code",
   "execution_count": 70,
   "id": "773c26b1",
   "metadata": {},
   "outputs": [
    {
     "name": "stdout",
     "output_type": "stream",
     "text": [
      "('num_rows = ', 4)\n",
      "output_image_batch.shape =  (1, 2, 2)\n",
      "works 0?\n",
      "works 1?\n",
      "a_img_batch[0].shape =  (2, 2)\n",
      "new_indexes[:,0].max =  <bound method NDArray.max of \n",
      "[1 1 0 0]\n",
      "<NDArray 4 @cpu(0)>>\n",
      "new_indexes[:,1].max =  <bound method NDArray.max of \n",
      "[1 0 1 0]\n",
      "<NDArray 4 @cpu(0)>>\n",
      "works 2?\n",
      "works 3?\n"
     ]
    },
    {
     "data": {
      "text/plain": [
       "\n",
       "[[[3. 2.]\n",
       "  [1. 0.]]]\n",
       "<NDArray 1x2x2 @cpu(0)>"
      ]
     },
     "execution_count": 70,
     "metadata": {},
     "output_type": "execute_result"
    }
   ],
   "source": [
    "out_img_batch = my_rotate(in_img_batch, rotate_180)\n",
    "out_img_batch"
   ]
  },
  {
   "cell_type": "markdown",
   "id": "56a61d1d",
   "metadata": {},
   "source": [
    "# Test with a 2x3 rotate_90"
   ]
  },
  {
   "cell_type": "code",
   "execution_count": 71,
   "id": "babbec0c",
   "metadata": {},
   "outputs": [
    {
     "name": "stdout",
     "output_type": "stream",
     "text": [
      "in_img_batch is  \n",
      "[[[0. 1. 2.]\n",
      "  [3. 4. 5.]]]\n",
      "<NDArray 1x2x3 @cpu(0)>\n",
      "in_img  \n",
      "[[0. 1. 2.]\n",
      " [3. 4. 5.]]\n",
      "<NDArray 2x3 @cpu(0)>\n"
     ]
    }
   ],
   "source": [
    "# Input Image \n",
    "in_img_batch = nd.arange(6).reshape((1,2,3))\n",
    "print('in_img_batch is ', in_img_batch)\n",
    "in_img = in_img_batch[0]\n",
    "print('in_img ', in_img)"
   ]
  },
  {
   "cell_type": "code",
   "execution_count": 72,
   "id": "9fbb9572",
   "metadata": {},
   "outputs": [
    {
     "name": "stdout",
     "output_type": "stream",
     "text": [
      "('num_rows = ', 6)\n",
      "output_image_batch.shape =  (1, 3, 2)\n",
      "works 0?\n",
      "works 1?\n",
      "a_img_batch[0].shape =  (2, 3)\n",
      "new_indexes[:,0].max =  <bound method NDArray.max of \n",
      "[0 1 2 0 1 2]\n",
      "<NDArray 6 @cpu(0)>>\n",
      "new_indexes[:,1].max =  <bound method NDArray.max of \n",
      "[1 1 1 0 0 0]\n",
      "<NDArray 6 @cpu(0)>>\n",
      "works 2?\n",
      "works 3?\n"
     ]
    },
    {
     "ename": "IndexError",
     "evalue": "Traceback (most recent call last):\n  File \"../src/operator/tensor/indexing_op.cc\", line 454\nIndexError: index 2 is out of bounds for axis 0 with size 2",
     "output_type": "error",
     "traceback": [
      "\u001b[0;31m---------------------------------------------------------------------------\u001b[0m",
      "\u001b[0;31mIndexError\u001b[0m                                Traceback (most recent call last)",
      "\u001b[0;32m~/.pyenv/versions/3.7.2/envs/devpost/lib/python3.7/site-packages/IPython/core/formatters.py\u001b[0m in \u001b[0;36m__call__\u001b[0;34m(self, obj)\u001b[0m\n\u001b[1;32m    700\u001b[0m                 \u001b[0mtype_pprinters\u001b[0m\u001b[0;34m=\u001b[0m\u001b[0mself\u001b[0m\u001b[0;34m.\u001b[0m\u001b[0mtype_printers\u001b[0m\u001b[0;34m,\u001b[0m\u001b[0;34m\u001b[0m\u001b[0;34m\u001b[0m\u001b[0m\n\u001b[1;32m    701\u001b[0m                 deferred_pprinters=self.deferred_printers)\n\u001b[0;32m--> 702\u001b[0;31m             \u001b[0mprinter\u001b[0m\u001b[0;34m.\u001b[0m\u001b[0mpretty\u001b[0m\u001b[0;34m(\u001b[0m\u001b[0mobj\u001b[0m\u001b[0;34m)\u001b[0m\u001b[0;34m\u001b[0m\u001b[0;34m\u001b[0m\u001b[0m\n\u001b[0m\u001b[1;32m    703\u001b[0m             \u001b[0mprinter\u001b[0m\u001b[0;34m.\u001b[0m\u001b[0mflush\u001b[0m\u001b[0;34m(\u001b[0m\u001b[0;34m)\u001b[0m\u001b[0;34m\u001b[0m\u001b[0;34m\u001b[0m\u001b[0m\n\u001b[1;32m    704\u001b[0m             \u001b[0;32mreturn\u001b[0m \u001b[0mstream\u001b[0m\u001b[0;34m.\u001b[0m\u001b[0mgetvalue\u001b[0m\u001b[0;34m(\u001b[0m\u001b[0;34m)\u001b[0m\u001b[0;34m\u001b[0m\u001b[0;34m\u001b[0m\u001b[0m\n",
      "\u001b[0;32m~/.pyenv/versions/3.7.2/envs/devpost/lib/python3.7/site-packages/IPython/lib/pretty.py\u001b[0m in \u001b[0;36mpretty\u001b[0;34m(self, obj)\u001b[0m\n\u001b[1;32m    392\u001b[0m                         \u001b[0;32mif\u001b[0m \u001b[0mcls\u001b[0m \u001b[0;32mis\u001b[0m \u001b[0;32mnot\u001b[0m \u001b[0mobject\u001b[0m\u001b[0;31m \u001b[0m\u001b[0;31m\\\u001b[0m\u001b[0;34m\u001b[0m\u001b[0;34m\u001b[0m\u001b[0m\n\u001b[1;32m    393\u001b[0m                                 \u001b[0;32mand\u001b[0m \u001b[0mcallable\u001b[0m\u001b[0;34m(\u001b[0m\u001b[0mcls\u001b[0m\u001b[0;34m.\u001b[0m\u001b[0m__dict__\u001b[0m\u001b[0;34m.\u001b[0m\u001b[0mget\u001b[0m\u001b[0;34m(\u001b[0m\u001b[0;34m'__repr__'\u001b[0m\u001b[0;34m)\u001b[0m\u001b[0;34m)\u001b[0m\u001b[0;34m:\u001b[0m\u001b[0;34m\u001b[0m\u001b[0;34m\u001b[0m\u001b[0m\n\u001b[0;32m--> 394\u001b[0;31m                             \u001b[0;32mreturn\u001b[0m \u001b[0m_repr_pprint\u001b[0m\u001b[0;34m(\u001b[0m\u001b[0mobj\u001b[0m\u001b[0;34m,\u001b[0m \u001b[0mself\u001b[0m\u001b[0;34m,\u001b[0m \u001b[0mcycle\u001b[0m\u001b[0;34m)\u001b[0m\u001b[0;34m\u001b[0m\u001b[0;34m\u001b[0m\u001b[0m\n\u001b[0m\u001b[1;32m    395\u001b[0m \u001b[0;34m\u001b[0m\u001b[0m\n\u001b[1;32m    396\u001b[0m             \u001b[0;32mreturn\u001b[0m \u001b[0m_default_pprint\u001b[0m\u001b[0;34m(\u001b[0m\u001b[0mobj\u001b[0m\u001b[0;34m,\u001b[0m \u001b[0mself\u001b[0m\u001b[0;34m,\u001b[0m \u001b[0mcycle\u001b[0m\u001b[0;34m)\u001b[0m\u001b[0;34m\u001b[0m\u001b[0;34m\u001b[0m\u001b[0m\n",
      "\u001b[0;32m~/.pyenv/versions/3.7.2/envs/devpost/lib/python3.7/site-packages/IPython/lib/pretty.py\u001b[0m in \u001b[0;36m_repr_pprint\u001b[0;34m(obj, p, cycle)\u001b[0m\n\u001b[1;32m    698\u001b[0m     \u001b[0;34m\"\"\"A pprint that just redirects to the normal repr function.\"\"\"\u001b[0m\u001b[0;34m\u001b[0m\u001b[0;34m\u001b[0m\u001b[0m\n\u001b[1;32m    699\u001b[0m     \u001b[0;31m# Find newlines and replace them with p.break_()\u001b[0m\u001b[0;34m\u001b[0m\u001b[0;34m\u001b[0m\u001b[0;34m\u001b[0m\u001b[0m\n\u001b[0;32m--> 700\u001b[0;31m     \u001b[0moutput\u001b[0m \u001b[0;34m=\u001b[0m \u001b[0mrepr\u001b[0m\u001b[0;34m(\u001b[0m\u001b[0mobj\u001b[0m\u001b[0;34m)\u001b[0m\u001b[0;34m\u001b[0m\u001b[0;34m\u001b[0m\u001b[0m\n\u001b[0m\u001b[1;32m    701\u001b[0m     \u001b[0mlines\u001b[0m \u001b[0;34m=\u001b[0m \u001b[0moutput\u001b[0m\u001b[0;34m.\u001b[0m\u001b[0msplitlines\u001b[0m\u001b[0;34m(\u001b[0m\u001b[0;34m)\u001b[0m\u001b[0;34m\u001b[0m\u001b[0;34m\u001b[0m\u001b[0m\n\u001b[1;32m    702\u001b[0m     \u001b[0;32mwith\u001b[0m \u001b[0mp\u001b[0m\u001b[0;34m.\u001b[0m\u001b[0mgroup\u001b[0m\u001b[0;34m(\u001b[0m\u001b[0;34m)\u001b[0m\u001b[0;34m:\u001b[0m\u001b[0;34m\u001b[0m\u001b[0;34m\u001b[0m\u001b[0m\n",
      "\u001b[0;32m~/.pyenv/versions/3.7.2/envs/devpost/lib/python3.7/site-packages/mxnet/ndarray/ndarray.py\u001b[0m in \u001b[0;36m__repr__\u001b[0;34m(self)\u001b[0m\n\u001b[1;32m    255\u001b[0m         \u001b[0;34m\"\"\"Returns a string representation of the array.\"\"\"\u001b[0m\u001b[0;34m\u001b[0m\u001b[0;34m\u001b[0m\u001b[0m\n\u001b[1;32m    256\u001b[0m         \u001b[0mshape_info\u001b[0m \u001b[0;34m=\u001b[0m \u001b[0;34m'x'\u001b[0m\u001b[0;34m.\u001b[0m\u001b[0mjoin\u001b[0m\u001b[0;34m(\u001b[0m\u001b[0;34m[\u001b[0m\u001b[0;34m'%d'\u001b[0m \u001b[0;34m%\u001b[0m \u001b[0mx\u001b[0m \u001b[0;32mfor\u001b[0m \u001b[0mx\u001b[0m \u001b[0;32min\u001b[0m \u001b[0mself\u001b[0m\u001b[0;34m.\u001b[0m\u001b[0mshape\u001b[0m\u001b[0;34m]\u001b[0m\u001b[0;34m)\u001b[0m\u001b[0;34m\u001b[0m\u001b[0;34m\u001b[0m\u001b[0m\n\u001b[0;32m--> 257\u001b[0;31m         return '\\n%s\\n<%s %s @%s>' % (str(self.asnumpy()),\n\u001b[0m\u001b[1;32m    258\u001b[0m                                       \u001b[0mself\u001b[0m\u001b[0;34m.\u001b[0m\u001b[0m__class__\u001b[0m\u001b[0;34m.\u001b[0m\u001b[0m__name__\u001b[0m\u001b[0;34m,\u001b[0m\u001b[0;34m\u001b[0m\u001b[0;34m\u001b[0m\u001b[0m\n\u001b[1;32m    259\u001b[0m                                       shape_info, self.ctx)\n",
      "\u001b[0;32m~/.pyenv/versions/3.7.2/envs/devpost/lib/python3.7/site-packages/mxnet/ndarray/ndarray.py\u001b[0m in \u001b[0;36masnumpy\u001b[0;34m(self)\u001b[0m\n\u001b[1;32m   2569\u001b[0m             \u001b[0mself\u001b[0m\u001b[0;34m.\u001b[0m\u001b[0mhandle\u001b[0m\u001b[0;34m,\u001b[0m\u001b[0;34m\u001b[0m\u001b[0;34m\u001b[0m\u001b[0m\n\u001b[1;32m   2570\u001b[0m             \u001b[0mdata\u001b[0m\u001b[0;34m.\u001b[0m\u001b[0mctypes\u001b[0m\u001b[0;34m.\u001b[0m\u001b[0mdata_as\u001b[0m\u001b[0;34m(\u001b[0m\u001b[0mctypes\u001b[0m\u001b[0;34m.\u001b[0m\u001b[0mc_void_p\u001b[0m\u001b[0;34m)\u001b[0m\u001b[0;34m,\u001b[0m\u001b[0;34m\u001b[0m\u001b[0;34m\u001b[0m\u001b[0m\n\u001b[0;32m-> 2571\u001b[0;31m             ctypes.c_size_t(data.size)))\n\u001b[0m\u001b[1;32m   2572\u001b[0m         \u001b[0;32mreturn\u001b[0m \u001b[0mdata\u001b[0m\u001b[0;34m\u001b[0m\u001b[0;34m\u001b[0m\u001b[0m\n\u001b[1;32m   2573\u001b[0m \u001b[0;34m\u001b[0m\u001b[0m\n",
      "\u001b[0;32m~/.pyenv/versions/3.7.2/envs/devpost/lib/python3.7/site-packages/mxnet/base.py\u001b[0m in \u001b[0;36mcheck_call\u001b[0;34m(ret)\u001b[0m\n\u001b[1;32m    244\u001b[0m     \"\"\"\n\u001b[1;32m    245\u001b[0m     \u001b[0;32mif\u001b[0m \u001b[0mret\u001b[0m \u001b[0;34m!=\u001b[0m \u001b[0;36m0\u001b[0m\u001b[0;34m:\u001b[0m\u001b[0;34m\u001b[0m\u001b[0;34m\u001b[0m\u001b[0m\n\u001b[0;32m--> 246\u001b[0;31m         \u001b[0;32mraise\u001b[0m \u001b[0mget_last_ffi_error\u001b[0m\u001b[0;34m(\u001b[0m\u001b[0;34m)\u001b[0m\u001b[0;34m\u001b[0m\u001b[0;34m\u001b[0m\u001b[0m\n\u001b[0m\u001b[1;32m    247\u001b[0m \u001b[0;34m\u001b[0m\u001b[0m\n\u001b[1;32m    248\u001b[0m \u001b[0;34m\u001b[0m\u001b[0m\n",
      "\u001b[0;31mIndexError\u001b[0m: Traceback (most recent call last):\n  File \"../src/operator/tensor/indexing_op.cc\", line 454\nIndexError: index 2 is out of bounds for axis 0 with size 2"
     ]
    }
   ],
   "source": [
    "out_img_batch = my_rotate(in_img_batch, rotate_90)\n",
    "out_img_batch"
   ]
  },
  {
   "cell_type": "code",
   "execution_count": null,
   "id": "2e14b6fb",
   "metadata": {},
   "outputs": [],
   "source": []
  }
 ],
 "metadata": {
  "kernelspec": {
   "display_name": "Python 3 (ipykernel)",
   "language": "python",
   "name": "python3"
  },
  "language_info": {
   "codemirror_mode": {
    "name": "ipython",
    "version": 3
   },
   "file_extension": ".py",
   "mimetype": "text/x-python",
   "name": "python",
   "nbconvert_exporter": "python",
   "pygments_lexer": "ipython3",
   "version": "3.7.2"
  }
 },
 "nbformat": 4,
 "nbformat_minor": 5
}
