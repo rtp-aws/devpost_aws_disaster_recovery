{
 "cells": [
  {
   "cell_type": "code",
   "execution_count": 1,
   "id": "251bbc02",
   "metadata": {},
   "outputs": [],
   "source": [
    "import gluoncv as gcv\n",
    "import mxnet as mx\n",
    "# mxnet NDarray \n",
    "from mxnet import nd\n",
    "\n",
    "# MXNet Gluon Neural network layers.\n",
    "from mxnet.gluon import nn\n",
    "\n",
    "# optional for displaying the image\n",
    "import matplotlib.pyplot as plt\n",
    "import numpy as np\n",
    "import os\n",
    "import math\n"
   ]
  },
  {
   "cell_type": "code",
   "execution_count": 4,
   "id": "525d4b52",
   "metadata": {},
   "outputs": [],
   "source": [
    "def build_rot_matrix(angle):\n",
    "    #  a  b\n",
    "    #  c  d\n",
    "    \n",
    "    # calculate terms\n",
    "    a = math.cos(x)\n",
    "    b = -math.sin(x)\n",
    "    c = math.sin(x)\n",
    "    d = math.cos(x)\n",
    "\n",
    "    # print(\"a = \", a)\n",
    "    # print(\"b = \", b)\n",
    "    # print(\"c = \", c)\n",
    "    # print(\"d = \", d)\n",
    "    \n",
    "    # build np array\n",
    "    np_array = np.array([\n",
    "        [a,b],\n",
    "        [c,d]\n",
    "    ])\n",
    "    \n",
    "    # build mx.nd array\n",
    "    nd_array = mx.nd.array(np_array)\n",
    "    \n",
    "    return nd_array"
   ]
  },
  {
   "cell_type": "code",
   "execution_count": 5,
   "id": "b8c86e55",
   "metadata": {},
   "outputs": [
    {
     "name": "stdout",
     "output_type": "stream",
     "text": [
      "rotate by 90 nd array is  \n",
      "[[ 6.123234e-17 -1.000000e+00]\n",
      " [ 1.000000e+00  6.123234e-17]]\n",
      "<NDArray 2x2 @cpu(0)>\n"
     ]
    }
   ],
   "source": [
    "x=0.5*math.pi\n",
    "\n",
    "rotate_90 = build_rot_matrix(x)\n",
    "print('rotate by 90 nd array is ', rotate_90)"
   ]
  },
  {
   "cell_type": "code",
   "execution_count": 10,
   "id": "1a3159a3",
   "metadata": {},
   "outputs": [
    {
     "name": "stdout",
     "output_type": "stream",
     "text": [
      "in_data is  \n",
      "[[[0. 1. 2.]\n",
      "  [3. 4. 5.]\n",
      "  [6. 7. 8.]]]\n",
      "<NDArray 1x3x3 @cpu(0)>\n",
      "orig_image  \n",
      "[[0. 1. 2.]\n",
      " [3. 4. 5.]\n",
      " [6. 7. 8.]]\n",
      "<NDArray 3x3 @cpu(0)>\n"
     ]
    }
   ],
   "source": [
    "# batch 1\n",
    "in_data = nd.arange(9).reshape((1,3,3))\n",
    "print('in_data is ', in_data)\n",
    "orig_image = in_data[0]\n",
    "print('orig_image ', orig_image)"
   ]
  },
  {
   "cell_type": "code",
   "execution_count": 11,
   "id": "f85905a7",
   "metadata": {},
   "outputs": [
    {
     "name": "stdout",
     "output_type": "stream",
     "text": [
      "out_data is  \n",
      "[[[9. 9. 9.]\n",
      "  [9. 9. 9.]\n",
      "  [9. 9. 9.]]]\n",
      "<NDArray 1x3x3 @cpu(0)>\n",
      "rotated_image \n",
      "[[9. 9. 9.]\n",
      " [9. 9. 9.]\n",
      " [9. 9. 9.]]\n",
      "<NDArray 3x3 @cpu(0)>\n"
     ]
    }
   ],
   "source": [
    "# setup an ouptut array with all nines, so I can see overwrites with new values\n",
    "out_data = nd.ones(9).reshape((3,3))*9\n",
    "# out_data also needs to be in batch form\n",
    "out_data = nd.expand_dims(out_data, axis=0)\n",
    "print('out_data is ', out_data)\n",
    "rotated_image=out_data[0]\n",
    "print('rotated_image', rotated_image)"
   ]
  },
  {
   "cell_type": "code",
   "execution_count": 12,
   "id": "6f2e3d87",
   "metadata": {},
   "outputs": [
    {
     "name": "stdout",
     "output_type": "stream",
     "text": [
      "rotate_90  \n",
      "[[ 6.123234e-17 -1.000000e+00]\n",
      " [ 1.000000e+00  6.123234e-17]]\n",
      "<NDArray 2x2 @cpu(0)>\n"
     ]
    }
   ],
   "source": [
    "# setup a rotation matrix\n",
    "rotate_data = rotate_90\n",
    "print('rotate_90 ', rotate_data)"
   ]
  },
  {
   "cell_type": "code",
   "execution_count": 14,
   "id": "911a7257",
   "metadata": {},
   "outputs": [
    {
     "name": "stdout",
     "output_type": "stream",
     "text": [
      "loop entry - a single batch - a single image in batch.data[0] from what is in in_data\n",
      "input_img.shape =  (1, 3, 3)\n",
      "indexes are:  \n",
      "[[[[0 0]\n",
      "   [0 1]\n",
      "   [0 2]]\n",
      "\n",
      "  [[1 0]\n",
      "   [1 1]\n",
      "   [1 2]]\n",
      "\n",
      "  [[2 0]\n",
      "   [2 1]\n",
      "   [2 2]]]]\n",
      "<NDArray 1x3x3x2 @cpu(0)>\n",
      "input_img_indexes.shape =  (1, 3, 3, 2)\n",
      "orig_indexes  \n",
      "[[0 0]\n",
      " [0 1]\n",
      " [0 2]\n",
      " [1 0]\n",
      " [1 1]\n",
      " [1 2]\n",
      " [2 0]\n",
      " [2 1]\n",
      " [2 2]]\n",
      "<NDArray 9x2 @cpu(0)>\n",
      "new_indexes =  \n",
      "[[ 0.0000000e+00  0.0000000e+00]\n",
      " [ 1.0000000e+00  6.1232343e-17]\n",
      " [ 2.0000000e+00  1.2246469e-16]\n",
      " [ 6.1232343e-17 -1.0000000e+00]\n",
      " [ 1.0000000e+00 -1.0000000e+00]\n",
      " [ 2.0000000e+00 -1.0000000e+00]\n",
      " [ 1.2246469e-16 -2.0000000e+00]\n",
      " [ 1.0000000e+00 -2.0000000e+00]\n",
      " [ 2.0000000e+00 -2.0000000e+00]]\n",
      "<NDArray 9x2 @cpu(0)>\n",
      "new_indexes =  \n",
      "[[ 0  0]\n",
      " [ 1  0]\n",
      " [ 2  0]\n",
      " [ 0 -1]\n",
      " [ 1 -1]\n",
      " [ 2 -1]\n",
      " [ 0 -2]\n",
      " [ 1 -2]\n",
      " [ 2 -2]]\n",
      "<NDArray 9x2 @cpu(0)>\n",
      "new_indexes after shift to positive \n",
      "[[0 2]\n",
      " [1 2]\n",
      " [2 2]\n",
      " [0 1]\n",
      " [1 1]\n",
      " [2 1]\n",
      " [0 0]\n",
      " [1 0]\n",
      " [2 0]]\n",
      "<NDArray 9x2 @cpu(0)>\n",
      "rotated_image  \n",
      "[2. 5. 8. 1. 4. 7. 0. 3. 6.]\n",
      "<NDArray 9 @cpu(0)>\n",
      "rotated_image.shape  (9,)\n",
      "rotated_image  \n",
      "[2. 5. 8. 1. 4. 7. 0. 3. 6.]\n",
      "<NDArray 9 @cpu(0)>\n",
      "rotated_image  \n",
      "[[2. 5. 8.]\n",
      " [1. 4. 7.]\n",
      " [0. 3. 6.]]\n",
      "<NDArray 3x3 @cpu(0)>\n"
     ]
    }
   ],
   "source": [
    "# NDArrayIter(data, label=None, batch_size=1, shuffle=False, \n",
    "#            last_batch_handle='pad', data_name='data', \n",
    "#            label_name='softmax_label')\n",
    "#\n",
    "# Ignore the label parameter.\n",
    "dataiter = mx.io.NDArrayIter(in_data, batch_size=1, shuffle=False, last_batch_handle='discard')\n",
    "#batch_index = [0]\n",
    "for batch in dataiter:\n",
    "    \n",
    "    print('loop entry - a single batch - a single image in batch.data[0] from what is in in_data')\n",
    "    #print ('batch.data[0] = ', batch.data[0].asnumpy())\n",
    "    #print ('batch.data[0].shape = ', batch.data[0].shape)\n",
    "    # Does this copy or get an alias to the input image?\n",
    "    input_img = batch.data[0]\n",
    "    #print ('input_img = ', input_img.asnumpy())\n",
    "    print ('input_img.shape = ', input_img.shape)\n",
    "    \n",
    "    # this will print the axis including the batch axis\n",
    "    # print('indicies are ', mx.nd.contrib.index_array(entire_img) )\n",
    "    # this will print the x,y axis and ignore the batch\n",
    "    input_img_indexes = mx.nd.contrib.index_array(input_img, axes=(1, 2))\n",
    "    print('indexes are: ', input_img_indexes)\n",
    "    print ('input_img_indexes.shape = ', input_img_indexes.shape)\n",
    "    \n",
    "    \n",
    "    \n",
    "    # Try to assign input data to output data based upon indicies\n",
    "    orig_indexes = mx.nd.reshape(input_img_indexes, shape=(9,2))\n",
    "    print('orig_indexes ', orig_indexes)\n",
    "    orig_indexes = orig_indexes.astype(\"float32\")\n",
    "    \n",
    "    # I've seen one variant where matrix-matrix multiply \n",
    "    # is done with .T.  why?\n",
    "    new_indexes = nd.dot(orig_indexes, rotate_data) \n",
    "    print('new_indexes = ', new_indexes)\n",
    "    new_indexes = new_indexes.astype('int64')\n",
    "    print('new_indexes = ', new_indexes)\n",
    "    new_indexes = new_indexes + nd.array(nd.array([0, 2])).astype('int64')\n",
    "    print('new_indexes after shift to positive', new_indexes)\n",
    "\n",
    "    print('rotated_image ', rotated_image)\n",
    "    print('rotated_image.shape ', rotated_image.shape)\n",
    "    rotated_image = orig_image[new_indexes[:,0],new_indexes[:,1]]\n",
    "    print('rotated_image ', rotated_image)\n",
    "    rotated_image = rotated_image.reshape(3,3)\n",
    "    print('rotated_image ', rotated_image)\n"
   ]
  },
  {
   "cell_type": "code",
   "execution_count": null,
   "id": "8258d520",
   "metadata": {},
   "outputs": [],
   "source": []
  }
 ],
 "metadata": {
  "kernelspec": {
   "display_name": "Python 3 (ipykernel)",
   "language": "python",
   "name": "python3"
  },
  "language_info": {
   "codemirror_mode": {
    "name": "ipython",
    "version": 3
   },
   "file_extension": ".py",
   "mimetype": "text/x-python",
   "name": "python",
   "nbconvert_exporter": "python",
   "pygments_lexer": "ipython3",
   "version": "3.7.2"
  }
 },
 "nbformat": 4,
 "nbformat_minor": 5
}
