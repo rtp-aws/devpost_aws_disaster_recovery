{
 "cells": [
  {
   "cell_type": "markdown",
   "id": "96a58704",
   "metadata": {},
   "source": [
    "# linear algebra\n",
    "\n",
    "Intially this was a type along from MXNet UC Bekeley Course on the Apache MXNet youtube channel\n",
    "\n",
    "I've added to it examples from the mxnet docs for mxnet.ndarray and mxnet.contrib\n",
    "\n",
    "[docs](https://mxnet.incubator.apache.org/versions/1.8.0/api/python/docs/api/ndarray/ndarray.html#)"
   ]
  },
  {
   "cell_type": "code",
   "execution_count": 1,
   "id": "a68a645c",
   "metadata": {},
   "outputs": [
    {
     "name": "stdout",
     "output_type": "stream",
     "text": [
      "mx version  1.9.0\n"
     ]
    }
   ],
   "source": [
    "from mxnet import nd\n",
    "import mxnet as mx\n",
    "print ('mx version ', mx.__version__)"
   ]
  },
  {
   "cell_type": "markdown",
   "id": "2d39298c",
   "metadata": {},
   "source": [
    "In MXNet scalars are NDArrays with one element"
   ]
  },
  {
   "cell_type": "code",
   "execution_count": 2,
   "id": "95ebf80f",
   "metadata": {},
   "outputs": [
    {
     "name": "stdout",
     "output_type": "stream",
     "text": [
      "x + y =  \n",
      "[5.]\n",
      "<NDArray 1 @cpu(0)>\n",
      "x - y =  \n",
      "[1.]\n",
      "<NDArray 1 @cpu(0)>\n",
      "x * y =  \n",
      "[6.]\n",
      "<NDArray 1 @cpu(0)>\n",
      "x / y =  \n",
      "[1.5]\n",
      "<NDArray 1 @cpu(0)>\n",
      "x ** y =  \n",
      "[9.]\n",
      "<NDArray 1 @cpu(0)>\n",
      "x ** y =  \n",
      "[9.]\n",
      "<NDArray 1 @cpu(0)>\n"
     ]
    }
   ],
   "source": [
    "x = nd.array([3.0])\n",
    "y = nd.array([2.0])\n",
    "\n",
    "print('x + y = ', x + y)\n",
    "print('x - y = ', x - y)\n",
    "print('x * y = ', x * y)\n",
    "print('x / y = ', x / y)\n",
    "print('x ** y = ', x ** y)\n",
    "print('x ** y = ', nd.power(x,y))"
   ]
  },
  {
   "cell_type": "markdown",
   "id": "62401662",
   "metadata": {},
   "source": [
    "We can convert any NDArray to a python float by calling its asscalar method.  NOTE: this is a bad idea.  The NDArray has to stop doing anything else in order to hand the result and process control back to Python.  Its not done in parallel."
   ]
  },
  {
   "cell_type": "code",
   "execution_count": 3,
   "id": "b2c51ad1",
   "metadata": {},
   "outputs": [
    {
     "name": "stdout",
     "output_type": "stream",
     "text": [
      "\n",
      "[3.]\n",
      "<NDArray 1 @cpu(0)>\n",
      "3.0\n"
     ]
    }
   ],
   "source": [
    "print(x)\n",
    "print(x.asscalar())"
   ]
  },
  {
   "cell_type": "markdown",
   "id": "749cf570",
   "metadata": {},
   "source": [
    "# Vectors\n",
    "Vectors are [1, 3, 4, 2]  as a 1D NDArray"
   ]
  },
  {
   "cell_type": "code",
   "execution_count": 4,
   "id": "8a87a796",
   "metadata": {},
   "outputs": [
    {
     "name": "stdout",
     "output_type": "stream",
     "text": [
      "x =  \n",
      "[0. 1. 2. 3. 4.]\n",
      "<NDArray 5 @cpu(0)>\n"
     ]
    }
   ],
   "source": [
    "x = nd.arange(5)\n",
    "print('x = ', x)"
   ]
  },
  {
   "cell_type": "code",
   "execution_count": 5,
   "id": "bb742457",
   "metadata": {},
   "outputs": [
    {
     "data": {
      "text/plain": [
       "\n",
       "[3.]\n",
       "<NDArray 1 @cpu(0)>"
      ]
     },
     "execution_count": 5,
     "metadata": {},
     "output_type": "execute_result"
    }
   ],
   "source": [
    "x[3]"
   ]
  },
  {
   "cell_type": "markdown",
   "id": "f5b195e3",
   "metadata": {},
   "source": [
    "# Length, dimensionality and shape\n",
    "The length of a vector is commonly called its *dimension*.  As an ordianry Python array, we can acces the length of an NDArray by calling Python's built-in len() function.\n",
    "\n",
    "We can also access a vectors length via its `.shape` attribute.  The shape is a tuple that lists it dimensionality along each of its axes.\n"
   ]
  },
  {
   "cell_type": "code",
   "execution_count": 6,
   "id": "28f5be1e",
   "metadata": {},
   "outputs": [
    {
     "data": {
      "text/plain": [
       "(5,)"
      ]
     },
     "execution_count": 6,
     "metadata": {},
     "output_type": "execute_result"
    }
   ],
   "source": [
    "x.shape"
   ]
  },
  {
   "cell_type": "markdown",
   "id": "3ffbd742",
   "metadata": {},
   "source": [
    "The word dimension is overloaded between number of axes and number of elements.  To avoid confusion, when we say 2D array or 3D array, we mean an array with 2 or 3 axes respectively.  But, if we say `n-dimensional` vector, we mean a vector of length `n`."
   ]
  },
  {
   "cell_type": "code",
   "execution_count": 7,
   "id": "82906dfe",
   "metadata": {},
   "outputs": [
    {
     "name": "stdout",
     "output_type": "stream",
     "text": [
      "a * x =  \n",
      "[2. 4. 6.]\n",
      "<NDArray 3 @cpu(0)>\n",
      "a * x + y =  \n",
      "[12. 24. 36.]\n",
      "<NDArray 3 @cpu(0)>\n"
     ]
    }
   ],
   "source": [
    "a = 2\n",
    "x = nd.array([1,2,3])\n",
    "y = nd.array([10,20,30])\n",
    "print('a * x = ', a * x)\n",
    "print('a * x + y = ', a * x + y)"
   ]
  },
  {
   "cell_type": "markdown",
   "id": "c161a9c5",
   "metadata": {},
   "source": [
    "# Matrices\n",
    "\n",
    "Just as vectors generalize scalars from order 0 to order 1, matrices generalize vectors from 1D to 2D.  Matrices, which we'll typically denote with capital letters (A,B,C), are represented in codes as arrays with 2 axes.  Visually, we can draw a matrix as a table, where each entry $a_{ij}$ belongs to the i-th row and j-th column.\n",
    "\n",
    "\\begin{pmatrix}\n",
    "a_{11} & a_{12} & a_{1m}\\\\\n",
    "a_{21} & a_{22} & a_{2m}\\\\\n",
    "a_{..} & a_{..} & a_{..}\\\\\n",
    "a_{n1} & a_{n2} & a_{nm}\n",
    "\\end{pmatrix}"
   ]
  },
  {
   "cell_type": "code",
   "execution_count": 8,
   "id": "cbe0e966",
   "metadata": {},
   "outputs": [
    {
     "name": "stdout",
     "output_type": "stream",
     "text": [
      "\n",
      "[ 0.  1.  2.  3.  4.  5.  6.  7.  8.  9. 10. 11. 12. 13. 14. 15. 16. 17.\n",
      " 18. 19.]\n",
      "<NDArray 20 @cpu(0)>\n",
      "A =  \n",
      "[[ 0.  1.  2.  3.  4.  5.  6.  7.  8.  9.]\n",
      " [10. 11. 12. 13. 14. 15. 16. 17. 18. 19.]]\n",
      "<NDArray 2x10 @cpu(0)>\n"
     ]
    }
   ],
   "source": [
    "print(nd.arange(20))\n",
    "A = nd.arange(20).reshape((2,10)) # NOTE, rows, columns\n",
    "print('A = ', A)"
   ]
  },
  {
   "cell_type": "markdown",
   "id": "6241bb4d",
   "metadata": {},
   "source": [
    "We can access elements $a_{ij}$ by specifying row *i* and column *j*.  Leaving them blank, selects all?\n",
    "\n",
    "Selecting via `:` also takes all elements in the respective dimension.\n",
    "\n",
    "We can transpose the matrix with the `T` method.  That is, if $B=A^{T}$ then $b_{ij}=a_{ji}\\,\\, \\forall{i,j}$"
   ]
  },
  {
   "cell_type": "code",
   "execution_count": 9,
   "id": "465c4449",
   "metadata": {},
   "outputs": [
    {
     "name": "stdout",
     "output_type": "stream",
     "text": [
      "A[1] =  \n",
      "[10. 11. 12. 13. 14. 15. 16. 17. 18. 19.]\n",
      "<NDArray 10 @cpu(0)>\n"
     ]
    }
   ],
   "source": [
    "print('A[1] = ', A[1])"
   ]
  },
  {
   "cell_type": "code",
   "execution_count": 10,
   "id": "52781446",
   "metadata": {},
   "outputs": [
    {
     "name": "stdout",
     "output_type": "stream",
     "text": [
      "A[1,:] =  \n",
      "[10. 11. 12. 13. 14. 15. 16. 17. 18. 19.]\n",
      "<NDArray 10 @cpu(0)>\n"
     ]
    }
   ],
   "source": [
    "print('A[1,:] = ', A[1,:])"
   ]
  },
  {
   "cell_type": "code",
   "execution_count": 11,
   "id": "e52e54f3",
   "metadata": {},
   "outputs": [
    {
     "name": "stdout",
     "output_type": "stream",
     "text": [
      "A.T =  \n",
      "[[ 0. 10.]\n",
      " [ 1. 11.]\n",
      " [ 2. 12.]\n",
      " [ 3. 13.]\n",
      " [ 4. 14.]\n",
      " [ 5. 15.]\n",
      " [ 6. 16.]\n",
      " [ 7. 17.]\n",
      " [ 8. 18.]\n",
      " [ 9. 19.]]\n",
      "<NDArray 10x2 @cpu(0)>\n"
     ]
    }
   ],
   "source": [
    "print('A.T = ', A.T)"
   ]
  },
  {
   "cell_type": "markdown",
   "id": "684ebb56",
   "metadata": {},
   "source": [
    "## Subset a matrix\n",
    "\n",
    "slice url \n",
    "\n",
    "https://mxnet.apache.org/versions/master/api/python/docs/api/legacy/ndarray/ndarray.html?highlight=mxnet%20ndarray%20arange#mxnet.ndarray.slice"
   ]
  },
  {
   "cell_type": "code",
   "execution_count": 12,
   "id": "26ac8580",
   "metadata": {},
   "outputs": [
    {
     "name": "stdout",
     "output_type": "stream",
     "text": [
      "four_by_four =  \n",
      "[[ 0.  1.  2.  3.]\n",
      " [ 4.  5.  6.  7.]\n",
      " [ 8.  9. 10. 11.]\n",
      " [12. 13. 14. 15.]]\n",
      "<NDArray 4x4 @cpu(0)>\n"
     ]
    }
   ],
   "source": [
    "four_by_four = nd.arange(16).reshape(4,4)\n",
    "print('four_by_four = ', four_by_four)"
   ]
  },
  {
   "cell_type": "code",
   "execution_count": 13,
   "id": "895d8f00",
   "metadata": {},
   "outputs": [
    {
     "name": "stdout",
     "output_type": "stream",
     "text": [
      "two_by_two =  \n",
      "[[1. 2.]\n",
      " [5. 6.]]\n",
      "<NDArray 2x2 @cpu(0)>\n"
     ]
    }
   ],
   "source": [
    "# when you use the :, its all rows.  But if numbers are on either side its a range, where the end is exclusive.\n",
    "two_by_two = four_by_four[0:2,1:3]\n",
    "print('two_by_two = ', two_by_two)"
   ]
  },
  {
   "cell_type": "code",
   "execution_count": 14,
   "id": "51ed3557",
   "metadata": {},
   "outputs": [
    {
     "name": "stdout",
     "output_type": "stream",
     "text": [
      "another2x2 =  \n",
      "[[ 5.  6.]\n",
      " [ 9. 10.]]\n",
      "<NDArray 2x2 @cpu(0)>\n"
     ]
    }
   ],
   "source": [
    "# you can create a sliced copied\n",
    "another2x2 = four_by_four.slice(begin=(1,1), end=(3,3))\n",
    "print('another2x2 = ', another2x2)"
   ]
  },
  {
   "cell_type": "markdown",
   "id": "19f11c51",
   "metadata": {},
   "source": [
    "## indexing\n",
    "\n",
    "```\n",
    "[start:stop inclusive : step]\n",
    "```"
   ]
  },
  {
   "cell_type": "code",
   "execution_count": 15,
   "id": "28a8feae",
   "metadata": {},
   "outputs": [
    {
     "data": {
      "text/plain": [
       "\n",
       "[0 1 2 3 4 5 6 7 8 9]\n",
       "<NDArray 10 @cpu(0)>"
      ]
     },
     "execution_count": 15,
     "metadata": {},
     "output_type": "execute_result"
    }
   ],
   "source": [
    "x = nd.array([0, 1, 2, 3, 4, 5, 6, 7, 8, 9], dtype='int32')\n",
    "x"
   ]
  },
  {
   "cell_type": "code",
   "execution_count": 16,
   "id": "8636fd9f",
   "metadata": {},
   "outputs": [
    {
     "data": {
      "text/plain": [
       "\n",
       "[1 3 5]\n",
       "<NDArray 3 @cpu(0)>"
      ]
     },
     "execution_count": 16,
     "metadata": {},
     "output_type": "execute_result"
    }
   ],
   "source": [
    "# Select elements 1 through 7, and use a step of 2\n",
    "x[1:7:2]"
   ]
  },
  {
   "cell_type": "markdown",
   "id": "b8a5d5f8",
   "metadata": {},
   "source": [
    "# negative indexing\n",
    "\n",
    "Negative i and j are interpreted as n + i and n + j where n is the number of elements in the corresponding dimension. \n",
    "\n",
    "Negative k makes stepping go towards smaller indices."
   ]
  },
  {
   "cell_type": "code",
   "execution_count": 17,
   "id": "c404cb46",
   "metadata": {},
   "outputs": [
    {
     "data": {
      "text/plain": [
       "\n",
       "[8 9]\n",
       "<NDArray 2 @cpu(0)>"
      ]
     },
     "execution_count": 17,
     "metadata": {},
     "output_type": "execute_result"
    }
   ],
   "source": [
    "x[-2:10]"
   ]
  },
  {
   "cell_type": "code",
   "execution_count": 18,
   "id": "613abf2a",
   "metadata": {},
   "outputs": [
    {
     "data": {
      "text/plain": [
       "\n",
       "[9 8 7]\n",
       "<NDArray 3 @cpu(0)>"
      ]
     },
     "execution_count": 18,
     "metadata": {},
     "output_type": "execute_result"
    }
   ],
   "source": [
    "x[10:6:-1]"
   ]
  },
  {
   "cell_type": "markdown",
   "id": "1cc8d1b6",
   "metadata": {},
   "source": [
    "Anothe example using a matrix and nd arrays to assit with indexing\n",
    "\n",
    "![img](imgs/ndarray_complex_index.png)"
   ]
  },
  {
   "cell_type": "code",
   "execution_count": 19,
   "id": "19864e1c",
   "metadata": {},
   "outputs": [
    {
     "name": "stdout",
     "output_type": "stream",
     "text": [
      "a =  \n",
      "[[ 0.  1.  2.  3.  4.]\n",
      " [ 5.  6.  7.  8.  9.]\n",
      " [10. 11. 12. 13. 14.]\n",
      " [15. 16. 17. 18. 19.]\n",
      " [20. 21. 22. 23. 24.]\n",
      " [25. 26. 27. 28. 29.]\n",
      " [30. 31. 32. 33. 34.]\n",
      " [35. 36. 37. 38. 39.]\n",
      " [40. 41. 42. 43. 44.]\n",
      " [45. 46. 47. 48. 49.]]\n",
      "<NDArray 10x5 @cpu(0)>\n",
      "b (indexing) =  \n",
      "[9. 7. 5. 3. 1.]\n",
      "<NDArray 5 @cpu(0)>\n",
      "nd.arange(a.shape[1]) =  \n",
      "[0. 1. 2. 3. 4.]\n",
      "<NDArray 5 @cpu(0)>\n",
      "result =  \n",
      "[45. 36. 27. 18.  9.]\n",
      "<NDArray 5 @cpu(0)>\n"
     ]
    }
   ],
   "source": [
    "a = nd.arange(50).reshape(10, 5) # Array to be indexed\n",
    "# b = 9 7 5 3 1  which means start with row 9 and step down to \n",
    "b = nd.arange(9, -1, -2) # Indexing array. Start at 9, step down by 2 each time until 1\n",
    "print('a = ', a)\n",
    "print('b (indexing) = ', b)\n",
    "print('nd.arange(a.shape[1]) = ', nd.arange(a.shape[1]))\n",
    "result = a[b, nd.arange(a.shape[1])]\n",
    "print('result = ', result)"
   ]
  },
  {
   "cell_type": "markdown",
   "id": "79d5ffaf",
   "metadata": {},
   "source": [
    "# Expand dimensions\n",
    "\n",
    "[here](https://mxnet.incubator.apache.org/versions/1.8.0/api/python/docs/api/ndarray/ndarray.html#mxnet.ndarray.expand_dims)\n",
    "\n",
    "Prototype\n",
    "\n",
    "```\n",
    "mxnet.ndarray.expand_dims(data=None, axis=_Null, out=None, name=None, **kwargs)\n",
    "```    \n",
    "\n",
    "Example\n",
    "\n",
    "```\n",
    "Inserts a new axis of size 1 into the array shape For example, given x with shape (2,3,4), then expand_dims(x, axis=1) will return a new array with shape (2,1,3,4).\n",
    "```"
   ]
  },
  {
   "cell_type": "code",
   "execution_count": 20,
   "id": "d3bbbdeb",
   "metadata": {},
   "outputs": [
    {
     "name": "stdout",
     "output_type": "stream",
     "text": [
      "\n",
      "[[0. 1.]\n",
      " [2. 3.]]\n",
      "<NDArray 2x2 @cpu(0)>\n",
      "\n",
      "[[[0. 1.]\n",
      "  [2. 3.]]]\n",
      "<NDArray 1x2x2 @cpu(0)>\n",
      "\n",
      "[[[[0. 1.]\n",
      "   [2. 3.]]]]\n",
      "<NDArray 1x1x2x2 @cpu(0)>\n"
     ]
    }
   ],
   "source": [
    "X = nd.array([[0,1],[2,3]])\n",
    "print(X)\n",
    "X = X.reshape(1,2,2)\n",
    "print(X)\n",
    "X = X.expand_dims(axis=0)\n",
    "print(X)"
   ]
  },
  {
   "cell_type": "markdown",
   "id": "7a2f2729",
   "metadata": {},
   "source": [
    "# shape_array\n",
    "\n",
    "[here](https://mxnet.incubator.apache.org/versions/1.8.0/api/python/docs/api/ndarray/ndarray.html#mxnet.ndarray.shape_array)\n",
    "\n",
    "Returns a 1D int64 array containing the shape of data\n",
    "\n",
    "prototype\n",
    "\n",
    "```\n",
    "nd.shape_array(data=None, out=None, name=None, **kwargs)\n",
    "```\n",
    "\n",
    "Example\n",
    "```\n",
    "shape_array([[1,2,3,4], [5,6,7,8]]) = [2,4]\n",
    "```"
   ]
  },
  {
   "cell_type": "code",
   "execution_count": 21,
   "id": "2ea4040f",
   "metadata": {},
   "outputs": [
    {
     "name": "stdout",
     "output_type": "stream",
     "text": [
      "\n",
      "[[0. 1.]\n",
      " [2. 3.]]\n",
      "<NDArray 2x2 @cpu(0)>\n",
      "\n",
      "[[[0. 1.]\n",
      "  [2. 3.]]]\n",
      "<NDArray 1x2x2 @cpu(0)>\n",
      "\n",
      "[[[[0. 1.]\n",
      "   [2. 3.]]]]\n",
      "<NDArray 1x1x2x2 @cpu(0)>\n"
     ]
    },
    {
     "data": {
      "text/plain": [
       "\n",
       "[1 1 2 2]\n",
       "<NDArray 4 @cpu(0)>"
      ]
     },
     "execution_count": 21,
     "metadata": {},
     "output_type": "execute_result"
    }
   ],
   "source": [
    "X = nd.array([[0,1],[2,3]])\n",
    "print(X)\n",
    "X = X.reshape(1,2,2)\n",
    "print(X)\n",
    "X = X.expand_dims(axis=0)\n",
    "print(X)\n",
    "X.shape_array()"
   ]
  },
  {
   "cell_type": "markdown",
   "id": "5b8227c7",
   "metadata": {},
   "source": [
    "# Flatten an Array"
   ]
  },
  {
   "cell_type": "code",
   "execution_count": 22,
   "id": "7c371de2",
   "metadata": {},
   "outputs": [
    {
     "name": "stdout",
     "output_type": "stream",
     "text": [
      "\n",
      "[[0. 1.]\n",
      " [2. 3.]]\n",
      "<NDArray 2x2 @cpu(0)>\n",
      "\n",
      "[[[0. 1.]\n",
      "  [2. 3.]]]\n",
      "<NDArray 1x2x2 @cpu(0)>\n",
      "X.flatten() \n",
      "[[0. 1. 2. 3.]]\n",
      "<NDArray 1x4 @cpu(0)>\n",
      "\n",
      "[[0. 1.]\n",
      " [2. 3.]]\n",
      "<NDArray 2x2 @cpu(0)>\n",
      "Y.flatten() \n",
      "[[0. 1.]\n",
      " [2. 3.]]\n",
      "<NDArray 2x2 @cpu(0)>\n"
     ]
    }
   ],
   "source": [
    "# takes a 3,4,.. array and converts to a 2D\n",
    "X = nd.array([[0,1],[2,3]])\n",
    "print(X)\n",
    "X = X.reshape(1,2,2)\n",
    "print(X)\n",
    "print('X.flatten()',X.flatten())\n",
    "\n",
    "Y = nd.array([[0,1],[2,3]])\n",
    "print(Y)\n",
    "print('Y.flatten()',Y.flatten())\n"
   ]
  },
  {
   "cell_type": "markdown",
   "id": "7f0f6c81",
   "metadata": {},
   "source": [
    "# Choosing elements based on index\n",
    "\n",
    "[docs](https://mxnet.apache.org/versions/1.8.0/api/python/docs/api/ndarray/ndarray.html#mxnet.ndarray.choose_element_0index)\n",
    "\n",
    "Picks elements from an input array according to the input indices along the given axis.\n",
    "\n",
    "prototype\n",
    "```\n",
    "ndarray.choose_element_0index(data=None, index=None, axis=_Null, keepdims=_Null, mode=_Null, out=None, name=None, **kwargs)\n",
    "```"
   ]
  },
  {
   "cell_type": "code",
   "execution_count": 23,
   "id": "e8f2c843",
   "metadata": {},
   "outputs": [
    {
     "name": "stdout",
     "output_type": "stream",
     "text": [
      "X.shape  (3, 3)\n",
      "\n",
      "[[0. 1. 2.]\n",
      " [3. 4. 5.]\n",
      " [6. 7. 8.]]\n",
      "<NDArray 3x3 @cpu(0)>\n"
     ]
    }
   ],
   "source": [
    "X = nd.array([[0,1,2],[3,4,5],[6,7,8]])\n",
    "print('X.shape ', X.shape)\n",
    "print(X)\n",
    "# these are equivalnet\n",
    "#Y = nd.array([2,2,3]) # it seems if you specify a column > max column, it still picks the last column\n",
    "Y = nd.array([2,2,2])\n",
    "\n"
   ]
  },
  {
   "cell_type": "code",
   "execution_count": 24,
   "id": "69da2275",
   "metadata": {},
   "outputs": [
    {
     "name": "stdout",
     "output_type": "stream",
     "text": [
      "\n",
      "[2. 5. 8.]\n",
      "<NDArray 3 @cpu(0)>\n",
      "\n",
      "[2. 5. 8.]\n",
      "<NDArray 3 @cpu(0)>\n"
     ]
    }
   ],
   "source": [
    "# these one makes sense. axis 1 is column\n",
    "# for each row, pick colum specified by index, col=2, col=2, col=3, except no col=3? is it just the last one?\n",
    "print(nd.choose_element_0index(X, Y)) # if axis is not specified, axis=1\n",
    "print(nd.choose_element_0index(X, Y, axis=1)) "
   ]
  },
  {
   "cell_type": "code",
   "execution_count": 25,
   "id": "11d0b00e",
   "metadata": {},
   "outputs": [
    {
     "name": "stdout",
     "output_type": "stream",
     "text": [
      "\n",
      "[6. 7. 8.]\n",
      "<NDArray 3 @cpu(0)>\n"
     ]
    }
   ],
   "source": [
    "# For each column, pick row 2,2,2\n",
    "print(nd.choose_element_0index(X, Y, axis=0)) \n",
    "# no axis=2\n",
    "#print(nd.choose_element_0index(X, Y, axis=2)) \n"
   ]
  },
  {
   "cell_type": "code",
   "execution_count": 26,
   "id": "1ff42aee",
   "metadata": {},
   "outputs": [
    {
     "name": "stdout",
     "output_type": "stream",
     "text": [
      "X.shape  (3, 3)\n",
      "\n",
      "[[0. 1. 2.]\n",
      " [3. 4. 5.]\n",
      " [6. 7. 8.]]\n",
      "<NDArray 3x3 @cpu(0)>\n"
     ]
    }
   ],
   "source": [
    "X = nd.array([[0,1,2],[3,4,5],[6,7,8]])\n",
    "print('X.shape ', X.shape)\n",
    "print(X)"
   ]
  },
  {
   "cell_type": "code",
   "execution_count": 27,
   "id": "7835bf8c",
   "metadata": {},
   "outputs": [
    {
     "name": "stdout",
     "output_type": "stream",
     "text": [
      "Y.shape  (3, 1)\n",
      "\n",
      "[[1.]\n",
      " [0.]\n",
      " [2.]]\n",
      "<NDArray 3x1 @cpu(0)>\n"
     ]
    }
   ],
   "source": [
    "Y = nd.array([[1],[0],[2]])\n",
    "print('Y.shape ', Y.shape)\n",
    "print(Y)"
   ]
  },
  {
   "cell_type": "code",
   "execution_count": 28,
   "id": "f81131b4",
   "metadata": {},
   "outputs": [
    {
     "data": {
      "text/plain": [
       "\n",
       "[[1.]\n",
       " [3.]\n",
       " [8.]]\n",
       "<NDArray 3x1 @cpu(0)>"
      ]
     },
     "execution_count": 28,
     "metadata": {},
     "output_type": "execute_result"
    }
   ],
   "source": [
    "# for each row, pick col=1,col=0, col=2 and maintain the rows\n",
    "nd.choose_element_0index(X, Y, axis=1, keepdims=True)"
   ]
  },
  {
   "cell_type": "markdown",
   "id": "b77d3735",
   "metadata": {},
   "source": [
    "# pick is equivalent\n",
    "\n",
    "[docs](https://mxnet.apache.org/versions/1.8.0/api/python/docs/api/ndarray/ndarray.html#mxnet.ndarray.pick)"
   ]
  },
  {
   "cell_type": "code",
   "execution_count": 29,
   "id": "947d40dc",
   "metadata": {},
   "outputs": [
    {
     "name": "stdout",
     "output_type": "stream",
     "text": [
      "X.shape  (3, 3)\n",
      "\n",
      "[[0. 1. 2.]\n",
      " [3. 4. 5.]\n",
      " [6. 7. 8.]]\n",
      "<NDArray 3x3 @cpu(0)>\n"
     ]
    }
   ],
   "source": [
    "X = nd.array([[0,1,2],[3,4,5],[6,7,8]])\n",
    "print('X.shape ', X.shape)\n",
    "print(X)"
   ]
  },
  {
   "cell_type": "code",
   "execution_count": 30,
   "id": "dd6ecceb",
   "metadata": {},
   "outputs": [
    {
     "name": "stdout",
     "output_type": "stream",
     "text": [
      "Y.shape  (3, 1)\n",
      "\n",
      "[[1.]\n",
      " [0.]\n",
      " [2.]]\n",
      "<NDArray 3x1 @cpu(0)>\n"
     ]
    }
   ],
   "source": [
    "Y = nd.array([[1],[0],[2]])\n",
    "print('Y.shape ', Y.shape)\n",
    "print(Y)"
   ]
  },
  {
   "cell_type": "code",
   "execution_count": 31,
   "id": "b3328d92",
   "metadata": {},
   "outputs": [
    {
     "data": {
      "text/plain": [
       "\n",
       "[[1.]\n",
       " [3.]\n",
       " [8.]]\n",
       "<NDArray 3x1 @cpu(0)>"
      ]
     },
     "execution_count": 31,
     "metadata": {},
     "output_type": "execute_result"
    }
   ],
   "source": [
    "# picks elements with specified indices along axis 1 and dims are maintained\n",
    "nd.pick(X, Y, axis=1, keepdims=True)"
   ]
  },
  {
   "cell_type": "code",
   "execution_count": null,
   "id": "37782a54",
   "metadata": {},
   "outputs": [],
   "source": []
  },
  {
   "cell_type": "code",
   "execution_count": null,
   "id": "da0e3145",
   "metadata": {},
   "outputs": [],
   "source": []
  },
  {
   "cell_type": "code",
   "execution_count": null,
   "id": "2017bab1",
   "metadata": {},
   "outputs": [],
   "source": []
  },
  {
   "cell_type": "code",
   "execution_count": null,
   "id": "6989f97b",
   "metadata": {},
   "outputs": [],
   "source": []
  },
  {
   "cell_type": "code",
   "execution_count": null,
   "id": "697be842",
   "metadata": {},
   "outputs": [],
   "source": []
  },
  {
   "cell_type": "markdown",
   "id": "d9d913f2",
   "metadata": {},
   "source": [
    "# Tensors\n",
    "Just as vectors genralize scalars, and matrices generalize vectors, we can increase the number of axes.  When working with images the axes correspond to the height, width and the three RGB color channels."
   ]
  },
  {
   "cell_type": "code",
   "execution_count": 32,
   "id": "7af454f0",
   "metadata": {},
   "outputs": [
    {
     "name": "stdout",
     "output_type": "stream",
     "text": [
      "X =  \n",
      "[[[ 0.  1.  2.  3.]\n",
      "  [ 4.  5.  6.  7.]\n",
      "  [ 8.  9. 10. 11.]]\n",
      "\n",
      " [[12. 13. 14. 15.]\n",
      "  [16. 17. 18. 19.]\n",
      "  [20. 21. 22. 23.]]]\n",
      "<NDArray 2x3x4 @cpu(0)>\n",
      "X.shape =  (2, 3, 4)\n"
     ]
    }
   ],
   "source": [
    "X = nd.arange(24).reshape((2,3,4))  # two submaxtrices of three rows by four columns\n",
    "print('X = ', X)\n",
    "print('X.shape = ', X.shape)\n"
   ]
  },
  {
   "cell_type": "markdown",
   "id": "8d11fc2b",
   "metadata": {},
   "source": [
    "# Basic properties of tensor artihmetic\n",
    "\n",
    "Given two tensors `X` and `Y` with the same shape, $\\alpha X + Y$ has the same shape (numerical mathematicians call this the `AXPY` operation)"
   ]
  },
  {
   "cell_type": "code",
   "execution_count": 33,
   "id": "6019d6d0",
   "metadata": {},
   "outputs": [
    {
     "name": "stdout",
     "output_type": "stream",
     "text": [
      "x.shape =  (3,)\n",
      "y.shape =  (3,)\n",
      "(a * x).shape =  (3,)\n",
      "(a * x + y).shape =  (3,)\n"
     ]
    }
   ],
   "source": [
    "a = 2\n",
    "x = nd.ones(3)\n",
    "y = nd.zeros(3)\n",
    "print('x.shape = ', x.shape)\n",
    "print('y.shape = ', y.shape)\n",
    "print('(a * x).shape = ', (a * x).shape)\n",
    "print('(a * x + y).shape = ', (a * x + y).shape)"
   ]
  },
  {
   "cell_type": "markdown",
   "id": "e4292342",
   "metadata": {},
   "source": [
    "# sums and means\n",
    "In math we express sums using the $\\sum$ symbol.  To express the sum of elements in a vector `u` of length `d`, we can write $\\sum_{i=i}^{i=d}{u_{i}}$   In code, we can just call `nd.sum()`"
   ]
  },
  {
   "cell_type": "code",
   "execution_count": 34,
   "id": "b5ee8347",
   "metadata": {},
   "outputs": [
    {
     "name": "stdout",
     "output_type": "stream",
     "text": [
      "x =  \n",
      "[[ 0.  1.  2.  3.]\n",
      " [ 4.  5.  6.  7.]\n",
      " [ 8.  9. 10. 11.]]\n",
      "<NDArray 3x4 @cpu(0)>\n",
      "nd.sum(x) =  \n",
      "[66.]\n",
      "<NDArray 1 @cpu(0)>\n"
     ]
    }
   ],
   "source": [
    "x = nd.arange(12)\n",
    "x = x.reshape((3,4))\n",
    "print('x = ', x)\n",
    "print('nd.sum(x) = ', nd.sum(x))"
   ]
  },
  {
   "cell_type": "markdown",
   "id": "d4820443",
   "metadata": {},
   "source": [
    "Sum along a row"
   ]
  },
  {
   "cell_type": "code",
   "execution_count": 35,
   "id": "4ba249b4",
   "metadata": {},
   "outputs": [
    {
     "name": "stdout",
     "output_type": "stream",
     "text": [
      "nd.sum(x,0) =  \n",
      "[12. 15. 18. 21.]\n",
      "<NDArray 4 @cpu(0)>\n",
      "nd.sum(x,0) =  \n",
      "[12. 15. 18. 21.]\n",
      "<NDArray 4 @cpu(0)>\n"
     ]
    }
   ],
   "source": [
    "print('nd.sum(x,0) = ', nd.sum(x,0))\n",
    "# or\n",
    "print('nd.sum(x,0) = ', nd.sum(x,axis=0))\n"
   ]
  },
  {
   "cell_type": "markdown",
   "id": "ecff1301",
   "metadata": {},
   "source": [
    "sum along a column"
   ]
  },
  {
   "cell_type": "code",
   "execution_count": 36,
   "id": "51cb00b4",
   "metadata": {},
   "outputs": [
    {
     "name": "stdout",
     "output_type": "stream",
     "text": [
      "nd.sum(x,0) =  \n",
      "[ 6. 22. 38.]\n",
      "<NDArray 3 @cpu(0)>\n",
      "nd.sum(x,0) =  \n",
      "[ 6. 22. 38.]\n",
      "<NDArray 3 @cpu(0)>\n"
     ]
    }
   ],
   "source": [
    "print('nd.sum(x,0) = ', nd.sum(x,axis=1))\n",
    "# or\n",
    "print('nd.sum(x,0) = ', nd.sum(x,1))\n"
   ]
  },
  {
   "cell_type": "markdown",
   "id": "0767ff8b",
   "metadata": {},
   "source": [
    "sum along a row and column"
   ]
  },
  {
   "cell_type": "code",
   "execution_count": 37,
   "id": "e2cab888",
   "metadata": {},
   "outputs": [
    {
     "name": "stdout",
     "output_type": "stream",
     "text": [
      "nd.sum(x,0) =  \n",
      "[66.]\n",
      "<NDArray 1 @cpu(0)>\n"
     ]
    }
   ],
   "source": [
    "print('nd.sum(x,0) = ', nd.sum(x,(0,1)))\n"
   ]
  },
  {
   "cell_type": "markdown",
   "id": "d40bb765",
   "metadata": {},
   "source": [
    "# Mean\n",
    "A related quantity is the mean.  We calculate the mean by dividing the sum by the total number of elements.  In code this is `nd.mean()`\n",
    "\n",
    "$$mean(u) = \\frac{1}{d} \\sum_{i=1}^{i=d} u_{i} $$\n",
    "\n",
    "and\n",
    "\n",
    "$$mean(A) = \\frac{1}{n*m} \\sum_{i=1}^{i=m} \\sum_{j=1}^{j=n} a_{ij} $$"
   ]
  },
  {
   "cell_type": "code",
   "execution_count": 38,
   "id": "dd283e63",
   "metadata": {},
   "outputs": [
    {
     "name": "stdout",
     "output_type": "stream",
     "text": [
      "A =  \n",
      "[[ 0.  1.  2.  3.  4.  5.  6.  7.  8.  9.]\n",
      " [10. 11. 12. 13. 14. 15. 16. 17. 18. 19.]]\n",
      "<NDArray 2x10 @cpu(0)>\n",
      "nd.mean(A) =  \n",
      "[9.5]\n",
      "<NDArray 1 @cpu(0)>\n",
      "nd.sum(A) / A.size =  \n",
      "[9.5]\n",
      "<NDArray 1 @cpu(0)>\n"
     ]
    }
   ],
   "source": [
    "print('A = ', A)\n",
    "print('nd.mean(A) = ', nd.mean(A))\n",
    "print('nd.sum(A) / A.size = ', nd.sum(A) / A.size)"
   ]
  },
  {
   "cell_type": "markdown",
   "id": "af1b4a15",
   "metadata": {},
   "source": [
    "# Dot products\n",
    "\n",
    "Given two vectors `u` and `v`, the dot product $u^Tv$ is a sum over the products of the corresponding elements: $$u^Tv = \\sum_{i=1}^{i=d} u_i * v_i$$"
   ]
  },
  {
   "cell_type": "code",
   "execution_count": 39,
   "id": "e97bd50c",
   "metadata": {},
   "outputs": [
    {
     "name": "stdout",
     "output_type": "stream",
     "text": [
      "x =  \n",
      "[1. 2. 3. 4.]\n",
      "<NDArray 4 @cpu(0)>\n",
      "y =  \n",
      "[1. 1. 1. 1.]\n",
      "<NDArray 4 @cpu(0)>\n",
      "nd.dot(x,y) =  \n",
      "[10.]\n",
      "<NDArray 1 @cpu(0)>\n",
      "(x * y).sum() =  \n",
      "[10.]\n",
      "<NDArray 1 @cpu(0)>\n"
     ]
    }
   ],
   "source": [
    "x = nd.arange(4) + 1.0\n",
    "y = nd.ones(4)\n",
    "print('x = ', x)\n",
    "print('y = ', y)\n",
    "print('nd.dot(x,y) = ', nd.dot(x,y))\n",
    "# also equivalent\n",
    "print('(x * y).sum() = ', (x * y).sum())"
   ]
  },
  {
   "cell_type": "markdown",
   "id": "f49d50e0",
   "metadata": {},
   "source": [
    "Note that we can express the dot product of two vectors `nd.dot(u,v)` equivalently by performing an element-wise multiplicatoins and then a sum:"
   ]
  },
  {
   "cell_type": "code",
   "execution_count": 40,
   "id": "e76c7442",
   "metadata": {},
   "outputs": [
    {
     "data": {
      "text/plain": [
       "\n",
       "[10.]\n",
       "<NDArray 1 @cpu(0)>"
      ]
     },
     "execution_count": 40,
     "metadata": {},
     "output_type": "execute_result"
    }
   ],
   "source": [
    "nd.sum(x * y)"
   ]
  },
  {
   "cell_type": "markdown",
   "id": "d96652a1",
   "metadata": {},
   "source": [
    "# Matrix-vector products\n",
    "\n",
    "\\begin{align}\n",
    "\\begin{vmatrix}\n",
    "a_{11} & a_{12} \\\\\n",
    "a_{21} & a_{22}\n",
    "\\end{vmatrix}\n",
    "\\begin{vmatrix} x \\\\ y \\end{vmatrix} = \n",
    "\\begin{vmatrix}\n",
    "a_1^T x \\\\\n",
    "a_2^T y\n",
    "\\end{vmatrix} = \n",
    "\\begin{vmatrix}\n",
    "x a_{11} + y a_{12} \\\\\n",
    "x a_{12} + y a_{22}\n",
    "\\end{vmatrix}\n",
    "\\end{align}\n",
    "\n",
    "$\\in$ is member of\n",
    "\n",
    "$\\newcommand{\\R}{\\mathbb{R}} \\R$ is real number. all numbers negative and positive including fractions\n",
    "\n",
    "\n",
    "So you can think of multiplication by a matrix $\\newcommand{\\R}{\\mathbb{R}} A\\in\\R^{mxn}$ as trans that projects vectors from $\\R^m to \\R^n$ "
   ]
  },
  {
   "cell_type": "markdown",
   "id": "4863339b",
   "metadata": {},
   "source": [
    "We can also use matrix-vector products to describe the calculations of each layer in a neural network.  Expressing matrix-vector products in code with `ndarray`, we use the same `nd.dot()` function as for dot products."
   ]
  },
  {
   "cell_type": "code",
   "execution_count": 41,
   "id": "d83bb663",
   "metadata": {},
   "outputs": [
    {
     "name": "stdout",
     "output_type": "stream",
     "text": [
      "A =  \n",
      "[[ 0.  1.  2.  3.  4.  5.  6.  7.  8.  9.]\n",
      " [10. 11. 12. 13. 14. 15. 16. 17. 18. 19.]]\n",
      "<NDArray 2x10 @cpu(0)>\n",
      "x =  \n",
      "[1. 2. 3. 4.]\n",
      "<NDArray 4 @cpu(0)>\n",
      "A now is =  \n",
      "[[ 0.  1.  2.  3.]\n",
      " [ 4.  5.  6.  7.]\n",
      " [ 8.  9. 10. 11.]\n",
      " [12. 13. 14. 15.]\n",
      " [16. 17. 18. 19.]]\n",
      "<NDArray 5x4 @cpu(0)>\n",
      "A*x =  \n",
      "[[ 0.  2.  6. 12.]\n",
      " [ 4. 10. 18. 28.]\n",
      " [ 8. 18. 30. 44.]\n",
      " [12. 26. 42. 60.]\n",
      " [16. 34. 54. 76.]]\n",
      "<NDArray 5x4 @cpu(0)>\n",
      "nd.dot(A,x) =  \n",
      "[ 20.  60. 100. 140. 180.]\n",
      "<NDArray 5 @cpu(0)>\n"
     ]
    }
   ],
   "source": [
    "print('A = ', A) # a 2x10\n",
    "print('x = ', x) # a 1x4\n",
    "\n",
    "# He did this.  It does not work for me.  I look in the online help text\n",
    "# and nothing is mentioned about truncating rows. ie. if 4 columns it needs 5 rows\n",
    "# and not three as in his text.  (Another reason to look for the git repo rather than typing along!)\n",
    "#A = A.reshape((3,4))   \n",
    "\n",
    "# later he refers to this as 3x4.  He must have had a 2x6?\n",
    "\n",
    "# My choice\n",
    "A = A.reshape((5,4))\n",
    "print('A now is = ', A)\n",
    "\n",
    "\n",
    "# * is an element by element multiply. it mults X by each row.\n",
    "# first row is 1*0  2*1 3*2 4*3\n",
    "# second row is 1*4 2*5 3*6 4*7 etc\n",
    "print('A*x = ', A*x)\n",
    "\n",
    "# dot is a row sum. Notice its a sum across a row\n",
    "print('nd.dot(A,x) = ', nd.dot(A,x))\n",
    "\n",
    "\n",
    "# \n",
    "# He mentioned matlab .* notation is equivalent to nd *\n",
    "\n",
    "# He also mentions broadcast of repeat entries of X until you get all elements of A.\n"
   ]
  },
  {
   "cell_type": "markdown",
   "id": "15544fc2",
   "metadata": {},
   "source": [
    "# Matrix-Matrix multiplication\n",
    "\n",
    "If you have gotten the hang of dot products and matrix-vector multiplication, then matrix-matrix multiplications should be pretty straight forward.\n",
    "\n",
    "Say we have two matrices, $\\newcommand{\\R}{\\mathbb{R}} A\\in\\R^{nxk}\\, and\\, B\\in\\R^{kxm}$"
   ]
  },
  {
   "cell_type": "markdown",
   "id": "5e8cba7e",
   "metadata": {},
   "source": [
    "\\begin{align}\n",
    "A=\\begin{vmatrix}\n",
    "a_{11} & a_{12} \\\\\n",
    "a_{21} & a_{nk}\n",
    "\\end{vmatrix}\n",
    "B=\\begin{vmatrix}\n",
    "b_{11} & b_{12} \\\\\n",
    "b_{21} & b_{km}\n",
    "\\end{vmatrix}\n",
    "\\end{align}\n"
   ]
  },
  {
   "cell_type": "markdown",
   "id": "70dcbbe5",
   "metadata": {},
   "source": [
    "You can think of the matrix-matrix multiplication $AB$ as simply performing `m` matrix-vector products and stiching the results together. "
   ]
  },
  {
   "cell_type": "markdown",
   "id": "cc25bc0b",
   "metadata": {},
   "source": [
    "\\begin{align}\n",
    "AB=\\begin{vmatrix}\n",
    "\\cdots & a_1^T & \\cdots \\\\\n",
    "\\cdots & a_2^T & \\cdots \\\\\n",
    "\\cdots & a_n^T & \\cdots \n",
    "\\end{vmatrix}\n",
    "\\begin{vmatrix}\n",
    "\\cdots & \\cdots & \\cdots \\\\\n",
    "b_{1} & b_{2} & b_{m} \\\\\n",
    "\\cdots & \\cdots & \\cdots \n",
    "\\end{vmatrix}\n",
    "=\\begin{vmatrix}\n",
    "a_1^Tb_1 & a_1^Tb_2 & .. & a_1^Tb_m \\\\\n",
    "a_2^Tb_1 & a_2^Tb_2 & .. & a_1^Tb_m \\\\\n",
    "a_n^Tb_1 & a_n^Tb_2 & .. & a_n^Tb_m\n",
    "\\end{vmatrix}\n",
    "\\end{align}"
   ]
  },
  {
   "cell_type": "code",
   "execution_count": 42,
   "id": "e536af49",
   "metadata": {},
   "outputs": [
    {
     "name": "stdout",
     "output_type": "stream",
     "text": [
      "A =  \n",
      "[[0. 1.]\n",
      " [2. 3.]]\n",
      "<NDArray 2x2 @cpu(0)>\n",
      "B =  \n",
      "[[1. 2.]\n",
      " [3. 4.]]\n",
      "<NDArray 2x2 @cpu(0)>\n"
     ]
    },
    {
     "data": {
      "text/plain": [
       "\n",
       "[[ 3.  4.]\n",
       " [11. 16.]]\n",
       "<NDArray 2x2 @cpu(0)>"
      ]
     },
     "execution_count": 42,
     "metadata": {},
     "output_type": "execute_result"
    }
   ],
   "source": [
    "A=nd.arange(4).reshape((2,2))\n",
    "print('A = ', A)\n",
    "B=nd.arange(1, stop=5, step=1).reshape((2,2))\n",
    "print('B = ', B)\n",
    "\n",
    "# This is for properly size matrices\n",
    "nd.dot(A,B)\n",
    "\n",
    "# If the dims are not correct, I've seen the transpose operator used\n",
    "# nd.dot(A,B.T)"
   ]
  },
  {
   "cell_type": "markdown",
   "id": "789d3f72",
   "metadata": {},
   "source": [
    "### Multiplication element wise versus normal matrix multiply"
   ]
  },
  {
   "cell_type": "markdown",
   "id": "3f04e9ea",
   "metadata": {},
   "source": [
    "### element-wise multiplication\n",
    "\n",
    "this is matlab .*? or is it .*.? Can't remember. need to test"
   ]
  },
  {
   "cell_type": "code",
   "execution_count": 43,
   "id": "f54c8349",
   "metadata": {},
   "outputs": [
    {
     "data": {
      "text/plain": [
       "(2, 2)"
      ]
     },
     "execution_count": 43,
     "metadata": {},
     "output_type": "execute_result"
    }
   ],
   "source": [
    "L=nd.array(nd.array([[1,2],[3,4]]))\n",
    "#L=nd.array(nd.array([[1,1]]))\n",
    "L.shape"
   ]
  },
  {
   "cell_type": "code",
   "execution_count": 44,
   "id": "5577ee01",
   "metadata": {},
   "outputs": [
    {
     "data": {
      "text/plain": [
       "\n",
       "[[ 0. -1.]\n",
       " [ 1.  0.]]\n",
       "<NDArray 2x2 @cpu(0)>"
      ]
     },
     "execution_count": 44,
     "metadata": {},
     "output_type": "execute_result"
    }
   ],
   "source": [
    "R=nd.array(nd.array([[0,-1],[1,0]]))\n",
    "R"
   ]
  },
  {
   "cell_type": "code",
   "execution_count": 45,
   "id": "76ad81d4",
   "metadata": {},
   "outputs": [
    {
     "data": {
      "text/plain": [
       "\n",
       "[[ 0. -2.]\n",
       " [ 3.  0.]]\n",
       "<NDArray 2x2 @cpu(0)>"
      ]
     },
     "execution_count": 45,
     "metadata": {},
     "output_type": "execute_result"
    }
   ],
   "source": [
    "L*R"
   ]
  },
  {
   "cell_type": "markdown",
   "id": "2f4b62f2",
   "metadata": {},
   "source": [
    "### Normal multiplication"
   ]
  },
  {
   "cell_type": "code",
   "execution_count": 46,
   "id": "757832bf",
   "metadata": {},
   "outputs": [
    {
     "data": {
      "text/plain": [
       "\n",
       "[[ 2. -1.]\n",
       " [ 4. -3.]]\n",
       "<NDArray 2x2 @cpu(0)>"
      ]
     },
     "execution_count": 46,
     "metadata": {},
     "output_type": "execute_result"
    }
   ],
   "source": [
    "nd.dot(L,R)"
   ]
  },
  {
   "cell_type": "markdown",
   "id": "18525577",
   "metadata": {},
   "source": [
    "# Norms\n",
    "\n",
    "All norms must satisfy a handful of properties:\n",
    "\n",
    "* $  \\left\\Vert  \\alpha A \\right\\Vert = \\begin{vmatrix} \\alpha \\end{vmatrix} \\left\\Vert A \\right\\Vert$\n",
    "* $  \\left\\Vert A + B \\right\\Vert \\leq \\left\\Vert A \\right\\Vert + \\left\\Vert B \\right\\Vert$\n",
    "* $  \\left\\Vert A  \\right\\Vert \\geq 0$\n",
    "* $  \\text{If }\\forall\\,i,j,a_{ij} = 0, then \\left\\Vert A  \\right\\Vert = 0$\n",
    "\n",
    "To calculate the $L_{2}$ norm, we can just call `nd.norm()`"
   ]
  },
  {
   "cell_type": "code",
   "execution_count": 47,
   "id": "fff352e0",
   "metadata": {},
   "outputs": [
    {
     "data": {
      "text/plain": [
       "\n",
       "[5.477226]\n",
       "<NDArray 1 @cpu(0)>"
      ]
     },
     "execution_count": 47,
     "metadata": {},
     "output_type": "execute_result"
    }
   ],
   "source": [
    "nd.norm(x)"
   ]
  },
  {
   "cell_type": "markdown",
   "id": "b76a1060",
   "metadata": {},
   "source": [
    "To calculate the $L_1$ norm we can simply perform the absolute value and then sum over elements.\n",
    "\n",
    "https://mxnet.apache.org/versions/1.6/api/r/docs/api/mx.symbol.sum.html"
   ]
  },
  {
   "cell_type": "code",
   "execution_count": 48,
   "id": "d7ffefc5",
   "metadata": {},
   "outputs": [
    {
     "name": "stdout",
     "output_type": "stream",
     "text": [
      "L1 norm =  \n",
      "[10.]\n",
      "<NDArray 1 @cpu(0)>\n",
      "L1 norm =  \n",
      "[10.]\n",
      "<NDArray 1 @cpu(0)>\n"
     ]
    }
   ],
   "source": [
    "print(\"L1 norm = \", nd.sum(nd.sum(x)))\n",
    "# or\n",
    "print(\"L1 norm = \", x.abs().sum())\n"
   ]
  },
  {
   "cell_type": "markdown",
   "id": "fc5cd56f",
   "metadata": {},
   "source": [
    "# SUM\n",
    "\n",
    "Computes the sum of array elements over given axes.\n",
    "\n",
    "[docs](https://mxnet.apache.org/versions/1.8.0/api/python/docs/api/ndarray/ndarray.html#mxnet.ndarray.sum)\n",
    "\n",
    "prototype\n",
    "\n",
    "```\n",
    "sum(data=None, axis=_Null, keepdims=_Null, exclude=_Null, out=None, name=None, **kwargs)\n",
    "```"
   ]
  },
  {
   "cell_type": "code",
   "execution_count": 49,
   "id": "c937953b",
   "metadata": {},
   "outputs": [
    {
     "name": "stdout",
     "output_type": "stream",
     "text": [
      "X.shape  (3, 3)\n",
      "\n",
      "[[0. 1. 2.]\n",
      " [3. 4. 5.]\n",
      " [6. 7. 8.]]\n",
      "<NDArray 3x3 @cpu(0)>\n"
     ]
    }
   ],
   "source": [
    "X = nd.array([[0,1,2],[3,4,5],[6,7,8]])\n",
    "print('X.shape ', X.shape)\n",
    "print(X)"
   ]
  },
  {
   "cell_type": "code",
   "execution_count": 50,
   "id": "08eba93c",
   "metadata": {},
   "outputs": [
    {
     "data": {
      "text/plain": [
       "\n",
       "[ 9. 12. 15.]\n",
       "<NDArray 3 @cpu(0)>"
      ]
     },
     "execution_count": 50,
     "metadata": {},
     "output_type": "execute_result"
    }
   ],
   "source": [
    "X.sum(axis=0)"
   ]
  },
  {
   "cell_type": "code",
   "execution_count": 51,
   "id": "91382eb5",
   "metadata": {},
   "outputs": [
    {
     "data": {
      "text/plain": [
       "\n",
       "[[ 3.]\n",
       " [12.]\n",
       " [21.]]\n",
       "<NDArray 3x1 @cpu(0)>"
      ]
     },
     "execution_count": 51,
     "metadata": {},
     "output_type": "execute_result"
    }
   ],
   "source": [
    "X.sum(axis=1, keepdims=True)"
   ]
  },
  {
   "cell_type": "markdown",
   "id": "d12169c9",
   "metadata": {},
   "source": [
    "# CUMSUM\n",
    "\n",
    "This is interesting.  It sums along the axis.  For output with axis=0/row,  \n",
    "\n",
    "* first row is just the first row.\n",
    "* second row is sum of first and second row.\n",
    "* third ....\n",
    "\n",
    "[docs](https://mxnet.apache.org/versions/1.8.0/api/python/docs/api/ndarray/ndarray.html#mxnet.ndarray.cumsum)\n",
    "\n",
    "prototype\n",
    "\n",
    "```\n",
    "ndarray.cumsum(a=None, axis=_Null, dtype=_Null, out=None, name=None, **kwargs)\n",
    "```"
   ]
  },
  {
   "cell_type": "code",
   "execution_count": 52,
   "id": "6d9e0625",
   "metadata": {},
   "outputs": [
    {
     "name": "stdout",
     "output_type": "stream",
     "text": [
      "X.shape  (3, 3)\n",
      "\n",
      "[[0. 1. 2.]\n",
      " [3. 4. 5.]\n",
      " [6. 7. 8.]]\n",
      "<NDArray 3x3 @cpu(0)>\n"
     ]
    }
   ],
   "source": [
    "X = nd.array([[0,1,2],[3,4,5],[6,7,8]])\n",
    "print('X.shape ', X.shape)\n",
    "print(X)"
   ]
  },
  {
   "cell_type": "code",
   "execution_count": 53,
   "id": "f1a798ea",
   "metadata": {},
   "outputs": [
    {
     "data": {
      "text/plain": [
       "\n",
       "[[ 0.  1.  2.]\n",
       " [ 3.  5.  7.]\n",
       " [ 9. 12. 15.]]\n",
       "<NDArray 3x3 @cpu(0)>"
      ]
     },
     "execution_count": 53,
     "metadata": {},
     "output_type": "execute_result"
    }
   ],
   "source": [
    "nd.cumsum(X, axis=0)"
   ]
  },
  {
   "cell_type": "markdown",
   "id": "85e8a70c",
   "metadata": {},
   "source": [
    "# where\n",
    "Return the elements, either from x or y, depending on the condition.\n",
    "\n",
    "[docs](https://mxnet.apache.org/versions/1.8.0/api/python/docs/api/ndarray/ndarray.html#mxnet.ndarray.where)\n",
    "\n",
    "prototype\n",
    "\n",
    "```\n",
    "mxnet.ndarray.where(condition=None, x=None, y=None, out=None, name=None, **kwargs)\n",
    "```"
   ]
  },
  {
   "cell_type": "markdown",
   "id": "7d794db3",
   "metadata": {},
   "source": [
    "#### from api example"
   ]
  },
  {
   "cell_type": "code",
   "execution_count": 83,
   "id": "a3b9e560",
   "metadata": {},
   "outputs": [
    {
     "data": {
      "text/plain": [
       "\n",
       "[[5. 2.]\n",
       " [3. 8.]]\n",
       "<NDArray 2x2 @cpu(0)>"
      ]
     },
     "execution_count": 83,
     "metadata": {},
     "output_type": "execute_result"
    }
   ],
   "source": [
    "# official example 1\n",
    "#  [[1, 2]\n",
    "#   [3, 4]]\n",
    "\n",
    "# [[5, 6]\n",
    "#  [7, 8]]\n",
    "#\n",
    "\n",
    "# [[ 0, 1]\n",
    "#  [-1, 0 ]\n",
    "\n",
    "# 0 pulls Y in same position \n",
    "# 1 pulls X  \"True pull x\"\n",
    "# -1 pulls X \"-1 is non zero so true, pull x\"\n",
    "# 0 pulls Y  \"0 is false pull y\"\n",
    "x = nd.array([[1, 2], [3, 4]])\n",
    "y = nd.array([[5, 6], [7, 8]])\n",
    "cond = nd.array([[0, 1], [-1, 0]])\n",
    "# should return  = [[5, 2], [3, 8]]\n",
    "nd.where(cond, x, y)"
   ]
  },
  {
   "cell_type": "code",
   "execution_count": 82,
   "id": "c64ca8ce",
   "metadata": {},
   "outputs": [
    {
     "data": {
      "text/plain": [
       "\n",
       "[[5. 2.]\n",
       " [3. 8.]]\n",
       "<NDArray 2x2 @cpu(0)>"
      ]
     },
     "execution_count": 82,
     "metadata": {},
     "output_type": "execute_result"
    }
   ],
   "source": [
    "# official example 2\n",
    "csr_cond = nd.cast_storage(cond, 'csr')\n",
    "# should return  = [[5, 2], [3, 8]]\n",
    "nd.where(csr_cond, x, y)"
   ]
  },
  {
   "cell_type": "code",
   "execution_count": 54,
   "id": "45189f77",
   "metadata": {},
   "outputs": [
    {
     "name": "stdout",
     "output_type": "stream",
     "text": [
      "X.shape  (3, 3)\n",
      "\n",
      "[[1. 2. 0.]\n",
      " [3. 4. 0.]\n",
      " [6. 7. 0.]]\n",
      "<NDArray 3x3 @cpu(0)>\n"
     ]
    }
   ],
   "source": [
    "X = nd.array([[1,2,0],[3,4,0],[6,7,0]])\n",
    "print('X.shape ', X.shape)\n",
    "print(X)"
   ]
  },
  {
   "cell_type": "code",
   "execution_count": 67,
   "id": "1479b543",
   "metadata": {},
   "outputs": [
    {
     "name": "stdout",
     "output_type": "stream",
     "text": [
      "Y.shape  (3,)\n",
      "\n",
      "[1. 0. 0.]\n",
      "<NDArray 3 @cpu(0)>\n"
     ]
    }
   ],
   "source": [
    "Y = nd.array([1, 0, 0])\n",
    "print('Y.shape ', Y.shape)\n",
    "print(Y)"
   ]
  },
  {
   "cell_type": "code",
   "execution_count": 68,
   "id": "27cc2053",
   "metadata": {},
   "outputs": [
    {
     "data": {
      "text/plain": [
       "\n",
       "[[1. 2. 0.]\n",
       " [3. 4. 0.]\n",
       " [6. 7. 0.]]\n",
       "<NDArray 3x3 @cpu(0)>"
      ]
     },
     "execution_count": 68,
     "metadata": {},
     "output_type": "execute_result"
    }
   ],
   "source": [
    "nd.where(condition=Y, x=X, y=X)"
   ]
  },
  {
   "cell_type": "markdown",
   "id": "c50e4668",
   "metadata": {},
   "source": [
    "### From Thomas Delteil\n",
    "\n",
    "[here](https://github.com/apache/incubator-mxnet/issues/8546#issuecomment-402563089)"
   ]
  },
  {
   "cell_type": "code",
   "execution_count": 66,
   "id": "17ee5161",
   "metadata": {},
   "outputs": [
    {
     "data": {
      "text/plain": [
       "\n",
       "[-1.   0.2  0.3  0.4  0.5]\n",
       "<NDArray 5 @cpu(0)>"
      ]
     },
     "execution_count": 66,
     "metadata": {},
     "output_type": "execute_result"
    }
   ],
   "source": [
    "labels = nd.array([-1, 0, 1, 0, 1])\n",
    "cls_scores = nd.array([0.1, 0.2, 0.3, 0.4, 0.5])\n",
    "#cls_scores = nd.where(labels != -1, cls_scores, labels)  \n",
    "# Kind of merges x and y tensors, pulling y, when condition is not met. pulling x when met.\n",
    "cls_scores = nd.where(labels != -1, x=cls_scores, y=labels)  \n",
    "cls_scores"
   ]
  },
  {
   "cell_type": "code",
   "execution_count": 84,
   "id": "c449a76e",
   "metadata": {},
   "outputs": [
    {
     "data": {
      "text/plain": [
       "\n",
       "[1.  0.2 1.  0.4 1. ]\n",
       "<NDArray 5 @cpu(0)>"
      ]
     },
     "execution_count": 84,
     "metadata": {},
     "output_type": "execute_result"
    }
   ],
   "source": [
    "labels = nd.array([1, 0, 1, 0, 1])\n",
    "cls_scores = nd.array([0.1, 0.2, 0.3, 0.4, 0.5])\n",
    "#cls_scores = nd.where(labels != -1, cls_scores, labels)  \n",
    "# Kind of merges x and y tensors, pulling y, when condition is not met. pulling x when met.\n",
    "cls_scores = nd.where(labels == 0, x=cls_scores, y=labels)  \n",
    "cls_scores"
   ]
  },
  {
   "cell_type": "code",
   "execution_count": null,
   "id": "456d1c2a",
   "metadata": {},
   "outputs": [],
   "source": []
  }
 ],
 "metadata": {
  "kernelspec": {
   "display_name": "Python 3 (ipykernel)",
   "language": "python",
   "name": "python3"
  },
  "language_info": {
   "codemirror_mode": {
    "name": "ipython",
    "version": 3
   },
   "file_extension": ".py",
   "mimetype": "text/x-python",
   "name": "python",
   "nbconvert_exporter": "python",
   "pygments_lexer": "ipython3",
   "version": "3.7.2"
  }
 },
 "nbformat": 4,
 "nbformat_minor": 5
}
