{
 "cells": [
  {
   "cell_type": "markdown",
   "id": "96a58704",
   "metadata": {},
   "source": [
    "# linear algebra\n",
    "Following the guide from MXNet UC Bekeley Course on the Apache MXNet youtube channel"
   ]
  },
  {
   "cell_type": "code",
   "execution_count": 3,
   "id": "a68a645c",
   "metadata": {},
   "outputs": [
    {
     "name": "stdout",
     "output_type": "stream",
     "text": [
      "mx version  1.9.0\n"
     ]
    }
   ],
   "source": [
    "from mxnet import nd\n",
    "import mxnet as mx\n",
    "print ('mx version ', mx.__version__)"
   ]
  },
  {
   "cell_type": "markdown",
   "id": "2d39298c",
   "metadata": {},
   "source": [
    "In MXNet scalars are NDArrays with one element"
   ]
  },
  {
   "cell_type": "code",
   "execution_count": 3,
   "id": "95ebf80f",
   "metadata": {},
   "outputs": [
    {
     "name": "stdout",
     "output_type": "stream",
     "text": [
      "x + y =  \n",
      "[5.]\n",
      "<NDArray 1 @cpu(0)>\n",
      "x - y =  \n",
      "[1.]\n",
      "<NDArray 1 @cpu(0)>\n",
      "x * y =  \n",
      "[6.]\n",
      "<NDArray 1 @cpu(0)>\n",
      "x / y =  \n",
      "[1.5]\n",
      "<NDArray 1 @cpu(0)>\n",
      "x ** y =  \n",
      "[9.]\n",
      "<NDArray 1 @cpu(0)>\n",
      "x ** y =  \n",
      "[9.]\n",
      "<NDArray 1 @cpu(0)>\n"
     ]
    }
   ],
   "source": [
    "x = nd.array([3.0])\n",
    "y = nd.array([2.0])\n",
    "\n",
    "print('x + y = ', x + y)\n",
    "print('x - y = ', x - y)\n",
    "print('x * y = ', x * y)\n",
    "print('x / y = ', x / y)\n",
    "print('x ** y = ', x ** y)\n",
    "print('x ** y = ', nd.power(x,y))"
   ]
  },
  {
   "cell_type": "markdown",
   "id": "62401662",
   "metadata": {},
   "source": [
    "We can convert any NDArray to a python float by calling its asscalar method.  NOTE: this is a bad idea.  The NDArray has to stop doing anything else in order to hand the result and process control back to Python.  Its not done in parallel."
   ]
  },
  {
   "cell_type": "code",
   "execution_count": 4,
   "id": "b2c51ad1",
   "metadata": {},
   "outputs": [
    {
     "name": "stdout",
     "output_type": "stream",
     "text": [
      "\n",
      "[3.]\n",
      "<NDArray 1 @cpu(0)>\n",
      "3.0\n"
     ]
    }
   ],
   "source": [
    "print(x)\n",
    "print(x.asscalar())"
   ]
  },
  {
   "cell_type": "markdown",
   "id": "749cf570",
   "metadata": {},
   "source": [
    "# Vectors\n",
    "Vectors are [1, 3, 4, 2]  as a 1D NDArray"
   ]
  },
  {
   "cell_type": "code",
   "execution_count": 5,
   "id": "8a87a796",
   "metadata": {},
   "outputs": [
    {
     "name": "stdout",
     "output_type": "stream",
     "text": [
      "x =  \n",
      "[0. 1. 2. 3. 4.]\n",
      "<NDArray 5 @cpu(0)>\n"
     ]
    }
   ],
   "source": [
    "x = nd.arange(5)\n",
    "print('x = ', x)"
   ]
  },
  {
   "cell_type": "code",
   "execution_count": 6,
   "id": "bb742457",
   "metadata": {},
   "outputs": [
    {
     "data": {
      "text/plain": [
       "\n",
       "[3.]\n",
       "<NDArray 1 @cpu(0)>"
      ]
     },
     "execution_count": 6,
     "metadata": {},
     "output_type": "execute_result"
    }
   ],
   "source": [
    "x[3]"
   ]
  },
  {
   "cell_type": "markdown",
   "id": "f5b195e3",
   "metadata": {},
   "source": [
    "# Length, dimensionality and shape\n",
    "The length of a vector is commonly called its *dimension*.  As an ordianry Python array, we can acces the length of an NDArray by calling Python's built-in len() function.\n",
    "\n",
    "We can also access a vectors length via its `.shape` attribute.  The shape is a tuple that lists it dimensionality along each of its axes.\n"
   ]
  },
  {
   "cell_type": "code",
   "execution_count": 7,
   "id": "28f5be1e",
   "metadata": {},
   "outputs": [
    {
     "data": {
      "text/plain": [
       "(5,)"
      ]
     },
     "execution_count": 7,
     "metadata": {},
     "output_type": "execute_result"
    }
   ],
   "source": [
    "x.shape"
   ]
  },
  {
   "cell_type": "markdown",
   "id": "3ffbd742",
   "metadata": {},
   "source": [
    "The word dimension is overloaded between number of axes and number of elements.  To avoid confusion, when we say 2D array or 3D array, we mean an array with 2 or 3 axes respectively.  But, if we say `n-dimensional` vector, we mean a vector of length `n`."
   ]
  },
  {
   "cell_type": "code",
   "execution_count": 8,
   "id": "82906dfe",
   "metadata": {},
   "outputs": [
    {
     "name": "stdout",
     "output_type": "stream",
     "text": [
      "a * x =  \n",
      "[2. 4. 6.]\n",
      "<NDArray 3 @cpu(0)>\n",
      "a * x + y =  \n",
      "[12. 24. 36.]\n",
      "<NDArray 3 @cpu(0)>\n"
     ]
    }
   ],
   "source": [
    "a = 2\n",
    "x = nd.array([1,2,3])\n",
    "y = nd.array([10,20,30])\n",
    "print('a * x = ', a * x)\n",
    "print('a * x + y = ', a * x + y)"
   ]
  },
  {
   "cell_type": "markdown",
   "id": "c161a9c5",
   "metadata": {},
   "source": [
    "# Matrices\n",
    "\n",
    "Just as vectors generalize scalars from order 0 to order 1, matrices generalize vectors from 1D to 2D.  Matrices, which we'll typically denote with capital letters (A,B,C), are represented in codes as arrays with 2 axes.  Visually, we can draw a matrix as a table, where each entry $a_{ij}$ belongs to the i-th row and j-th column.\n",
    "\n",
    "\\begin{pmatrix}\n",
    "a_{11} & a_{12} & a_{1m}\\\\\n",
    "a_{21} & a_{22} & a_{2m}\\\\\n",
    "a_{..} & a_{..} & a_{..}\\\\\n",
    "a_{n1} & a_{n2} & a_{nm}\n",
    "\\end{pmatrix}"
   ]
  },
  {
   "cell_type": "code",
   "execution_count": 9,
   "id": "cbe0e966",
   "metadata": {},
   "outputs": [
    {
     "name": "stdout",
     "output_type": "stream",
     "text": [
      "\n",
      "[ 0.  1.  2.  3.  4.  5.  6.  7.  8.  9. 10. 11. 12. 13. 14. 15. 16. 17.\n",
      " 18. 19.]\n",
      "<NDArray 20 @cpu(0)>\n",
      "A =  \n",
      "[[ 0.  1.  2.  3.  4.  5.  6.  7.  8.  9.]\n",
      " [10. 11. 12. 13. 14. 15. 16. 17. 18. 19.]]\n",
      "<NDArray 2x10 @cpu(0)>\n"
     ]
    }
   ],
   "source": [
    "print(nd.arange(20))\n",
    "A = nd.arange(20).reshape((2,10)) # NOTE, rows, columns\n",
    "print('A = ', A)"
   ]
  },
  {
   "cell_type": "markdown",
   "id": "6241bb4d",
   "metadata": {},
   "source": [
    "We can access elements $a_{ij}$ by specifying row *i* and column *j*.  Leaving them blank, selects all?\n",
    "\n",
    "Selecting via `:` also takes all elements in the respective dimension.\n",
    "\n",
    "We can transpose the matrix with the `T` method.  That is, if $B=A^{T}$ then $b_{ij}=a_{ji}\\,\\, \\forall{i,j}$"
   ]
  },
  {
   "cell_type": "code",
   "execution_count": 10,
   "id": "465c4449",
   "metadata": {},
   "outputs": [
    {
     "name": "stdout",
     "output_type": "stream",
     "text": [
      "A[1] =  \n",
      "[10. 11. 12. 13. 14. 15. 16. 17. 18. 19.]\n",
      "<NDArray 10 @cpu(0)>\n"
     ]
    }
   ],
   "source": [
    "print('A[1] = ', A[1])"
   ]
  },
  {
   "cell_type": "code",
   "execution_count": 11,
   "id": "52781446",
   "metadata": {},
   "outputs": [
    {
     "name": "stdout",
     "output_type": "stream",
     "text": [
      "A[1,:] =  \n",
      "[10. 11. 12. 13. 14. 15. 16. 17. 18. 19.]\n",
      "<NDArray 10 @cpu(0)>\n"
     ]
    }
   ],
   "source": [
    "print('A[1,:] = ', A[1,:])"
   ]
  },
  {
   "cell_type": "code",
   "execution_count": 12,
   "id": "e52e54f3",
   "metadata": {},
   "outputs": [
    {
     "name": "stdout",
     "output_type": "stream",
     "text": [
      "A.T =  \n",
      "[[ 0. 10.]\n",
      " [ 1. 11.]\n",
      " [ 2. 12.]\n",
      " [ 3. 13.]\n",
      " [ 4. 14.]\n",
      " [ 5. 15.]\n",
      " [ 6. 16.]\n",
      " [ 7. 17.]\n",
      " [ 8. 18.]\n",
      " [ 9. 19.]]\n",
      "<NDArray 10x2 @cpu(0)>\n"
     ]
    }
   ],
   "source": [
    "print('A.T = ', A.T)"
   ]
  },
  {
   "cell_type": "markdown",
   "id": "684ebb56",
   "metadata": {},
   "source": [
    "## Subset a matrix\n",
    "\n",
    "slice url \n",
    "\n",
    "https://mxnet.apache.org/versions/master/api/python/docs/api/legacy/ndarray/ndarray.html?highlight=mxnet%20ndarray%20arange#mxnet.ndarray.slice"
   ]
  },
  {
   "cell_type": "code",
   "execution_count": 13,
   "id": "26ac8580",
   "metadata": {},
   "outputs": [
    {
     "name": "stdout",
     "output_type": "stream",
     "text": [
      "four_by_four =  \n",
      "[[ 0.  1.  2.  3.]\n",
      " [ 4.  5.  6.  7.]\n",
      " [ 8.  9. 10. 11.]\n",
      " [12. 13. 14. 15.]]\n",
      "<NDArray 4x4 @cpu(0)>\n"
     ]
    }
   ],
   "source": [
    "four_by_four = nd.arange(16).reshape(4,4)\n",
    "print('four_by_four = ', four_by_four)"
   ]
  },
  {
   "cell_type": "code",
   "execution_count": 14,
   "id": "895d8f00",
   "metadata": {},
   "outputs": [
    {
     "name": "stdout",
     "output_type": "stream",
     "text": [
      "two_by_two =  \n",
      "[[1. 2.]\n",
      " [5. 6.]]\n",
      "<NDArray 2x2 @cpu(0)>\n"
     ]
    }
   ],
   "source": [
    "# when you use the :, its all rows.  But if numbers are on either side its a range, where the end is exclusive.\n",
    "two_by_two = four_by_four[0:2,1:3]\n",
    "print('two_by_two = ', two_by_two)"
   ]
  },
  {
   "cell_type": "code",
   "execution_count": 16,
   "id": "51ed3557",
   "metadata": {},
   "outputs": [
    {
     "name": "stdout",
     "output_type": "stream",
     "text": [
      "another2x2 =  \n",
      "[[ 5.  6.]\n",
      " [ 9. 10.]]\n",
      "<NDArray 2x2 @cpu(0)>\n"
     ]
    }
   ],
   "source": [
    "# you can create a sliced copied\n",
    "another2x2 = four_by_four.slice(begin=(1,1), end=(3,3))\n",
    "print('another2x2 = ', another2x2)"
   ]
  },
  {
   "cell_type": "code",
   "execution_count": null,
   "id": "491913c7",
   "metadata": {},
   "outputs": [],
   "source": []
  },
  {
   "cell_type": "code",
   "execution_count": null,
   "id": "28a8feae",
   "metadata": {},
   "outputs": [],
   "source": []
  },
  {
   "cell_type": "code",
   "execution_count": null,
   "id": "0517b520",
   "metadata": {},
   "outputs": [],
   "source": []
  },
  {
   "cell_type": "code",
   "execution_count": null,
   "id": "19864e1c",
   "metadata": {},
   "outputs": [],
   "source": []
  },
  {
   "cell_type": "markdown",
   "id": "d9d913f2",
   "metadata": {},
   "source": [
    "# Tensors\n",
    "Just as vectors genralize scalars, and matrices generalize vectors, we can increase the number of axes.  When working with images the axes correspond to the height, width and the three RGB color channels."
   ]
  },
  {
   "cell_type": "code",
   "execution_count": 12,
   "id": "7af454f0",
   "metadata": {},
   "outputs": [
    {
     "name": "stdout",
     "output_type": "stream",
     "text": [
      "X =  \n",
      "[[[ 0.  1.  2.  3.]\n",
      "  [ 4.  5.  6.  7.]\n",
      "  [ 8.  9. 10. 11.]]\n",
      "\n",
      " [[12. 13. 14. 15.]\n",
      "  [16. 17. 18. 19.]\n",
      "  [20. 21. 22. 23.]]]\n",
      "<NDArray 2x3x4 @cpu(0)>\n",
      "X.shape =  (2, 3, 4)\n"
     ]
    }
   ],
   "source": [
    "X = nd.arange(24).reshape((2,3,4))  # two submaxtrices of three rows by four columns\n",
    "print('X = ', X)\n",
    "print('X.shape = ', X.shape)\n"
   ]
  },
  {
   "cell_type": "markdown",
   "id": "8d11fc2b",
   "metadata": {},
   "source": [
    "# Basic properties of tensor artihmetic\n",
    "\n",
    "Given two tensors `X` and `Y` with the same shape, $\\alpha X + Y$ has the same shape (numerical mathematicians call this the `AXPY` operation)"
   ]
  },
  {
   "cell_type": "code",
   "execution_count": 13,
   "id": "6019d6d0",
   "metadata": {},
   "outputs": [
    {
     "name": "stdout",
     "output_type": "stream",
     "text": [
      "x.shape =  (3,)\n",
      "y.shape =  (3,)\n",
      "(a * x).shape =  (3,)\n",
      "(a * x + y).shape =  (3,)\n"
     ]
    }
   ],
   "source": [
    "a = 2\n",
    "x = nd.ones(3)\n",
    "y = nd.zeros(3)\n",
    "print('x.shape = ', x.shape)\n",
    "print('y.shape = ', y.shape)\n",
    "print('(a * x).shape = ', (a * x).shape)\n",
    "print('(a * x + y).shape = ', (a * x + y).shape)"
   ]
  },
  {
   "cell_type": "markdown",
   "id": "e4292342",
   "metadata": {},
   "source": [
    "# sums and means\n",
    "In math we express sums using the $\\sum$ symbol.  To express the sum of elements in a vector `u` of length `d`, we can write $\\sum_{i=i}^{i=d}{u_{i}}$   In code, we can just call `nd.sum()`"
   ]
  },
  {
   "cell_type": "code",
   "execution_count": 14,
   "id": "b5ee8347",
   "metadata": {},
   "outputs": [
    {
     "name": "stdout",
     "output_type": "stream",
     "text": [
      "x =  \n",
      "[[ 0.  1.  2.  3.]\n",
      " [ 4.  5.  6.  7.]\n",
      " [ 8.  9. 10. 11.]]\n",
      "<NDArray 3x4 @cpu(0)>\n",
      "nd.sum(x) =  \n",
      "[66.]\n",
      "<NDArray 1 @cpu(0)>\n"
     ]
    }
   ],
   "source": [
    "x = nd.arange(12)\n",
    "x = x.reshape((3,4))\n",
    "print('x = ', x)\n",
    "print('nd.sum(x) = ', nd.sum(x))"
   ]
  },
  {
   "cell_type": "markdown",
   "id": "d4820443",
   "metadata": {},
   "source": [
    "Sum along a row"
   ]
  },
  {
   "cell_type": "code",
   "execution_count": 15,
   "id": "4ba249b4",
   "metadata": {},
   "outputs": [
    {
     "name": "stdout",
     "output_type": "stream",
     "text": [
      "nd.sum(x,0) =  \n",
      "[12. 15. 18. 21.]\n",
      "<NDArray 4 @cpu(0)>\n",
      "nd.sum(x,0) =  \n",
      "[12. 15. 18. 21.]\n",
      "<NDArray 4 @cpu(0)>\n"
     ]
    }
   ],
   "source": [
    "print('nd.sum(x,0) = ', nd.sum(x,0))\n",
    "# or\n",
    "print('nd.sum(x,0) = ', nd.sum(x,axis=0))\n"
   ]
  },
  {
   "cell_type": "markdown",
   "id": "ecff1301",
   "metadata": {},
   "source": [
    "sum along a column"
   ]
  },
  {
   "cell_type": "code",
   "execution_count": 16,
   "id": "51cb00b4",
   "metadata": {},
   "outputs": [
    {
     "name": "stdout",
     "output_type": "stream",
     "text": [
      "nd.sum(x,0) =  \n",
      "[ 6. 22. 38.]\n",
      "<NDArray 3 @cpu(0)>\n",
      "nd.sum(x,0) =  \n",
      "[ 6. 22. 38.]\n",
      "<NDArray 3 @cpu(0)>\n"
     ]
    }
   ],
   "source": [
    "print('nd.sum(x,0) = ', nd.sum(x,axis=1))\n",
    "# or\n",
    "print('nd.sum(x,0) = ', nd.sum(x,1))\n"
   ]
  },
  {
   "cell_type": "markdown",
   "id": "0767ff8b",
   "metadata": {},
   "source": [
    "sum along a row and column"
   ]
  },
  {
   "cell_type": "code",
   "execution_count": 17,
   "id": "e2cab888",
   "metadata": {},
   "outputs": [
    {
     "name": "stdout",
     "output_type": "stream",
     "text": [
      "nd.sum(x,0) =  \n",
      "[66.]\n",
      "<NDArray 1 @cpu(0)>\n"
     ]
    }
   ],
   "source": [
    "print('nd.sum(x,0) = ', nd.sum(x,(0,1)))\n"
   ]
  },
  {
   "cell_type": "markdown",
   "id": "d40bb765",
   "metadata": {},
   "source": [
    "# Mean\n",
    "A related quantity is the mean.  We calculate the mean by dividing the sum by the total number of elements.  In code this is `nd.mean()`\n",
    "\n",
    "$$mean(u) = \\frac{1}{d} \\sum_{i=1}^{i=d} u_{i} $$\n",
    "\n",
    "and\n",
    "\n",
    "$$mean(A) = \\frac{1}{n*m} \\sum_{i=1}^{i=m} \\sum_{j=1}^{j=n} a_{ij} $$"
   ]
  },
  {
   "cell_type": "code",
   "execution_count": 18,
   "id": "dd283e63",
   "metadata": {},
   "outputs": [
    {
     "name": "stdout",
     "output_type": "stream",
     "text": [
      "A =  \n",
      "[[ 0.  1.  2.  3.  4.  5.  6.  7.  8.  9.]\n",
      " [10. 11. 12. 13. 14. 15. 16. 17. 18. 19.]]\n",
      "<NDArray 2x10 @cpu(0)>\n",
      "nd.mean(A) =  \n",
      "[9.5]\n",
      "<NDArray 1 @cpu(0)>\n",
      "nd.sum(A) / A.size =  \n",
      "[9.5]\n",
      "<NDArray 1 @cpu(0)>\n"
     ]
    }
   ],
   "source": [
    "print('A = ', A)\n",
    "print('nd.mean(A) = ', nd.mean(A))\n",
    "print('nd.sum(A) / A.size = ', nd.sum(A) / A.size)"
   ]
  },
  {
   "cell_type": "markdown",
   "id": "af1b4a15",
   "metadata": {},
   "source": [
    "# Dot products\n",
    "\n",
    "Given two vectors `u` and `v`, the dot product $u^Tv$ is a sum over the products of the corresponding elements: $$u^Tv = \\sum_{i=1}^{i=d} u_i * v_i$$"
   ]
  },
  {
   "cell_type": "code",
   "execution_count": 19,
   "id": "e97bd50c",
   "metadata": {},
   "outputs": [
    {
     "name": "stdout",
     "output_type": "stream",
     "text": [
      "x =  \n",
      "[1. 2. 3. 4.]\n",
      "<NDArray 4 @cpu(0)>\n",
      "y =  \n",
      "[1. 1. 1. 1.]\n",
      "<NDArray 4 @cpu(0)>\n",
      "nd.dot(x,y) =  \n",
      "[10.]\n",
      "<NDArray 1 @cpu(0)>\n",
      "(x * y).sum() =  \n",
      "[10.]\n",
      "<NDArray 1 @cpu(0)>\n"
     ]
    }
   ],
   "source": [
    "x = nd.arange(4) + 1.0\n",
    "y = nd.ones(4)\n",
    "print('x = ', x)\n",
    "print('y = ', y)\n",
    "print('nd.dot(x,y) = ', nd.dot(x,y))\n",
    "# also equivalent\n",
    "print('(x * y).sum() = ', (x * y).sum())"
   ]
  },
  {
   "cell_type": "markdown",
   "id": "f49d50e0",
   "metadata": {},
   "source": [
    "Note that we can express the dot product of two vectors `nd.dot(u,v)` equivalently by performing an element-wise multiplicatoins and then a sum:"
   ]
  },
  {
   "cell_type": "code",
   "execution_count": 20,
   "id": "e76c7442",
   "metadata": {},
   "outputs": [
    {
     "data": {
      "text/plain": [
       "\n",
       "[10.]\n",
       "<NDArray 1 @cpu(0)>"
      ]
     },
     "execution_count": 20,
     "metadata": {},
     "output_type": "execute_result"
    }
   ],
   "source": [
    "nd.sum(x * y)"
   ]
  },
  {
   "cell_type": "markdown",
   "id": "d96652a1",
   "metadata": {},
   "source": [
    "# Matrix-vector products\n",
    "\n",
    "\\begin{align}\n",
    "\\begin{vmatrix}\n",
    "a_{11} & a_{12} \\\\\n",
    "a_{21} & a_{22}\n",
    "\\end{vmatrix}\n",
    "\\begin{vmatrix} x \\\\ y \\end{vmatrix} = \n",
    "\\begin{vmatrix}\n",
    "a_1^T x \\\\\n",
    "a_2^T y\n",
    "\\end{vmatrix} = \n",
    "\\begin{vmatrix}\n",
    "x a_{11} + y a_{12} \\\\\n",
    "x a_{12} + y a_{22}\n",
    "\\end{vmatrix}\n",
    "\\end{align}\n",
    "\n",
    "$\\in$ is member of\n",
    "\n",
    "$\\newcommand{\\R}{\\mathbb{R}} \\R$ is real number. all numbers negative and positive including fractions\n",
    "\n",
    "\n",
    "So you can think of multiplication by a matrix $\\newcommand{\\R}{\\mathbb{R}} A\\in\\R^{mxn}$ as trans that projects vectors from $\\R^m to \\R^n$ "
   ]
  },
  {
   "cell_type": "markdown",
   "id": "4863339b",
   "metadata": {},
   "source": [
    "We can also use matrix-vector products to describe the calculations of each layer in a neural network.  Expressing matrix-vector products in code with `ndarray`, we use the same `nd.dot()` function as for dot products."
   ]
  },
  {
   "cell_type": "code",
   "execution_count": 21,
   "id": "d83bb663",
   "metadata": {},
   "outputs": [
    {
     "name": "stdout",
     "output_type": "stream",
     "text": [
      "A =  \n",
      "[[ 0.  1.  2.  3.  4.  5.  6.  7.  8.  9.]\n",
      " [10. 11. 12. 13. 14. 15. 16. 17. 18. 19.]]\n",
      "<NDArray 2x10 @cpu(0)>\n",
      "x =  \n",
      "[1. 2. 3. 4.]\n",
      "<NDArray 4 @cpu(0)>\n",
      "A now is =  \n",
      "[[ 0.  1.  2.  3.]\n",
      " [ 4.  5.  6.  7.]\n",
      " [ 8.  9. 10. 11.]\n",
      " [12. 13. 14. 15.]\n",
      " [16. 17. 18. 19.]]\n",
      "<NDArray 5x4 @cpu(0)>\n",
      "A*x =  \n",
      "[[ 0.  2.  6. 12.]\n",
      " [ 4. 10. 18. 28.]\n",
      " [ 8. 18. 30. 44.]\n",
      " [12. 26. 42. 60.]\n",
      " [16. 34. 54. 76.]]\n",
      "<NDArray 5x4 @cpu(0)>\n",
      "nd.dot(A,x) =  \n",
      "[ 20.  60. 100. 140. 180.]\n",
      "<NDArray 5 @cpu(0)>\n"
     ]
    }
   ],
   "source": [
    "print('A = ', A) # a 2x10\n",
    "print('x = ', x) # a 1x4\n",
    "\n",
    "# He did this.  It does not work for me.  I look in the online help text\n",
    "# and nothing is mentioned about truncating rows. ie. if 4 columns it needs 5 rows\n",
    "# and not three as in his text.  (Another reason to look for the git repo rather than typing along!)\n",
    "#A = A.reshape((3,4))   \n",
    "\n",
    "# later he refers to this as 3x4.  He must have had a 2x6?\n",
    "\n",
    "# My choice\n",
    "A = A.reshape((5,4))\n",
    "print('A now is = ', A)\n",
    "\n",
    "\n",
    "# * is an element by element multiply. it mults X by each row.\n",
    "# first row is 1*0  2*1 3*2 4*3\n",
    "# second row is 1*4 2*5 3*6 4*7 etc\n",
    "print('A*x = ', A*x)\n",
    "\n",
    "# dot is a row sum. Notice its a sum across a row\n",
    "print('nd.dot(A,x) = ', nd.dot(A,x))\n",
    "\n",
    "\n",
    "# \n",
    "# He mentioned matlab .* notation is equivalent to nd *\n",
    "\n",
    "# He also mentions broadcast of repeat entries of X until you get all elements of A.\n"
   ]
  },
  {
   "cell_type": "markdown",
   "id": "15544fc2",
   "metadata": {},
   "source": [
    "# Matrix-Matrix multiplication\n",
    "\n",
    "If you have gotten the hang of dot products and matrix-vector multiplication, then matrix-matrix multiplications should be pretty straight forward.\n",
    "\n",
    "Say we have two matrices, $\\newcommand{\\R}{\\mathbb{R}} A\\in\\R^{nxk}\\, and\\, B\\in\\R^{kxm}$"
   ]
  },
  {
   "cell_type": "markdown",
   "id": "5e8cba7e",
   "metadata": {},
   "source": [
    "\\begin{align}\n",
    "A=\\begin{vmatrix}\n",
    "a_{11} & a_{12} \\\\\n",
    "a_{21} & a_{nk}\n",
    "\\end{vmatrix}\n",
    "B=\\begin{vmatrix}\n",
    "b_{11} & b_{12} \\\\\n",
    "b_{21} & b_{km}\n",
    "\\end{vmatrix}\n",
    "\\end{align}\n"
   ]
  },
  {
   "cell_type": "markdown",
   "id": "70dcbbe5",
   "metadata": {},
   "source": [
    "You can think of the matrix-matrix multiplication $AB$ as simply performing `m` matrix-vector products and stiching the results together. "
   ]
  },
  {
   "cell_type": "markdown",
   "id": "cc25bc0b",
   "metadata": {},
   "source": [
    "\\begin{align}\n",
    "AB=\\begin{vmatrix}\n",
    "\\cdots & a_1^T & \\cdots \\\\\n",
    "\\cdots & a_2^T & \\cdots \\\\\n",
    "\\cdots & a_n^T & \\cdots \n",
    "\\end{vmatrix}\n",
    "\\begin{vmatrix}\n",
    "\\cdots & \\cdots & \\cdots \\\\\n",
    "b_{1} & b_{2} & b_{m} \\\\\n",
    "\\cdots & \\cdots & \\cdots \n",
    "\\end{vmatrix}\n",
    "=\\begin{vmatrix}\n",
    "a_1^Tb_1 & a_1^Tb_2 & .. & a_1^Tb_m \\\\\n",
    "a_2^Tb_1 & a_2^Tb_2 & .. & a_1^Tb_m \\\\\n",
    "a_n^Tb_1 & a_n^Tb_2 & .. & a_n^Tb_m\n",
    "\\end{vmatrix}\n",
    "\\end{align}"
   ]
  },
  {
   "cell_type": "code",
   "execution_count": 22,
   "id": "e536af49",
   "metadata": {},
   "outputs": [
    {
     "name": "stdout",
     "output_type": "stream",
     "text": [
      "A =  \n",
      "[[0. 1.]\n",
      " [2. 3.]]\n",
      "<NDArray 2x2 @cpu(0)>\n",
      "B =  \n",
      "[[1. 2.]\n",
      " [3. 4.]]\n",
      "<NDArray 2x2 @cpu(0)>\n"
     ]
    },
    {
     "data": {
      "text/plain": [
       "\n",
       "[[ 3.  4.]\n",
       " [11. 16.]]\n",
       "<NDArray 2x2 @cpu(0)>"
      ]
     },
     "execution_count": 22,
     "metadata": {},
     "output_type": "execute_result"
    }
   ],
   "source": [
    "A=nd.arange(4).reshape((2,2))\n",
    "print('A = ', A)\n",
    "B=nd.arange(1, stop=5, step=1).reshape((2,2))\n",
    "print('B = ', B)\n",
    "\n",
    "nd.dot(A,B)"
   ]
  },
  {
   "cell_type": "markdown",
   "id": "18525577",
   "metadata": {},
   "source": [
    "# Norms\n",
    "\n",
    "All norms must satisfy a handful of properties:\n",
    "\n",
    "* $  \\left\\Vert  \\alpha A \\right\\Vert = \\begin{vmatrix} \\alpha \\end{vmatrix} \\left\\Vert A \\right\\Vert$\n",
    "* $  \\left\\Vert A + B \\right\\Vert \\leq \\left\\Vert A \\right\\Vert + \\left\\Vert B \\right\\Vert$\n",
    "* $  \\left\\Vert A  \\right\\Vert \\geq 0$\n",
    "* $  \\text{If }\\forall\\,i,j,a_{ij} = 0, then \\left\\Vert A  \\right\\Vert = 0$\n",
    "\n",
    "To calculate the $L_{2}$ norm, we can just call `nd.norm()`"
   ]
  },
  {
   "cell_type": "code",
   "execution_count": 23,
   "id": "fff352e0",
   "metadata": {},
   "outputs": [
    {
     "data": {
      "text/plain": [
       "\n",
       "[5.477226]\n",
       "<NDArray 1 @cpu(0)>"
      ]
     },
     "execution_count": 23,
     "metadata": {},
     "output_type": "execute_result"
    }
   ],
   "source": [
    "nd.norm(x)"
   ]
  },
  {
   "cell_type": "markdown",
   "id": "b76a1060",
   "metadata": {},
   "source": [
    "To calculate the $L_1$ norm we can simply perform the absolute value and then sum over elements.\n",
    "\n",
    "https://mxnet.apache.org/versions/1.6/api/r/docs/api/mx.symbol.sum.html"
   ]
  },
  {
   "cell_type": "code",
   "execution_count": 29,
   "id": "d7ffefc5",
   "metadata": {},
   "outputs": [
    {
     "name": "stdout",
     "output_type": "stream",
     "text": [
      "L1 norm =  \n",
      "[10.]\n",
      "<NDArray 1 @cpu(0)>\n",
      "L1 norm =  \n",
      "[10.]\n",
      "<NDArray 1 @cpu(0)>\n"
     ]
    }
   ],
   "source": [
    "print(\"L1 norm = \", nd.sum(nd.sum(x)))\n",
    "# or\n",
    "print(\"L1 norm = \", x.abs().sum())\n"
   ]
  },
  {
   "cell_type": "code",
   "execution_count": null,
   "id": "a0471d7c",
   "metadata": {},
   "outputs": [],
   "source": []
  }
 ],
 "metadata": {
  "kernelspec": {
   "display_name": "Python 3 (ipykernel)",
   "language": "python",
   "name": "python3"
  },
  "language_info": {
   "codemirror_mode": {
    "name": "ipython",
    "version": 3
   },
   "file_extension": ".py",
   "mimetype": "text/x-python",
   "name": "python",
   "nbconvert_exporter": "python",
   "pygments_lexer": "ipython3",
   "version": "3.7.2"
  }
 },
 "nbformat": 4,
 "nbformat_minor": 5
}
